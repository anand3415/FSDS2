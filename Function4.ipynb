{
 "cells": [
  {
   "cell_type": "code",
   "execution_count": 27,
   "id": "098ba498-0bb5-4c7c-99a4-beea014b85bd",
   "metadata": {},
   "outputs": [],
   "source": [
    "def test1(func):\n",
    "    def test2():\n",
    "        print(\"i am inside test2\")\n",
    "        func()\n",
    "        print(func())\n",
    "        print(\"function executed\")\n",
    "        return func()\n",
    "    return test2"
   ]
  },
  {
   "cell_type": "code",
   "execution_count": 2,
   "id": "154db25a-9372-4cf9-a06b-0e6624e30935",
   "metadata": {},
   "outputs": [],
   "source": [
    "def test3():\n",
    "    return 5+6"
   ]
  },
  {
   "cell_type": "code",
   "execution_count": 3,
   "id": "92a87b52-8d77-4d05-a35d-ef55861df63b",
   "metadata": {},
   "outputs": [
    {
     "data": {
      "text/plain": [
       "11"
      ]
     },
     "execution_count": 3,
     "metadata": {},
     "output_type": "execute_result"
    }
   ],
   "source": [
    "test3()"
   ]
  },
  {
   "cell_type": "code",
   "execution_count": 5,
   "id": "1082665a-6a32-4576-97d3-676a37f6ac4c",
   "metadata": {},
   "outputs": [
    {
     "data": {
      "text/plain": [
       "<function __main__.test1.<locals>.test2()>"
      ]
     },
     "execution_count": 5,
     "metadata": {},
     "output_type": "execute_result"
    }
   ],
   "source": [
    "test1(test3)"
   ]
  },
  {
   "cell_type": "code",
   "execution_count": 8,
   "id": "8e941f49-fb07-4f9c-afbf-680aca2d4e5d",
   "metadata": {},
   "outputs": [],
   "source": [
    "@test1\n",
    "def test3():\n",
    "    print(\"this is my test3\")"
   ]
  },
  {
   "cell_type": "code",
   "execution_count": 9,
   "id": "58645c13-a233-4f75-b780-1781d634fa23",
   "metadata": {},
   "outputs": [
    {
     "name": "stdout",
     "output_type": "stream",
     "text": [
      "i am inside test2\n",
      "this is my test3\n",
      "function executed\n"
     ]
    }
   ],
   "source": [
    "test3()"
   ]
  },
  {
   "cell_type": "code",
   "execution_count": 28,
   "id": "d4e8a3b4-69c3-4cb7-b31d-df328a1dc461",
   "metadata": {},
   "outputs": [],
   "source": [
    "@test1\n",
    "def test4():\n",
    "    return 5+6"
   ]
  },
  {
   "cell_type": "code",
   "execution_count": 17,
   "id": "e3c52f1d-0540-4bf7-ac51-82d9c5fa0fbb",
   "metadata": {},
   "outputs": [
    {
     "name": "stdout",
     "output_type": "stream",
     "text": [
      "i am inside test2\n",
      "11\n",
      "function executed\n"
     ]
    }
   ],
   "source": [
    "test4()"
   ]
  },
  {
   "cell_type": "code",
   "execution_count": 18,
   "id": "594d9c4b-bb0f-4866-b1e3-49a934875e4f",
   "metadata": {},
   "outputs": [
    {
     "name": "stdout",
     "output_type": "stream",
     "text": [
      "i am inside test2\n",
      "11\n",
      "function executed\n"
     ]
    }
   ],
   "source": [
    "a = test4()"
   ]
  },
  {
   "cell_type": "code",
   "execution_count": 19,
   "id": "1dc9560c-a3ca-4c50-8b6b-354f258b01ec",
   "metadata": {},
   "outputs": [],
   "source": [
    "a"
   ]
  },
  {
   "cell_type": "code",
   "execution_count": 20,
   "id": "d15f0f57-3400-47f4-b954-4854c8ba5706",
   "metadata": {},
   "outputs": [
    {
     "name": "stdout",
     "output_type": "stream",
     "text": [
      "None\n"
     ]
    }
   ],
   "source": [
    "print(a)"
   ]
  },
  {
   "cell_type": "code",
   "execution_count": 21,
   "id": "999052bc-905c-4f66-ac6c-6506f79a0b7a",
   "metadata": {},
   "outputs": [
    {
     "name": "stdout",
     "output_type": "stream",
     "text": [
      "i am inside test2\n",
      "11\n",
      "function executed\n"
     ]
    },
    {
     "ename": "TypeError",
     "evalue": "unsupported operand type(s) for +: 'NoneType' and 'int'",
     "output_type": "error",
     "traceback": [
      "\u001b[0;31m---------------------------------------------------------------------------\u001b[0m",
      "\u001b[0;31mTypeError\u001b[0m                                 Traceback (most recent call last)",
      "Cell \u001b[0;32mIn [21], line 1\u001b[0m\n\u001b[0;32m----> 1\u001b[0m \u001b[43mtest4\u001b[49m\u001b[43m(\u001b[49m\u001b[43m)\u001b[49m\u001b[43m \u001b[49m\u001b[38;5;241;43m+\u001b[39;49m\u001b[43m \u001b[49m\u001b[38;5;241;43m12\u001b[39;49m\n",
      "\u001b[0;31mTypeError\u001b[0m: unsupported operand type(s) for +: 'NoneType' and 'int'"
     ]
    }
   ],
   "source": [
    "test4() + 12 #here we trying to use a decorator with test4 and adding 12 so its giving us none data type."
   ]
  },
  {
   "cell_type": "code",
   "execution_count": 22,
   "id": "63cbbbfb-3754-42ca-b9c3-97b0030b4571",
   "metadata": {},
   "outputs": [],
   "source": [
    "def test5():\n",
    "    return 4+5"
   ]
  },
  {
   "cell_type": "code",
   "execution_count": 23,
   "id": "607c1b4f-bd9b-4e51-8e69-859599a5a0d8",
   "metadata": {},
   "outputs": [
    {
     "data": {
      "text/plain": [
       "9"
      ]
     },
     "execution_count": 23,
     "metadata": {},
     "output_type": "execute_result"
    }
   ],
   "source": [
    "test5()"
   ]
  },
  {
   "cell_type": "code",
   "execution_count": 25,
   "id": "58761d53-67b4-450d-b776-817873f384d5",
   "metadata": {},
   "outputs": [
    {
     "data": {
      "text/plain": [
       "int"
      ]
     },
     "execution_count": 25,
     "metadata": {},
     "output_type": "execute_result"
    }
   ],
   "source": [
    "type(test5())"
   ]
  },
  {
   "cell_type": "code",
   "execution_count": 26,
   "id": "4bb183a2-965a-414f-afd2-ac7aa332bc15",
   "metadata": {},
   "outputs": [
    {
     "data": {
      "text/plain": [
       "54"
      ]
     },
     "execution_count": 26,
     "metadata": {},
     "output_type": "execute_result"
    }
   ],
   "source": [
    "test5() + 45 #here the data type is integer so we can add but for decorator we are not able to perform... so"
   ]
  },
  {
   "cell_type": "code",
   "execution_count": 29,
   "id": "542cd452-4eb6-4804-bbb5-e27b01c21565",
   "metadata": {},
   "outputs": [
    {
     "name": "stdout",
     "output_type": "stream",
     "text": [
      "i am inside test2\n",
      "11\n",
      "function executed\n"
     ]
    },
    {
     "data": {
      "text/plain": [
       "11"
      ]
     },
     "execution_count": 29,
     "metadata": {},
     "output_type": "execute_result"
    }
   ],
   "source": [
    "test4()"
   ]
  },
  {
   "cell_type": "code",
   "execution_count": 30,
   "id": "27ff7b69-794e-4695-9451-e3bca406e2f2",
   "metadata": {},
   "outputs": [
    {
     "name": "stdout",
     "output_type": "stream",
     "text": [
      "i am inside test2\n",
      "11\n",
      "function executed\n"
     ]
    },
    {
     "data": {
      "text/plain": [
       "20"
      ]
     },
     "execution_count": 30,
     "metadata": {},
     "output_type": "execute_result"
    }
   ],
   "source": [
    "test4() + 9 #here we just added return func() in the program of test1."
   ]
  },
  {
   "cell_type": "code",
   "execution_count": 31,
   "id": "936941cb-bf76-470b-9739-a8183129569d",
   "metadata": {},
   "outputs": [
    {
     "name": "stdout",
     "output_type": "stream",
     "text": [
      "i am inside test2\n",
      "11\n",
      "function executed\n"
     ]
    },
    {
     "data": {
      "text/plain": [
       "int"
      ]
     },
     "execution_count": 31,
     "metadata": {},
     "output_type": "execute_result"
    }
   ],
   "source": [
    "type(test4())"
   ]
  },
  {
   "cell_type": "code",
   "execution_count": 45,
   "id": "07b32fba-2eea-4b50-a0be-b87a576f9c42",
   "metadata": {},
   "outputs": [],
   "source": [
    "def test6(func):\n",
    "    def test7():\n",
    "        func()\n",
    "        print(func())\n",
    "        print(\"this is my decorator function\")\n",
    "        return func()\n",
    "    return test7"
   ]
  },
  {
   "cell_type": "code",
   "execution_count": 46,
   "id": "9300214a-4ff9-42a0-bda3-f1036406de6a",
   "metadata": {},
   "outputs": [],
   "source": [
    "def test8():\n",
    "    return 5+7"
   ]
  },
  {
   "cell_type": "code",
   "execution_count": 47,
   "id": "384c6427-b4bc-4835-860e-e4118711890c",
   "metadata": {},
   "outputs": [
    {
     "data": {
      "text/plain": [
       "12"
      ]
     },
     "execution_count": 47,
     "metadata": {},
     "output_type": "execute_result"
    }
   ],
   "source": [
    "test8()"
   ]
  },
  {
   "cell_type": "code",
   "execution_count": 35,
   "id": "2e2094fa-f97e-4b46-8913-284069e0a7ae",
   "metadata": {},
   "outputs": [
    {
     "data": {
      "text/plain": [
       "24"
      ]
     },
     "execution_count": 35,
     "metadata": {},
     "output_type": "execute_result"
    }
   ],
   "source": [
    "test8() + 12"
   ]
  },
  {
   "cell_type": "code",
   "execution_count": 39,
   "id": "829aa725-fdfb-42c1-9197-73b3b9a60385",
   "metadata": {},
   "outputs": [],
   "source": [
    "@test6\n",
    "def test8():\n",
    "    return 5+7"
   ]
  },
  {
   "cell_type": "code",
   "execution_count": 40,
   "id": "db216a14-f344-41d9-9142-8ad5f97c08ec",
   "metadata": {},
   "outputs": [
    {
     "name": "stdout",
     "output_type": "stream",
     "text": [
      "12\n",
      "this is my decorator function\n"
     ]
    }
   ],
   "source": [
    "test8()"
   ]
  },
  {
   "cell_type": "code",
   "execution_count": 48,
   "id": "30ee3ea0-01e3-4bc2-8ee7-dcec27815612",
   "metadata": {},
   "outputs": [
    {
     "data": {
      "text/plain": [
       "112"
      ]
     },
     "execution_count": 48,
     "metadata": {},
     "output_type": "execute_result"
    }
   ],
   "source": [
    "test8() + 100 #here we added the return func() in decorator program..."
   ]
  },
  {
   "cell_type": "code",
   "execution_count": 49,
   "id": "e76371bb-7039-4740-a986-ddcf8258e122",
   "metadata": {},
   "outputs": [
    {
     "data": {
      "text/plain": [
       "int"
      ]
     },
     "execution_count": 49,
     "metadata": {},
     "output_type": "execute_result"
    }
   ],
   "source": [
    "type(test8())"
   ]
  },
  {
   "cell_type": "code",
   "execution_count": 58,
   "id": "1917cbde-fd1c-41ff-9970-91fcb8ed8f6f",
   "metadata": {},
   "outputs": [],
   "source": [
    "def test6(func):\n",
    "    def test7(a,b):\n",
    "        func(a,b)\n",
    "        print(func(a,b)) #here we are passing the a,b in this decorator function\n",
    "        print(\"this is my decorator function\")\n",
    "        return func(a,b)\n",
    "    return test7"
   ]
  },
  {
   "cell_type": "code",
   "execution_count": 51,
   "id": "4ea70adf-4ae5-429a-97fa-5571d6597391",
   "metadata": {},
   "outputs": [],
   "source": [
    "def test8(a,b):\n",
    "    return a+b"
   ]
  },
  {
   "cell_type": "code",
   "execution_count": 52,
   "id": "fefd6527-4fe7-44f3-8906-00932c9e5ba4",
   "metadata": {},
   "outputs": [
    {
     "ename": "TypeError",
     "evalue": "test8() missing 2 required positional arguments: 'a' and 'b'",
     "output_type": "error",
     "traceback": [
      "\u001b[0;31m---------------------------------------------------------------------------\u001b[0m",
      "\u001b[0;31mTypeError\u001b[0m                                 Traceback (most recent call last)",
      "Cell \u001b[0;32mIn [52], line 1\u001b[0m\n\u001b[0;32m----> 1\u001b[0m \u001b[43mtest8\u001b[49m\u001b[43m(\u001b[49m\u001b[43m)\u001b[49m\n",
      "\u001b[0;31mTypeError\u001b[0m: test8() missing 2 required positional arguments: 'a' and 'b'"
     ]
    }
   ],
   "source": [
    "test8()"
   ]
  },
  {
   "cell_type": "code",
   "execution_count": 53,
   "id": "9668c9c9-a868-4305-b578-667dfec6c4af",
   "metadata": {},
   "outputs": [
    {
     "data": {
      "text/plain": [
       "'anandjangir'"
      ]
     },
     "execution_count": 53,
     "metadata": {},
     "output_type": "execute_result"
    }
   ],
   "source": [
    "test8(\"anand\" , \"jangir\")"
   ]
  },
  {
   "cell_type": "code",
   "execution_count": 59,
   "id": "6e2a1d25-e36c-4845-a369-1133fff1a034",
   "metadata": {},
   "outputs": [],
   "source": [
    "@test6\n",
    "def test8(a,b):\n",
    "    return a+b"
   ]
  },
  {
   "cell_type": "code",
   "execution_count": 55,
   "id": "6ee11470-d01b-4ffd-82b0-48aa0f9e240e",
   "metadata": {},
   "outputs": [
    {
     "ename": "TypeError",
     "evalue": "test6.<locals>.test7() takes 0 positional arguments but 2 were given",
     "output_type": "error",
     "traceback": [
      "\u001b[0;31m---------------------------------------------------------------------------\u001b[0m",
      "\u001b[0;31mTypeError\u001b[0m                                 Traceback (most recent call last)",
      "Cell \u001b[0;32mIn [55], line 1\u001b[0m\n\u001b[0;32m----> 1\u001b[0m \u001b[43mtest8\u001b[49m\u001b[43m(\u001b[49m\u001b[38;5;124;43m\"\u001b[39;49m\u001b[38;5;124;43manand\u001b[39;49m\u001b[38;5;124;43m\"\u001b[39;49m\u001b[43m \u001b[49m\u001b[43m,\u001b[49m\u001b[43m \u001b[49m\u001b[38;5;124;43m\"\u001b[39;49m\u001b[38;5;124;43mjangir\u001b[39;49m\u001b[38;5;124;43m\"\u001b[39;49m\u001b[43m)\u001b[49m\n",
      "\u001b[0;31mTypeError\u001b[0m: test6.<locals>.test7() takes 0 positional arguments but 2 were given"
     ]
    }
   ],
   "source": [
    "test8(\"anand\" , \"jangir\") #if we are tryimg to pass any argument inside base function we have\n",
    "                          # to pass those arguments in test function or decorator function."
   ]
  },
  {
   "cell_type": "code",
   "execution_count": 60,
   "id": "2b8962f9-9d54-4190-b93f-c9653145de8b",
   "metadata": {},
   "outputs": [
    {
     "name": "stdout",
     "output_type": "stream",
     "text": [
      "anandjangir\n",
      "this is my decorator function\n"
     ]
    },
    {
     "data": {
      "text/plain": [
       "'anandjangir'"
      ]
     },
     "execution_count": 60,
     "metadata": {},
     "output_type": "execute_result"
    }
   ],
   "source": [
    "test8(\"anand\" , \"jangir\") #we passed a,b or anything like c,d in decorator function."
   ]
  },
  {
   "cell_type": "code",
   "execution_count": 61,
   "id": "efb06d4b-b241-4226-a1b1-1e3115af9b76",
   "metadata": {},
   "outputs": [],
   "source": [
    "@test6 #if we are passing 3 arguments.\n",
    "def test8(a,b,c):\n",
    "    return a+b+c"
   ]
  },
  {
   "cell_type": "code",
   "execution_count": 63,
   "id": "8d621ca9-a994-4dd2-8489-7c77f9819659",
   "metadata": {},
   "outputs": [
    {
     "ename": "TypeError",
     "evalue": "test6.<locals>.test7() takes 2 positional arguments but 3 were given",
     "output_type": "error",
     "traceback": [
      "\u001b[0;31m---------------------------------------------------------------------------\u001b[0m",
      "\u001b[0;31mTypeError\u001b[0m                                 Traceback (most recent call last)",
      "Cell \u001b[0;32mIn [63], line 1\u001b[0m\n\u001b[0;32m----> 1\u001b[0m \u001b[43mtest8\u001b[49m\u001b[43m(\u001b[49m\u001b[38;5;124;43m\"\u001b[39;49m\u001b[38;5;124;43manand\u001b[39;49m\u001b[38;5;124;43m\"\u001b[39;49m\u001b[43m \u001b[49m\u001b[43m,\u001b[49m\u001b[43m \u001b[49m\u001b[38;5;124;43m\"\u001b[39;49m\u001b[38;5;124;43mjangir\u001b[39;49m\u001b[38;5;124;43m\"\u001b[39;49m\u001b[43m,\u001b[49m\u001b[43m \u001b[49m\u001b[38;5;124;43m\"\u001b[39;49m\u001b[38;5;124;43mboss\u001b[39;49m\u001b[38;5;124;43m\"\u001b[39;49m\u001b[43m)\u001b[49m\n",
      "\u001b[0;31mTypeError\u001b[0m: test6.<locals>.test7() takes 2 positional arguments but 3 were given"
     ]
    }
   ],
   "source": [
    "test8(\"anand\" , \"jangir\", \"boss\")"
   ]
  },
  {
   "cell_type": "code",
   "execution_count": 67,
   "id": "b884c806-d659-425e-821e-ed0354b58a67",
   "metadata": {},
   "outputs": [],
   "source": [
    "def test6(func):\n",
    "    def test7(*args):\n",
    "        func(*args)\n",
    "        print(func(*args)) #here we are passing the \"*args\" steric function in this decorator function\n",
    "        print(\"this is my decorator function\")\n",
    "        return func(*args)\n",
    "    return test7"
   ]
  },
  {
   "cell_type": "code",
   "execution_count": 68,
   "id": "bd3549d6-4669-45bd-8910-f5e6535f3a46",
   "metadata": {},
   "outputs": [],
   "source": [
    "@test6 #if we are passing 3 arguments. so we can pass \"*args\" steric function inside the decorator function.\n",
    "def test8(a,b,c):\n",
    "    return a+b+c"
   ]
  },
  {
   "cell_type": "code",
   "execution_count": 69,
   "id": "83c7bf3d-ab10-4894-9741-5e1670dce549",
   "metadata": {},
   "outputs": [
    {
     "name": "stdout",
     "output_type": "stream",
     "text": [
      "anandjangirboss\n",
      "this is my decorator function\n"
     ]
    },
    {
     "data": {
      "text/plain": [
       "'anandjangirboss'"
      ]
     },
     "execution_count": 69,
     "metadata": {},
     "output_type": "execute_result"
    }
   ],
   "source": [
    "test8(\"anand\" , \"jangir\", \"boss\")"
   ]
  },
  {
   "cell_type": "code",
   "execution_count": 70,
   "id": "770e494e-53a5-4ce4-84dc-6ce5a3c8a111",
   "metadata": {},
   "outputs": [],
   "source": [
    "# now we can write any number of parameter in this case just passing *args inside the decorator function."
   ]
  },
  {
   "cell_type": "code",
   "execution_count": 74,
   "id": "59775b35-02d9-4754-b57f-b9166ee4f7c9",
   "metadata": {},
   "outputs": [],
   "source": [
    "def test6(func):\n",
    "    def test7(*args, **kwargs):\n",
    "        func(*args, **kwargs)\n",
    "        print(func(*args, **kwargs)) \n",
    "        print(\"this is my decorator function\")\n",
    "        return func(*args, **kwargs)\n",
    "    return test7"
   ]
  },
  {
   "cell_type": "code",
   "execution_count": 75,
   "id": "427f6755-5685-4004-9625-307222ede827",
   "metadata": {},
   "outputs": [],
   "source": [
    "@test6\n",
    "def test9(**kwargs): #here we are adding **kwargs in the decorator function.\n",
    "    return kwargs"
   ]
  },
  {
   "cell_type": "code",
   "execution_count": 76,
   "id": "e3e43123-566a-4871-a6fc-fc09baf7f669",
   "metadata": {},
   "outputs": [
    {
     "name": "stdout",
     "output_type": "stream",
     "text": [
      "{'a': 89, 'b': 67}\n",
      "this is my decorator function\n"
     ]
    },
    {
     "data": {
      "text/plain": [
       "{'a': 89, 'b': 67}"
      ]
     },
     "execution_count": 76,
     "metadata": {},
     "output_type": "execute_result"
    }
   ],
   "source": [
    "test9(a = 89, b = 67)"
   ]
  },
  {
   "cell_type": "code",
   "execution_count": 77,
   "id": "024efe1e-ee09-443e-b9b2-f996ca3a1b94",
   "metadata": {},
   "outputs": [],
   "source": [
    "# try to use *args and **kwargs in decorator function by default in every function."
   ]
  },
  {
   "cell_type": "code",
   "execution_count": 3,
   "id": "23bc5551-0e98-48dc-93b0-04d2db34337c",
   "metadata": {},
   "outputs": [],
   "source": [
    "# Lamba function/ Annonamyus function/ Function without a name:"
   ]
  },
  {
   "cell_type": "code",
   "execution_count": 5,
   "id": "e24d3a63-3d71-4792-b77d-dba66458da11",
   "metadata": {},
   "outputs": [],
   "source": [
    "def test10(a,b):\n",
    "    return a+b"
   ]
  },
  {
   "cell_type": "code",
   "execution_count": 6,
   "id": "3aade163-b1a2-4faa-94a0-68f953fe039e",
   "metadata": {},
   "outputs": [
    {
     "data": {
      "text/plain": [
       "7"
      ]
     },
     "execution_count": 6,
     "metadata": {},
     "output_type": "execute_result"
    }
   ],
   "source": [
    "test10(3,4)"
   ]
  },
  {
   "cell_type": "code",
   "execution_count": 7,
   "id": "bc74d27a-4654-4c68-afaf-dbad7eeac82e",
   "metadata": {},
   "outputs": [
    {
     "data": {
      "text/plain": [
       "'anandjangir'"
      ]
     },
     "execution_count": 7,
     "metadata": {},
     "output_type": "execute_result"
    }
   ],
   "source": [
    "test10(\"anand\", \"jangir\")"
   ]
  },
  {
   "cell_type": "code",
   "execution_count": 11,
   "id": "8e396072-e08a-414b-b829-dded258f3105",
   "metadata": {},
   "outputs": [],
   "source": [
    "c = lambda a , b : a+b"
   ]
  },
  {
   "cell_type": "code",
   "execution_count": 9,
   "id": "3db8c557-3aba-444d-b1b1-486c106fb842",
   "metadata": {},
   "outputs": [
    {
     "data": {
      "text/plain": [
       "<function __main__.test10(a, b)>"
      ]
     },
     "execution_count": 9,
     "metadata": {},
     "output_type": "execute_result"
    }
   ],
   "source": [
    "test10 #both lambda and test10 function having same signature"
   ]
  },
  {
   "cell_type": "code",
   "execution_count": 13,
   "id": "370317ee-124e-4cdd-9e88-ef3fc26f4675",
   "metadata": {},
   "outputs": [
    {
     "data": {
      "text/plain": [
       "'anand jangir'"
      ]
     },
     "execution_count": 13,
     "metadata": {},
     "output_type": "execute_result"
    }
   ],
   "source": [
    "c(\"anand\", \" jangir\")"
   ]
  },
  {
   "cell_type": "code",
   "execution_count": 14,
   "id": "5689a2b3-aaa9-4603-b334-435cd12098fc",
   "metadata": {},
   "outputs": [],
   "source": [
    "# To create annonymus kind of function we use lambda."
   ]
  },
  {
   "cell_type": "code",
   "execution_count": 15,
   "id": "e931a74d-f730-44a3-8d09-c7541c8b3875",
   "metadata": {},
   "outputs": [],
   "source": [
    "d = lambda a, b, c, d : a*b+c/d"
   ]
  },
  {
   "cell_type": "code",
   "execution_count": 16,
   "id": "766808c5-f728-4c30-957d-1fc577d4f512",
   "metadata": {},
   "outputs": [
    {
     "data": {
      "text/plain": [
       "12.833333333333334"
      ]
     },
     "execution_count": 16,
     "metadata": {},
     "output_type": "execute_result"
    }
   ],
   "source": [
    "d(3,4,5,6)"
   ]
  },
  {
   "cell_type": "code",
   "execution_count": 17,
   "id": "9c4daf53-2615-4d4b-bb0b-91f20f8bc262",
   "metadata": {},
   "outputs": [],
   "source": [
    "e = lambda *args : args"
   ]
  },
  {
   "cell_type": "code",
   "execution_count": 18,
   "id": "3b11f1af-c4e1-44e9-b236-b896b5d477c0",
   "metadata": {},
   "outputs": [
    {
     "data": {
      "text/plain": [
       "()"
      ]
     },
     "execution_count": 18,
     "metadata": {},
     "output_type": "execute_result"
    }
   ],
   "source": [
    "e()"
   ]
  },
  {
   "cell_type": "code",
   "execution_count": 19,
   "id": "3fb32a0a-0abd-4cc8-b8fa-4d819e7d3295",
   "metadata": {},
   "outputs": [
    {
     "data": {
      "text/plain": [
       "(3, 4, 5)"
      ]
     },
     "execution_count": 19,
     "metadata": {},
     "output_type": "execute_result"
    }
   ],
   "source": [
    "e(3,4,5)"
   ]
  },
  {
   "cell_type": "code",
   "execution_count": 21,
   "id": "ee764329-cfa8-435b-a2ab-22f4380171cb",
   "metadata": {},
   "outputs": [],
   "source": [
    "# map():"
   ]
  },
  {
   "cell_type": "code",
   "execution_count": 23,
   "id": "aab8ffdf-86d6-45d3-bf4b-50abdddb619f",
   "metadata": {},
   "outputs": [],
   "source": [
    "l = [1,2,3,4,5,6,7] #inn every element add 10 in this list?"
   ]
  },
  {
   "cell_type": "code",
   "execution_count": 24,
   "id": "008c2d88-0759-449b-a9fc-0dea8908192a",
   "metadata": {},
   "outputs": [],
   "source": [
    "l1 = []\n",
    "for i in l:\n",
    "    l1.append(i+10)"
   ]
  },
  {
   "cell_type": "code",
   "execution_count": 25,
   "id": "df76e8b6-9218-4116-8034-dbff3db0e544",
   "metadata": {},
   "outputs": [
    {
     "data": {
      "text/plain": [
       "[11, 12, 13, 14, 15, 16, 17]"
      ]
     },
     "execution_count": 25,
     "metadata": {},
     "output_type": "execute_result"
    }
   ],
   "source": [
    "l1"
   ]
  },
  {
   "cell_type": "code",
   "execution_count": null,
   "id": "86d1f3ab-17ed-49c4-a5f8-51a1559c17a2",
   "metadata": {},
   "outputs": [],
   "source": [
    "# different approach using map():"
   ]
  },
  {
   "cell_type": "code",
   "execution_count": 26,
   "id": "2c68d680-958d-48a3-a7fa-ee15998654e3",
   "metadata": {},
   "outputs": [],
   "source": [
    "# 1 approach\n",
    "def test14(a):\n",
    "    return a + 10"
   ]
  },
  {
   "cell_type": "code",
   "execution_count": 28,
   "id": "d1aba2fb-5e4a-4383-a30e-91dcc3e56939",
   "metadata": {},
   "outputs": [
    {
     "data": {
      "text/plain": [
       "[11, 12, 13, 14, 15, 16, 17]"
      ]
     },
     "execution_count": 28,
     "metadata": {},
     "output_type": "execute_result"
    }
   ],
   "source": [
    "list(map(test14, l))"
   ]
  },
  {
   "cell_type": "code",
   "execution_count": 29,
   "id": "b9f5a448-ba0b-4ffa-b80f-eab62e59fa2c",
   "metadata": {},
   "outputs": [
    {
     "data": {
      "text/plain": [
       "[11, 12, 13, 14, 15, 16, 17]"
      ]
     },
     "execution_count": 29,
     "metadata": {},
     "output_type": "execute_result"
    }
   ],
   "source": [
    "# 2 approach\n",
    "list(map(lambda a : a+10 , l))"
   ]
  },
  {
   "cell_type": "code",
   "execution_count": 30,
   "id": "0e3413cd-3ee0-484d-ab23-e9708c39a5a2",
   "metadata": {},
   "outputs": [],
   "source": [
    "# 3 approach\n",
    "n = lambda a : a+10"
   ]
  },
  {
   "cell_type": "code",
   "execution_count": 31,
   "id": "17e225db-e099-42c0-afaf-fd27532e9be6",
   "metadata": {},
   "outputs": [
    {
     "data": {
      "text/plain": [
       "[11, 12, 13, 14, 15, 16, 17]"
      ]
     },
     "execution_count": 31,
     "metadata": {},
     "output_type": "execute_result"
    }
   ],
   "source": [
    "list(map(n,l))"
   ]
  },
  {
   "cell_type": "code",
   "execution_count": 32,
   "id": "f1f7fce9-b3b8-4801-a38e-0403c5863365",
   "metadata": {},
   "outputs": [],
   "source": [
    "# map is just trying to do the mapping or one to one mapping."
   ]
  },
  {
   "cell_type": "code",
   "execution_count": 33,
   "id": "10e8c605-3bf0-42a7-89f6-7743f59d2a59",
   "metadata": {},
   "outputs": [],
   "source": [
    "l = [\"anand\", \"jangir\", \"ineuron\"] # convert all these into upperr case statement?"
   ]
  },
  {
   "cell_type": "code",
   "execution_count": 35,
   "id": "1ac5f0e0-789c-4e26-a600-13ab6efb4697",
   "metadata": {},
   "outputs": [
    {
     "data": {
      "text/plain": [
       "['ANAND', 'JANGIR', 'INEURON']"
      ]
     },
     "execution_count": 35,
     "metadata": {},
     "output_type": "execute_result"
    }
   ],
   "source": [
    "list(map(lambda a : a.upper(), l))"
   ]
  },
  {
   "cell_type": "code",
   "execution_count": 37,
   "id": "52a83453-3c97-441f-94ff-731e6933c015",
   "metadata": {},
   "outputs": [],
   "source": [
    "l1 = []\n",
    "for i in l:\n",
    "    l1.append(i.upper())\n",
    "    "
   ]
  },
  {
   "cell_type": "code",
   "execution_count": 38,
   "id": "ef4a4e80-d3c1-4691-9207-103fcead48ba",
   "metadata": {},
   "outputs": [
    {
     "data": {
      "text/plain": [
       "['ANAND', 'JANGIR', 'INEURON']"
      ]
     },
     "execution_count": 38,
     "metadata": {},
     "output_type": "execute_result"
    }
   ],
   "source": [
    "l1"
   ]
  },
  {
   "cell_type": "code",
   "execution_count": 40,
   "id": "d28347b4-3c97-4cba-a875-6261e9faeff4",
   "metadata": {},
   "outputs": [
    {
     "data": {
      "text/plain": [
       "['ANAND', 'JANGIR', 'INEURON']"
      ]
     },
     "execution_count": 40,
     "metadata": {},
     "output_type": "execute_result"
    }
   ],
   "source": [
    "list(map(str.upper,l))"
   ]
  },
  {
   "cell_type": "code",
   "execution_count": 41,
   "id": "a40c6e6c-181c-46b2-9cd2-7dae71321450",
   "metadata": {},
   "outputs": [],
   "source": [
    "def string(a):\n",
    "    return a.upper()"
   ]
  },
  {
   "cell_type": "code",
   "execution_count": 42,
   "id": "284c53b1-e6c3-464b-8f3f-02f680d1386a",
   "metadata": {},
   "outputs": [
    {
     "data": {
      "text/plain": [
       "['ANAND', 'JANGIR', 'INEURON']"
      ]
     },
     "execution_count": 42,
     "metadata": {},
     "output_type": "execute_result"
    }
   ],
   "source": [
    "list(map(string , l))"
   ]
  },
  {
   "cell_type": "code",
   "execution_count": 43,
   "id": "5ee7bae2-de9b-4ceb-8291-aeca08f367c9",
   "metadata": {},
   "outputs": [
    {
     "data": {
      "text/plain": [
       "['anand', 'jangir', 'ineuron']"
      ]
     },
     "execution_count": 43,
     "metadata": {},
     "output_type": "execute_result"
    }
   ],
   "source": [
    "l"
   ]
  },
  {
   "cell_type": "code",
   "execution_count": 44,
   "id": "c2430775-a213-47b1-846e-c628e4d56de3",
   "metadata": {},
   "outputs": [],
   "source": [
    "# give me a list which will be having length of each and every string?"
   ]
  },
  {
   "cell_type": "code",
   "execution_count": 45,
   "id": "886f84e8-db92-4811-891d-1bb985e9e3ec",
   "metadata": {},
   "outputs": [
    {
     "data": {
      "text/plain": [
       "[5, 6, 7]"
      ]
     },
     "execution_count": 45,
     "metadata": {},
     "output_type": "execute_result"
    }
   ],
   "source": [
    "list(map(lambda a: len(a), l))"
   ]
  },
  {
   "cell_type": "code",
   "execution_count": 46,
   "id": "495935f3-4885-4d57-b4a6-e00573f1d9c8",
   "metadata": {},
   "outputs": [
    {
     "data": {
      "text/plain": [
       "[5, 6, 7]"
      ]
     },
     "execution_count": 46,
     "metadata": {},
     "output_type": "execute_result"
    }
   ],
   "source": [
    "list(map(len,l)) #here len itself is a function so we write it directly."
   ]
  },
  {
   "cell_type": "code",
   "execution_count": 47,
   "id": "a5781e3e-782f-4fe9-ae26-007270ce6a47",
   "metadata": {},
   "outputs": [],
   "source": [
    "def anand(a):\n",
    "    return len(a)"
   ]
  },
  {
   "cell_type": "code",
   "execution_count": 48,
   "id": "9719c8b3-3a86-44a1-b894-de5987aee1cc",
   "metadata": {},
   "outputs": [
    {
     "data": {
      "text/plain": [
       "[5, 6, 7]"
      ]
     },
     "execution_count": 48,
     "metadata": {},
     "output_type": "execute_result"
    }
   ],
   "source": [
    "list(map(anand,l))"
   ]
  },
  {
   "cell_type": "code",
   "execution_count": null,
   "id": "c6e12e58-f338-4b9c-9c7d-5ce00a975640",
   "metadata": {},
   "outputs": [],
   "source": [
    "l = [\"aman\", \"jangir\" , \"pooja\"]"
   ]
  },
  {
   "cell_type": "code",
   "execution_count": null,
   "id": "1ebca6b0-cbb5-4737-9f1d-2430ea3ee1c8",
   "metadata": {},
   "outputs": [
    {
     "name": "stdout",
     "output_type": "stream",
     "text": [
      "['AMAN', 'JANGIR', 'POOJA']\n",
      "[4, 6, 5]\n"
     ]
    }
   ],
   "source": [
    "print([i.upper() for i in l])\n",
    "print([len(i) for i in l])"
   ]
  },
  {
   "cell_type": "code",
   "execution_count": 52,
   "id": "dcb5a708-e6df-4155-b568-e49fcdf7b3f4",
   "metadata": {},
   "outputs": [
    {
     "name": "stdout",
     "output_type": "stream",
     "text": [
      "['AMAN', 'JANGIR', 'POOJA']\n"
     ]
    }
   ],
   "source": [
    "print([i.upper() for i in l])"
   ]
  },
  {
   "cell_type": "code",
   "execution_count": 53,
   "id": "ed67b3a1-75ac-440e-918f-be34e31acbeb",
   "metadata": {},
   "outputs": [
    {
     "name": "stdout",
     "output_type": "stream",
     "text": [
      "[4, 6, 5]\n"
     ]
    }
   ],
   "source": [
    "print([len(i) for i in l])"
   ]
  },
  {
   "cell_type": "code",
   "execution_count": 54,
   "id": "b7160491-395c-46bf-ae4f-27eb842b07af",
   "metadata": {},
   "outputs": [],
   "source": [
    "l = [1,2,3,4,5,6,7,8]\n",
    "# filter out all even no.  from this list?"
   ]
  },
  {
   "cell_type": "code",
   "execution_count": 65,
   "id": "d8148172-2dcd-4c0e-9679-ba227f670d83",
   "metadata": {},
   "outputs": [],
   "source": [
    "l1 = []\n",
    "for i in l:\n",
    "    if i % 2 == 0:\n",
    "        l1.append(i)"
   ]
  },
  {
   "cell_type": "code",
   "execution_count": 66,
   "id": "aa903663-b060-4b4a-a1b0-a41559895154",
   "metadata": {},
   "outputs": [
    {
     "data": {
      "text/plain": [
       "[2, 4, 6, 8]"
      ]
     },
     "execution_count": 66,
     "metadata": {},
     "output_type": "execute_result"
    }
   ],
   "source": [
    "l1"
   ]
  },
  {
   "cell_type": "code",
   "execution_count": 68,
   "id": "6bc314d8-9cf5-4b85-b6f3-7c4df9bd9d6e",
   "metadata": {},
   "outputs": [
    {
     "data": {
      "text/plain": [
       "[2, 4, 6, 8]"
      ]
     },
     "execution_count": 68,
     "metadata": {},
     "output_type": "execute_result"
    }
   ],
   "source": [
    "[i for i in l if i%2 == 0]"
   ]
  },
  {
   "cell_type": "code",
   "execution_count": 3,
   "id": "3568dfa3-8300-486d-a7b1-cb406e39f85f",
   "metadata": {},
   "outputs": [],
   "source": [
    "l = [1,2,3,4,5,6,7,8]\n",
    "def test24(a):\n",
    "    l = []\n",
    "    if type(a) == list :\n",
    "        for i in a:\n",
    "            if i % 2 == 0:\n",
    "                l.append(i)\n",
    "    return l"
   ]
  },
  {
   "cell_type": "code",
   "execution_count": 4,
   "id": "1bf77c1a-3843-457c-ac0a-055350fc7032",
   "metadata": {},
   "outputs": [
    {
     "data": {
      "text/plain": [
       "[2, 4, 6, 8]"
      ]
     },
     "execution_count": 4,
     "metadata": {},
     "output_type": "execute_result"
    }
   ],
   "source": [
    "test24(l)"
   ]
  },
  {
   "cell_type": "code",
   "execution_count": 7,
   "id": "4e58db2d-f25c-47e2-a07c-5f326856d111",
   "metadata": {},
   "outputs": [],
   "source": [
    "#we cant use map because it maps with every element."
   ]
  },
  {
   "cell_type": "code",
   "execution_count": 12,
   "id": "95cfaca4-8c27-4eb8-a8d0-a730201b29f5",
   "metadata": {},
   "outputs": [],
   "source": [
    "# filter():\n",
    "\n",
    "a = lambda a : a if a%2 == 0 else None"
   ]
  },
  {
   "cell_type": "code",
   "execution_count": 13,
   "id": "c0c13587-b7f2-4988-b872-fe517dadf3e0",
   "metadata": {},
   "outputs": [
    {
     "data": {
      "text/plain": [
       "[2, 4, 6, 8]"
      ]
     },
     "execution_count": 13,
     "metadata": {},
     "output_type": "execute_result"
    }
   ],
   "source": [
    "list(filter(a , l))"
   ]
  },
  {
   "cell_type": "code",
   "execution_count": 14,
   "id": "51defeb7-8646-4cd2-8925-03b828fe383c",
   "metadata": {},
   "outputs": [],
   "source": [
    "def test25(a):\n",
    "    if a%2 == 0:\n",
    "        return True\n",
    "    else:\n",
    "        return False"
   ]
  },
  {
   "cell_type": "code",
   "execution_count": 15,
   "id": "9e75883e-95ee-4edb-b09b-d3807c89b9ab",
   "metadata": {},
   "outputs": [
    {
     "data": {
      "text/plain": [
       "True"
      ]
     },
     "execution_count": 15,
     "metadata": {},
     "output_type": "execute_result"
    }
   ],
   "source": [
    "test25(32)"
   ]
  },
  {
   "cell_type": "code",
   "execution_count": 16,
   "id": "028d77ba-1e48-4372-b865-77002c0c7076",
   "metadata": {},
   "outputs": [
    {
     "data": {
      "text/plain": [
       "False"
      ]
     },
     "execution_count": 16,
     "metadata": {},
     "output_type": "execute_result"
    }
   ],
   "source": [
    "test25(35)"
   ]
  },
  {
   "cell_type": "code",
   "execution_count": 17,
   "id": "42960c09-4beb-40c2-beae-ac389913f15f",
   "metadata": {},
   "outputs": [
    {
     "data": {
      "text/plain": [
       "[2, 4, 6, 8]"
      ]
     },
     "execution_count": 17,
     "metadata": {},
     "output_type": "execute_result"
    }
   ],
   "source": [
    "list(filter(test25,l))"
   ]
  },
  {
   "cell_type": "code",
   "execution_count": 18,
   "id": "73cf6aeb-efeb-4fd3-b3f3-b2f5740e2322",
   "metadata": {},
   "outputs": [],
   "source": [
    "# filter alwys works on boolean value. like if a function is giving you boolean value like \n",
    "# True or false than it will give you the filtered value."
   ]
  },
  {
   "cell_type": "code",
   "execution_count": 19,
   "id": "b2cf48d3-e586-493b-8de2-fe1999a574f3",
   "metadata": {},
   "outputs": [],
   "source": [
    "# Reduce():\n"
   ]
  },
  {
   "cell_type": "code",
   "execution_count": 20,
   "id": "fdaddf4f-908f-4c04-8a23-21c47ea2330b",
   "metadata": {},
   "outputs": [],
   "source": [
    "l = [1,2,3,4,5,6,7,8] # give summation of entire function?"
   ]
  },
  {
   "cell_type": "code",
   "execution_count": 24,
   "id": "19c78528-0ffb-455d-800b-1933431407c8",
   "metadata": {},
   "outputs": [
    {
     "data": {
      "text/plain": [
       "36"
      ]
     },
     "execution_count": 24,
     "metadata": {},
     "output_type": "execute_result"
    }
   ],
   "source": [
    "sum(l)"
   ]
  },
  {
   "cell_type": "code",
   "execution_count": 25,
   "id": "ca71337e-00ed-40bf-af84-dc1e7b99a0f7",
   "metadata": {},
   "outputs": [
    {
     "data": {
      "text/plain": [
       "[1, 2, 3, 4, 5, 6, 7, 8]"
      ]
     },
     "execution_count": 25,
     "metadata": {},
     "output_type": "execute_result"
    }
   ],
   "source": [
    "l"
   ]
  },
  {
   "cell_type": "code",
   "execution_count": 26,
   "id": "58b05b2b-8533-40ca-8cc6-717eb1680599",
   "metadata": {},
   "outputs": [],
   "source": [
    "# give multiplicattion of this list?\n",
    "\n",
    "from functools import reduce"
   ]
  },
  {
   "cell_type": "code",
   "execution_count": 27,
   "id": "bf9fc257-c6a8-49f7-be4b-8997fbf9abb7",
   "metadata": {},
   "outputs": [
    {
     "data": {
      "text/plain": [
       "40320"
      ]
     },
     "execution_count": 27,
     "metadata": {},
     "output_type": "execute_result"
    }
   ],
   "source": [
    "reduce(lambda a,b: a*b ,l)"
   ]
  },
  {
   "cell_type": "code",
   "execution_count": 28,
   "id": "2bf9cd34-475b-4f9a-a0e7-f7f829e5ba21",
   "metadata": {},
   "outputs": [
    {
     "ename": "TypeError",
     "evalue": "<lambda>() missing 1 required positional argument: 'c'",
     "output_type": "error",
     "traceback": [
      "\u001b[0;31m---------------------------------------------------------------------------\u001b[0m",
      "\u001b[0;31mTypeError\u001b[0m                                 Traceback (most recent call last)",
      "Cell \u001b[0;32mIn [28], line 1\u001b[0m\n\u001b[0;32m----> 1\u001b[0m \u001b[43mreduce\u001b[49m\u001b[43m(\u001b[49m\u001b[38;5;28;43;01mlambda\u001b[39;49;00m\u001b[43m \u001b[49m\u001b[43ma\u001b[49m\u001b[43m,\u001b[49m\u001b[43mb\u001b[49m\u001b[43m,\u001b[49m\u001b[43mc\u001b[49m\u001b[43m:\u001b[49m\u001b[43m \u001b[49m\u001b[43ma\u001b[49m\u001b[38;5;241;43m*\u001b[39;49m\u001b[43mb\u001b[49m\u001b[38;5;241;43m*\u001b[39;49m\u001b[43mc\u001b[49m\u001b[43m \u001b[49m\u001b[43m,\u001b[49m\u001b[43ml\u001b[49m\u001b[43m)\u001b[49m\n",
      "\u001b[0;31mTypeError\u001b[0m: <lambda>() missing 1 required positional argument: 'c'"
     ]
    }
   ],
   "source": [
    "reduce(lambda a,b,c: a*b*c ,l) \n",
    "#this pair will not work in every situation thatswhy we should alwys take 2 arguments ij reduce()."
   ]
  },
  {
   "cell_type": "code",
   "execution_count": 30,
   "id": "f48bf1af-9238-4dcb-a9d7-5b9487fc33be",
   "metadata": {},
   "outputs": [
    {
     "data": {
      "text/plain": [
       "[1, 2, 3, 4, 5, 6, 7, 8]"
      ]
     },
     "execution_count": 30,
     "metadata": {},
     "output_type": "execute_result"
    }
   ],
   "source": [
    "l"
   ]
  },
  {
   "cell_type": "code",
   "execution_count": 31,
   "id": "5ebda3bb-2112-49bc-8085-a4f4894f77a2",
   "metadata": {},
   "outputs": [
    {
     "data": {
      "text/plain": [
       "3"
      ]
     },
     "execution_count": 31,
     "metadata": {},
     "output_type": "execute_result"
    }
   ],
   "source": [
    "l1 = [3]\n",
    "reduce(lambda a,b : a*b, l1)"
   ]
  },
  {
   "cell_type": "code",
   "execution_count": 34,
   "id": "4beaa8b4-cfaa-4fdf-bc7a-a91f4ce78c6d",
   "metadata": {},
   "outputs": [],
   "source": [
    "def test26() -> int:\n",
    "    \"\"\"this is my doc string to give you an hint to next programmer\"\"\"\n",
    "    return \"this is my func\""
   ]
  },
  {
   "cell_type": "code",
   "execution_count": 35,
   "id": "faadf8e3-d5f2-42fb-bf9e-36e52b4ada98",
   "metadata": {},
   "outputs": [
    {
     "data": {
      "text/plain": [
       "'this is my func'"
      ]
     },
     "execution_count": 35,
     "metadata": {},
     "output_type": "execute_result"
    }
   ],
   "source": [
    "test26()"
   ]
  },
  {
   "cell_type": "code",
   "execution_count": 38,
   "id": "eb5f2a09-ad9c-469f-ac1f-195b99298ae8",
   "metadata": {},
   "outputs": [],
   "source": [
    "def test26(a : int, b : \"func\", c:int = 234) -> int:\n",
    "    \"\"\"this is my doc string to give you an hint to next programmer\"\"\"\n",
    "    return a+b+ str(c)"
   ]
  },
  {
   "cell_type": "code",
   "execution_count": 37,
   "id": "ee0e5d32-babc-494f-84cb-5e52a6a63247",
   "metadata": {},
   "outputs": [
    {
     "data": {
      "text/plain": [
       "'anandkumar345'"
      ]
     },
     "execution_count": 37,
     "metadata": {},
     "output_type": "execute_result"
    }
   ],
   "source": [
    "test26(\"anand\", \"kumar\", 345)"
   ]
  },
  {
   "cell_type": "code",
   "execution_count": null,
   "id": "d38c5b1d-14ec-4f25-9bac-3dbce87bf692",
   "metadata": {},
   "outputs": [],
   "source": []
  }
 ],
 "metadata": {
  "kernelspec": {
   "display_name": "Python 3 (ipykernel)",
   "language": "python",
   "name": "python3"
  },
  "language_info": {
   "codemirror_mode": {
    "name": "ipython",
    "version": 3
   },
   "file_extension": ".py",
   "mimetype": "text/x-python",
   "name": "python",
   "nbconvert_exporter": "python",
   "pygments_lexer": "ipython3",
   "version": "3.10.6"
  }
 },
 "nbformat": 4,
 "nbformat_minor": 5
}
