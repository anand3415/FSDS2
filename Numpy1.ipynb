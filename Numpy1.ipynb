{
 "cells": [
  {
   "cell_type": "code",
   "execution_count": 2,
   "id": "bad29c05-12e7-4e16-a958-ae40f9172e48",
   "metadata": {},
   "outputs": [],
   "source": [
    "# \"numpy\"-- number pyhton."
   ]
  },
  {
   "cell_type": "code",
   "execution_count": 4,
   "id": "4adcb45c-be35-4e77-9168-c3dbed4e60f1",
   "metadata": {},
   "outputs": [],
   "source": [
    "import numpy as np"
   ]
  },
  {
   "cell_type": "code",
   "execution_count": 4,
   "id": "fde7f8d9-0f78-4961-8f08-cc8d66f64e22",
   "metadata": {},
   "outputs": [],
   "source": [
    "l = [1,2,3,4,4]"
   ]
  },
  {
   "cell_type": "code",
   "execution_count": 5,
   "id": "2d95535b-3eb6-4265-a415-263be8ae50a1",
   "metadata": {},
   "outputs": [
    {
     "data": {
      "text/plain": [
       "list"
      ]
     },
     "execution_count": 5,
     "metadata": {},
     "output_type": "execute_result"
    }
   ],
   "source": [
    "type(l)"
   ]
  },
  {
   "cell_type": "code",
   "execution_count": 6,
   "id": "7edbccf4-154f-440d-82e6-ac1514965fe1",
   "metadata": {},
   "outputs": [],
   "source": [
    "a = np.array(l)"
   ]
  },
  {
   "cell_type": "code",
   "execution_count": 7,
   "id": "e1b62d5e-515d-4efe-8222-4b12915db5ac",
   "metadata": {},
   "outputs": [
    {
     "data": {
      "text/plain": [
       "array([1, 2, 3, 4, 4])"
      ]
     },
     "execution_count": 7,
     "metadata": {},
     "output_type": "execute_result"
    }
   ],
   "source": [
    "a"
   ]
  },
  {
   "cell_type": "code",
   "execution_count": 8,
   "id": "0ce375a4-a2cf-4a0a-a9d4-2dc21f02084e",
   "metadata": {},
   "outputs": [
    {
     "data": {
      "text/plain": [
       "numpy.ndarray"
      ]
     },
     "execution_count": 8,
     "metadata": {},
     "output_type": "execute_result"
    }
   ],
   "source": [
    "type(a)"
   ]
  },
  {
   "cell_type": "code",
   "execution_count": 9,
   "id": "3b0bc52d-b3fd-4412-bbdb-579875ae85ea",
   "metadata": {},
   "outputs": [],
   "source": [
    "a1 = np.array([[1,2,3] , [3,4,5]])"
   ]
  },
  {
   "cell_type": "code",
   "execution_count": 10,
   "id": "ebf7c8f2-3ba6-404c-98ec-e9d5c78238c4",
   "metadata": {},
   "outputs": [
    {
     "data": {
      "text/plain": [
       "array([[1, 2, 3],\n",
       "       [3, 4, 5]])"
      ]
     },
     "execution_count": 10,
     "metadata": {},
     "output_type": "execute_result"
    }
   ],
   "source": [
    "a1"
   ]
  },
  {
   "cell_type": "code",
   "execution_count": 11,
   "id": "2101759f-646e-4820-a277-c884b6f54bac",
   "metadata": {},
   "outputs": [],
   "source": [
    "a2 = np.array([[[1,2,3],[4,5,6]]])"
   ]
  },
  {
   "cell_type": "code",
   "execution_count": 12,
   "id": "eb45fee9-a846-46a8-b9af-bb8c787e2116",
   "metadata": {},
   "outputs": [
    {
     "data": {
      "text/plain": [
       "array([[[1, 2, 3],\n",
       "        [4, 5, 6]]])"
      ]
     },
     "execution_count": 12,
     "metadata": {},
     "output_type": "execute_result"
    }
   ],
   "source": [
    "a2"
   ]
  },
  {
   "cell_type": "code",
   "execution_count": 13,
   "id": "7016050f-e977-40e7-bcad-eebdbaec2bd2",
   "metadata": {},
   "outputs": [
    {
     "data": {
      "text/plain": [
       "1"
      ]
     },
     "execution_count": 13,
     "metadata": {},
     "output_type": "execute_result"
    }
   ],
   "source": [
    "a.ndim # ndim --- dimension"
   ]
  },
  {
   "cell_type": "code",
   "execution_count": 14,
   "id": "a9e070fb-1fcb-46dd-b032-1a40766f3b23",
   "metadata": {},
   "outputs": [
    {
     "data": {
      "text/plain": [
       "2"
      ]
     },
     "execution_count": 14,
     "metadata": {},
     "output_type": "execute_result"
    }
   ],
   "source": [
    "a1.ndim # no. [] present the number of dimensions"
   ]
  },
  {
   "cell_type": "code",
   "execution_count": 15,
   "id": "71d20e5d-2812-4550-ad77-0cc9c97245a7",
   "metadata": {},
   "outputs": [
    {
     "data": {
      "text/plain": [
       "3"
      ]
     },
     "execution_count": 15,
     "metadata": {},
     "output_type": "execute_result"
    }
   ],
   "source": [
    "a2.ndim"
   ]
  },
  {
   "cell_type": "code",
   "execution_count": 21,
   "id": "432776bc-4767-4387-8abf-5201ece124e9",
   "metadata": {},
   "outputs": [],
   "source": [
    "a3 = np.array([[[1,2,3],[4,0.5,6]],[[1,2,3],[4,0.5,6]],[[1,2,3],[4,0.5,6]]])"
   ]
  },
  {
   "cell_type": "code",
   "execution_count": 22,
   "id": "a3290e9a-ae1c-461a-aece-d77d931d9f11",
   "metadata": {},
   "outputs": [
    {
     "data": {
      "text/plain": [
       "array([[[1. , 2. , 3. ],\n",
       "        [4. , 0.5, 6. ]],\n",
       "\n",
       "       [[1. , 2. , 3. ],\n",
       "        [4. , 0.5, 6. ]],\n",
       "\n",
       "       [[1. , 2. , 3. ],\n",
       "        [4. , 0.5, 6. ]]])"
      ]
     },
     "execution_count": 22,
     "metadata": {},
     "output_type": "execute_result"
    }
   ],
   "source": [
    "a3"
   ]
  },
  {
   "cell_type": "code",
   "execution_count": 23,
   "id": "0bcb3268-d4fa-4c06-b304-d11b5874b5cb",
   "metadata": {},
   "outputs": [
    {
     "data": {
      "text/plain": [
       "3"
      ]
     },
     "execution_count": 23,
     "metadata": {},
     "output_type": "execute_result"
    }
   ],
   "source": [
    "a3.ndim"
   ]
  },
  {
   "cell_type": "code",
   "execution_count": 2,
   "id": "f0e004bc-59c0-463b-b731-a7d216cce8a1",
   "metadata": {},
   "outputs": [],
   "source": [
    "l = [1,2,3,4]"
   ]
  },
  {
   "cell_type": "code",
   "execution_count": 5,
   "id": "df790265-46d5-4c60-a973-40a83c11f884",
   "metadata": {},
   "outputs": [
    {
     "data": {
      "text/plain": [
       "array([1, 2, 3, 4])"
      ]
     },
     "execution_count": 5,
     "metadata": {},
     "output_type": "execute_result"
    }
   ],
   "source": [
    "np.asarray(l)"
   ]
  },
  {
   "cell_type": "code",
   "execution_count": 6,
   "id": "f60b1257-f7ec-4c51-9e0c-4d5996c59133",
   "metadata": {},
   "outputs": [
    {
     "data": {
      "text/plain": [
       "matrix([[1, 2, 3, 4]])"
      ]
     },
     "execution_count": 6,
     "metadata": {},
     "output_type": "execute_result"
    }
   ],
   "source": [
    "np.matrix(l)"
   ]
  },
  {
   "cell_type": "code",
   "execution_count": 7,
   "id": "f95bbe52-c565-46a4-9413-11d5a43ee9d6",
   "metadata": {},
   "outputs": [],
   "source": [
    "a=np.asarray(l)"
   ]
  },
  {
   "cell_type": "code",
   "execution_count": 8,
   "id": "4e44d13a-2971-4eb0-b6e5-9d586e714560",
   "metadata": {},
   "outputs": [],
   "source": [
    "m =np.matrix(l)"
   ]
  },
  {
   "cell_type": "code",
   "execution_count": 9,
   "id": "c93b0fa0-159d-4898-ad36-4a9c680c13f1",
   "metadata": {},
   "outputs": [
    {
     "data": {
      "text/plain": [
       "array([1, 2, 3, 4])"
      ]
     },
     "execution_count": 9,
     "metadata": {},
     "output_type": "execute_result"
    }
   ],
   "source": [
    "np.asanyarray(a)"
   ]
  },
  {
   "cell_type": "code",
   "execution_count": 10,
   "id": "7bc43b80-baae-4192-a263-c56710a9bd98",
   "metadata": {},
   "outputs": [
    {
     "data": {
      "text/plain": [
       "matrix([[1, 2, 3, 4]])"
      ]
     },
     "execution_count": 10,
     "metadata": {},
     "output_type": "execute_result"
    }
   ],
   "source": [
    "np.asanyarray(m)"
   ]
  },
  {
   "cell_type": "code",
   "execution_count": 11,
   "id": "6fe2de62-0a46-4e98-a4e5-f809753c97a3",
   "metadata": {},
   "outputs": [
    {
     "data": {
      "text/plain": [
       "array([1, 2, 3, 4])"
      ]
     },
     "execution_count": 11,
     "metadata": {},
     "output_type": "execute_result"
    }
   ],
   "source": [
    "a"
   ]
  },
  {
   "cell_type": "code",
   "execution_count": 12,
   "id": "53f7e374-3640-410a-a958-9342560ad042",
   "metadata": {},
   "outputs": [],
   "source": [
    "a1 = a # SOLO COPY"
   ]
  },
  {
   "cell_type": "code",
   "execution_count": 13,
   "id": "b300472c-ff62-45b7-965c-bf2e27357aec",
   "metadata": {},
   "outputs": [
    {
     "data": {
      "text/plain": [
       "array([1, 2, 3, 4])"
      ]
     },
     "execution_count": 13,
     "metadata": {},
     "output_type": "execute_result"
    }
   ],
   "source": [
    "a1"
   ]
  },
  {
   "cell_type": "code",
   "execution_count": 14,
   "id": "eee65893-a955-4ec5-b56f-4d4ec516e46b",
   "metadata": {},
   "outputs": [
    {
     "data": {
      "text/plain": [
       "array([1, 2, 3, 4])"
      ]
     },
     "execution_count": 14,
     "metadata": {},
     "output_type": "execute_result"
    }
   ],
   "source": [
    "a"
   ]
  },
  {
   "cell_type": "code",
   "execution_count": 16,
   "id": "660a5082-afcc-46ad-a798-32136d789017",
   "metadata": {},
   "outputs": [],
   "source": [
    "a[0] = 10"
   ]
  },
  {
   "cell_type": "code",
   "execution_count": 17,
   "id": "cc6435da-d4f4-4db2-9f08-e2ad0de4a9ed",
   "metadata": {},
   "outputs": [
    {
     "data": {
      "text/plain": [
       "array([10,  2,  3,  4])"
      ]
     },
     "execution_count": 17,
     "metadata": {},
     "output_type": "execute_result"
    }
   ],
   "source": [
    "a"
   ]
  },
  {
   "cell_type": "code",
   "execution_count": 18,
   "id": "26a685e6-300f-4572-b19a-97b2d18fb8d9",
   "metadata": {},
   "outputs": [
    {
     "data": {
      "text/plain": [
       "array([10,  2,  3,  4])"
      ]
     },
     "execution_count": 18,
     "metadata": {},
     "output_type": "execute_result"
    }
   ],
   "source": [
    "a1 # here also the value has changed from a to a1"
   ]
  },
  {
   "cell_type": "code",
   "execution_count": 19,
   "id": "b438f914-c3a0-4fda-be2a-2e0db46a32d2",
   "metadata": {},
   "outputs": [],
   "source": [
    "a1[3] = 50 # THIS IS THE EXAMPLE OF \"SOLO COPY\"."
   ]
  },
  {
   "cell_type": "code",
   "execution_count": 20,
   "id": "86fcebf4-2e14-426b-b089-733dac592fc5",
   "metadata": {},
   "outputs": [
    {
     "data": {
      "text/plain": [
       "array([10,  2,  3, 50])"
      ]
     },
     "execution_count": 20,
     "metadata": {},
     "output_type": "execute_result"
    }
   ],
   "source": [
    "a1"
   ]
  },
  {
   "cell_type": "code",
   "execution_count": 21,
   "id": "0b9a230c-c26c-458b-9912-5b5c4e715dc8",
   "metadata": {},
   "outputs": [
    {
     "data": {
      "text/plain": [
       "array([10,  2,  3, 50])"
      ]
     },
     "execution_count": 21,
     "metadata": {},
     "output_type": "execute_result"
    }
   ],
   "source": [
    "a"
   ]
  },
  {
   "cell_type": "code",
   "execution_count": 22,
   "id": "05d22990-cbb0-4808-a172-0ef5d0477b86",
   "metadata": {},
   "outputs": [],
   "source": [
    "a2 = np.copy(a) # ----- DEEP COPY "
   ]
  },
  {
   "cell_type": "code",
   "execution_count": 23,
   "id": "6629fac6-8427-4e99-b827-88384fab66af",
   "metadata": {},
   "outputs": [
    {
     "data": {
      "text/plain": [
       "array([10,  2,  3, 50])"
      ]
     },
     "execution_count": 23,
     "metadata": {},
     "output_type": "execute_result"
    }
   ],
   "source": [
    "a2"
   ]
  },
  {
   "cell_type": "code",
   "execution_count": 24,
   "id": "15f93b23-084a-4285-8da2-ddad9cf587fd",
   "metadata": {},
   "outputs": [],
   "source": [
    "a2[2] = 30 #THIS IS THE EXAMPLE OF \"DEEP COPY\"."
   ]
  },
  {
   "cell_type": "code",
   "execution_count": 25,
   "id": "957e1ac9-315b-4176-9b62-61aa20515cd2",
   "metadata": {},
   "outputs": [
    {
     "data": {
      "text/plain": [
       "array([10,  2, 30, 50])"
      ]
     },
     "execution_count": 25,
     "metadata": {},
     "output_type": "execute_result"
    }
   ],
   "source": [
    "a2"
   ]
  },
  {
   "cell_type": "code",
   "execution_count": 26,
   "id": "4f7c09b3-13f2-4112-806e-c1f12f9d0a3a",
   "metadata": {},
   "outputs": [
    {
     "data": {
      "text/plain": [
       "array([10,  2,  3, 50])"
      ]
     },
     "execution_count": 26,
     "metadata": {},
     "output_type": "execute_result"
    }
   ],
   "source": [
    "a # here the value is not chnaged as above"
   ]
  },
  {
   "cell_type": "code",
   "execution_count": 27,
   "id": "37730fd7-c1f9-4f08-abc7-01865f4166c8",
   "metadata": {},
   "outputs": [
    {
     "data": {
      "text/plain": [
       "array([[ True, False, False, False],\n",
       "       [False,  True, False, False],\n",
       "       [False, False,  True, False]])"
      ]
     },
     "execution_count": 27,
     "metadata": {},
     "output_type": "execute_result"
    }
   ],
   "source": [
    "np.fromfunction(lambda i,j : i ==j, (3,4))"
   ]
  },
  {
   "cell_type": "code",
   "execution_count": 28,
   "id": "d0327113-691f-4d1b-acfa-325400eabc96",
   "metadata": {},
   "outputs": [
    {
     "data": {
      "text/plain": [
       "array([[0.13920079, 0.94414811, 0.06094888],\n",
       "       [0.00853129, 0.85850882, 0.24637563]])"
      ]
     },
     "execution_count": 28,
     "metadata": {},
     "output_type": "execute_result"
    }
   ],
   "source": [
    "np.random.rand(2,3) ## very very useful function...."
   ]
  },
  {
   "cell_type": "code",
   "execution_count": 29,
   "id": "3a49f7ed-3bb1-4252-a1e8-861a19cdc312",
   "metadata": {},
   "outputs": [
    {
     "data": {
      "text/plain": [
       "array([[[7.32807583e-02, 2.67119221e-01],\n",
       "        [7.42038172e-01, 1.79094569e-04],\n",
       "        [1.23664205e-02, 1.62189929e-01]],\n",
       "\n",
       "       [[4.94944360e-01, 2.14424975e-01],\n",
       "        [9.94930078e-01, 4.62944208e-01],\n",
       "        [4.57911528e-01, 7.80412039e-01]]])"
      ]
     },
     "execution_count": 29,
     "metadata": {},
     "output_type": "execute_result"
    }
   ],
   "source": [
    "np.random.rand(2,3,2)"
   ]
  },
  {
   "cell_type": "code",
   "execution_count": 30,
   "id": "17914fee-5542-4cf8-8975-c4d2df37df23",
   "metadata": {},
   "outputs": [
    {
     "data": {
      "text/plain": [
       "array([[[[0.67246718, 0.44018646],\n",
       "         [0.82062492, 0.25846387]],\n",
       "\n",
       "        [[0.64981358, 0.28299662],\n",
       "         [0.8197457 , 0.52686758]],\n",
       "\n",
       "        [[0.96300901, 0.51661672],\n",
       "         [0.00471097, 0.82585893]]],\n",
       "\n",
       "\n",
       "       [[[0.73463419, 0.68518294],\n",
       "         [0.25187772, 0.37714207]],\n",
       "\n",
       "        [[0.63550682, 0.06394052],\n",
       "         [0.81766074, 0.76982036]],\n",
       "\n",
       "        [[0.73486034, 0.34063724],\n",
       "         [0.58718235, 0.73430453]]]])"
      ]
     },
     "execution_count": 30,
     "metadata": {},
     "output_type": "execute_result"
    }
   ],
   "source": [
    "np.random.rand(2,3,2,2)"
   ]
  },
  {
   "cell_type": "code",
   "execution_count": 31,
   "id": "6c2b87b2-3537-4878-a351-c79c5fbd19a2",
   "metadata": {},
   "outputs": [
    {
     "data": {
      "text/plain": [
       "array([[[0.22978047, 0.72800478, 0.86376494, 0.97616216],\n",
       "        [0.63527636, 0.04215615, 0.7859068 , 0.79843895],\n",
       "        [0.68549613, 0.32057985, 0.6371145 , 0.20308194],\n",
       "        [0.64168046, 0.8433005 , 0.7833222 , 0.93663572]]])"
      ]
     },
     "execution_count": 31,
     "metadata": {},
     "output_type": "execute_result"
    }
   ],
   "source": [
    "np.random.rand(1,4,4)"
   ]
  },
  {
   "cell_type": "code",
   "execution_count": 32,
   "id": "6c788bbd-7a7d-45b5-aa12-16b4d70f5fed",
   "metadata": {},
   "outputs": [
    {
     "data": {
      "text/plain": [
       "array([[[0.05540792, 0.95644601, 0.10058052, 0.87571847],\n",
       "        [0.89019839, 0.90770805, 0.74350085, 0.86637655],\n",
       "        [0.62568111, 0.04511795, 0.45923386, 0.71242674],\n",
       "        [0.06193779, 0.74428017, 0.07189435, 0.67245992]],\n",
       "\n",
       "       [[0.02894042, 0.2585209 , 0.16181998, 0.56524437],\n",
       "        [0.61624825, 0.02579911, 0.01064898, 0.8580439 ],\n",
       "        [0.59510232, 0.11618799, 0.10654045, 0.6714624 ],\n",
       "        [0.31093015, 0.06875247, 0.33786952, 0.4531975 ]]])"
      ]
     },
     "execution_count": 32,
     "metadata": {},
     "output_type": "execute_result"
    }
   ],
   "source": [
    "np.random.rand(2,4,4)"
   ]
  },
  {
   "cell_type": "code",
   "execution_count": 33,
   "id": "781f32ad-62b6-49d9-81f1-80afdc5e5545",
   "metadata": {},
   "outputs": [
    {
     "data": {
      "text/plain": [
       "array([[[ 0.68518906, -0.87337581, -1.48058564, -0.03025735],\n",
       "        [ 0.52695761,  0.25030095, -0.76859175,  1.0395705 ],\n",
       "        [-1.03041397,  1.3702495 , -0.57995231, -0.54715072],\n",
       "        [-0.30357512, -0.71699469, -1.42647357, -0.34191051]],\n",
       "\n",
       "       [[ 0.67913689,  0.64721913,  0.77151863,  0.189522  ],\n",
       "        [ 0.02572973, -0.36795072, -1.23753089,  0.67749556],\n",
       "        [ 1.31948335,  0.50772932, -0.62211576, -0.53361923],\n",
       "        [-0.83643269, -0.32252983,  0.51275502, -0.01315384]],\n",
       "\n",
       "       [[-0.9680714 , -0.90678971, -0.02785065,  0.69112152],\n",
       "        [-2.01352731,  0.30905699,  0.48708039, -1.96038252],\n",
       "        [ 0.06616349,  0.0120024 , -0.26106731,  1.31561869],\n",
       "        [ 0.68609742,  0.56043652, -0.03742232, -0.8994712 ]]])"
      ]
     },
     "execution_count": 33,
     "metadata": {},
     "output_type": "execute_result"
    }
   ],
   "source": [
    "np.random.randn(3,4,4)"
   ]
  },
  {
   "cell_type": "code",
   "execution_count": 36,
   "id": "314dc79f-263c-4f12-9d0e-70556c5bfa1b",
   "metadata": {},
   "outputs": [
    {
     "data": {
      "text/plain": [
       "array([[[7, 8],\n",
       "        [6, 0],\n",
       "        [4, 9],\n",
       "        [8, 3]],\n",
       "\n",
       "       [[4, 3],\n",
       "        [3, 0],\n",
       "        [7, 2],\n",
       "        [2, 2]],\n",
       "\n",
       "       [[2, 7],\n",
       "        [8, 4],\n",
       "        [3, 8],\n",
       "        [1, 6]],\n",
       "\n",
       "       [[6, 5],\n",
       "        [2, 2],\n",
       "        [6, 5],\n",
       "        [1, 5]]])"
      ]
     },
     "execution_count": 36,
     "metadata": {},
     "output_type": "execute_result"
    }
   ],
   "source": [
    "np.random.randint(0,10,(4,4,2))"
   ]
  },
  {
   "cell_type": "code",
   "execution_count": 37,
   "id": "301b866b-9554-4266-8ed9-60c597621b5b",
   "metadata": {},
   "outputs": [],
   "source": [
    "d = np.random.randn(3,4)"
   ]
  },
  {
   "cell_type": "code",
   "execution_count": 40,
   "id": "baa47796-b141-4739-8f78-2e0171e45272",
   "metadata": {},
   "outputs": [],
   "source": [
    "import pandas as pd"
   ]
  },
  {
   "cell_type": "code",
   "execution_count": 41,
   "id": "e2f46207-5c2d-4311-905f-8aa254f3e678",
   "metadata": {},
   "outputs": [
    {
     "data": {
      "text/html": [
       "<div>\n",
       "<style scoped>\n",
       "    .dataframe tbody tr th:only-of-type {\n",
       "        vertical-align: middle;\n",
       "    }\n",
       "\n",
       "    .dataframe tbody tr th {\n",
       "        vertical-align: top;\n",
       "    }\n",
       "\n",
       "    .dataframe thead th {\n",
       "        text-align: right;\n",
       "    }\n",
       "</style>\n",
       "<table border=\"1\" class=\"dataframe\">\n",
       "  <thead>\n",
       "    <tr style=\"text-align: right;\">\n",
       "      <th></th>\n",
       "      <th>0</th>\n",
       "      <th>1</th>\n",
       "      <th>2</th>\n",
       "      <th>3</th>\n",
       "    </tr>\n",
       "  </thead>\n",
       "  <tbody>\n",
       "    <tr>\n",
       "      <th>0</th>\n",
       "      <td>-0.410227</td>\n",
       "      <td>-0.890203</td>\n",
       "      <td>-1.140445</td>\n",
       "      <td>1.825861</td>\n",
       "    </tr>\n",
       "    <tr>\n",
       "      <th>1</th>\n",
       "      <td>0.716978</td>\n",
       "      <td>0.454763</td>\n",
       "      <td>1.110854</td>\n",
       "      <td>0.447158</td>\n",
       "    </tr>\n",
       "    <tr>\n",
       "      <th>2</th>\n",
       "      <td>0.628037</td>\n",
       "      <td>0.836998</td>\n",
       "      <td>0.283757</td>\n",
       "      <td>1.297982</td>\n",
       "    </tr>\n",
       "  </tbody>\n",
       "</table>\n",
       "</div>"
      ],
      "text/plain": [
       "          0         1         2         3\n",
       "0 -0.410227 -0.890203 -1.140445  1.825861\n",
       "1  0.716978  0.454763  1.110854  0.447158\n",
       "2  0.628037  0.836998  0.283757  1.297982"
      ]
     },
     "execution_count": 41,
     "metadata": {},
     "output_type": "execute_result"
    }
   ],
   "source": [
    "pd.DataFrame(d)"
   ]
  },
  {
   "cell_type": "code",
   "execution_count": 42,
   "id": "5ecf8230-dd69-4b53-aabe-b78036700a71",
   "metadata": {},
   "outputs": [],
   "source": [
    "d1 = np.random.randint(0,10,(4,4,2)) # here data size = 4*4*2 = 32 so we have to reshape according to 32 only"
   ]
  },
  {
   "cell_type": "code",
   "execution_count": 44,
   "id": "1057d464-1940-447f-8173-72a4a266993e",
   "metadata": {},
   "outputs": [
    {
     "data": {
      "text/plain": [
       "array([[0, 0],\n",
       "       [4, 2],\n",
       "       [3, 1],\n",
       "       [4, 6],\n",
       "       [8, 2],\n",
       "       [4, 4],\n",
       "       [7, 3],\n",
       "       [4, 8],\n",
       "       [3, 2],\n",
       "       [8, 8],\n",
       "       [4, 9],\n",
       "       [9, 7],\n",
       "       [4, 6],\n",
       "       [8, 1],\n",
       "       [4, 6],\n",
       "       [5, 1]])"
      ]
     },
     "execution_count": 44,
     "metadata": {},
     "output_type": "execute_result"
    }
   ],
   "source": [
    "d1.reshape(16,2)"
   ]
  },
  {
   "cell_type": "code",
   "execution_count": 45,
   "id": "6c879a8d-a58b-4872-8735-a12242db4c63",
   "metadata": {},
   "outputs": [
    {
     "data": {
      "text/plain": [
       "array([[0, 0, 4, 2],\n",
       "       [3, 1, 4, 6],\n",
       "       [8, 2, 4, 4],\n",
       "       [7, 3, 4, 8],\n",
       "       [3, 2, 8, 8],\n",
       "       [4, 9, 9, 7],\n",
       "       [4, 6, 8, 1],\n",
       "       [4, 6, 5, 1]])"
      ]
     },
     "execution_count": 45,
     "metadata": {},
     "output_type": "execute_result"
    }
   ],
   "source": [
    "d1.reshape(8,4)"
   ]
  },
  {
   "cell_type": "code",
   "execution_count": 46,
   "id": "9ee229ac-8bc7-493c-9bbe-2e0c252dbfe9",
   "metadata": {},
   "outputs": [
    {
     "data": {
      "text/plain": [
       "array([[0, 0, 4, 2],\n",
       "       [3, 1, 4, 6],\n",
       "       [8, 2, 4, 4],\n",
       "       [7, 3, 4, 8],\n",
       "       [3, 2, 8, 8],\n",
       "       [4, 9, 9, 7],\n",
       "       [4, 6, 8, 1],\n",
       "       [4, 6, 5, 1]])"
      ]
     },
     "execution_count": 46,
     "metadata": {},
     "output_type": "execute_result"
    }
   ],
   "source": [
    "d1.reshape(8,-1) # here 8 is mul of 32 and -1 is the missing value it wil automatically asssign"
   ]
  },
  {
   "cell_type": "code",
   "execution_count": 47,
   "id": "62aa1a26-e930-4970-b802-790c7875e652",
   "metadata": {},
   "outputs": [
    {
     "data": {
      "text/plain": [
       "array([[0, 0, 4, 2],\n",
       "       [3, 1, 4, 6],\n",
       "       [8, 2, 4, 4],\n",
       "       [7, 3, 4, 8],\n",
       "       [3, 2, 8, 8],\n",
       "       [4, 9, 9, 7],\n",
       "       [4, 6, 8, 1],\n",
       "       [4, 6, 5, 1]])"
      ]
     },
     "execution_count": 47,
     "metadata": {},
     "output_type": "execute_result"
    }
   ],
   "source": [
    "d1.reshape(8,-15649874)"
   ]
  },
  {
   "cell_type": "code",
   "execution_count": 48,
   "id": "592d9d1c-3f16-418f-8b6f-4cebc1a8dae9",
   "metadata": {},
   "outputs": [
    {
     "data": {
      "text/plain": [
       "array([[0, 0, 4, 2, 3, 1, 4, 6, 8, 2, 4, 4, 7, 3, 4, 8],\n",
       "       [3, 2, 8, 8, 4, 9, 9, 7, 4, 6, 8, 1, 4, 6, 5, 1]])"
      ]
     },
     "execution_count": 48,
     "metadata": {},
     "output_type": "execute_result"
    }
   ],
   "source": [
    "d1.reshape(2,-15479)"
   ]
  },
  {
   "cell_type": "code",
   "execution_count": 49,
   "id": "17b5e536-38b2-4dda-8153-d88a271585fc",
   "metadata": {},
   "outputs": [],
   "source": [
    "# now we can convert into data frame."
   ]
  },
  {
   "cell_type": "code",
   "execution_count": 50,
   "id": "4e119b8e-2377-4f26-a468-25f8fe1030a6",
   "metadata": {},
   "outputs": [
    {
     "data": {
      "text/html": [
       "<div>\n",
       "<style scoped>\n",
       "    .dataframe tbody tr th:only-of-type {\n",
       "        vertical-align: middle;\n",
       "    }\n",
       "\n",
       "    .dataframe tbody tr th {\n",
       "        vertical-align: top;\n",
       "    }\n",
       "\n",
       "    .dataframe thead th {\n",
       "        text-align: right;\n",
       "    }\n",
       "</style>\n",
       "<table border=\"1\" class=\"dataframe\">\n",
       "  <thead>\n",
       "    <tr style=\"text-align: right;\">\n",
       "      <th></th>\n",
       "      <th>0</th>\n",
       "    </tr>\n",
       "  </thead>\n",
       "  <tbody>\n",
       "    <tr>\n",
       "      <th>0</th>\n",
       "      <td>0</td>\n",
       "    </tr>\n",
       "    <tr>\n",
       "      <th>1</th>\n",
       "      <td>0</td>\n",
       "    </tr>\n",
       "    <tr>\n",
       "      <th>2</th>\n",
       "      <td>4</td>\n",
       "    </tr>\n",
       "    <tr>\n",
       "      <th>3</th>\n",
       "      <td>2</td>\n",
       "    </tr>\n",
       "    <tr>\n",
       "      <th>4</th>\n",
       "      <td>3</td>\n",
       "    </tr>\n",
       "    <tr>\n",
       "      <th>5</th>\n",
       "      <td>1</td>\n",
       "    </tr>\n",
       "    <tr>\n",
       "      <th>6</th>\n",
       "      <td>4</td>\n",
       "    </tr>\n",
       "    <tr>\n",
       "      <th>7</th>\n",
       "      <td>6</td>\n",
       "    </tr>\n",
       "    <tr>\n",
       "      <th>8</th>\n",
       "      <td>8</td>\n",
       "    </tr>\n",
       "    <tr>\n",
       "      <th>9</th>\n",
       "      <td>2</td>\n",
       "    </tr>\n",
       "    <tr>\n",
       "      <th>10</th>\n",
       "      <td>4</td>\n",
       "    </tr>\n",
       "    <tr>\n",
       "      <th>11</th>\n",
       "      <td>4</td>\n",
       "    </tr>\n",
       "    <tr>\n",
       "      <th>12</th>\n",
       "      <td>7</td>\n",
       "    </tr>\n",
       "    <tr>\n",
       "      <th>13</th>\n",
       "      <td>3</td>\n",
       "    </tr>\n",
       "    <tr>\n",
       "      <th>14</th>\n",
       "      <td>4</td>\n",
       "    </tr>\n",
       "    <tr>\n",
       "      <th>15</th>\n",
       "      <td>8</td>\n",
       "    </tr>\n",
       "    <tr>\n",
       "      <th>16</th>\n",
       "      <td>3</td>\n",
       "    </tr>\n",
       "    <tr>\n",
       "      <th>17</th>\n",
       "      <td>2</td>\n",
       "    </tr>\n",
       "    <tr>\n",
       "      <th>18</th>\n",
       "      <td>8</td>\n",
       "    </tr>\n",
       "    <tr>\n",
       "      <th>19</th>\n",
       "      <td>8</td>\n",
       "    </tr>\n",
       "    <tr>\n",
       "      <th>20</th>\n",
       "      <td>4</td>\n",
       "    </tr>\n",
       "    <tr>\n",
       "      <th>21</th>\n",
       "      <td>9</td>\n",
       "    </tr>\n",
       "    <tr>\n",
       "      <th>22</th>\n",
       "      <td>9</td>\n",
       "    </tr>\n",
       "    <tr>\n",
       "      <th>23</th>\n",
       "      <td>7</td>\n",
       "    </tr>\n",
       "    <tr>\n",
       "      <th>24</th>\n",
       "      <td>4</td>\n",
       "    </tr>\n",
       "    <tr>\n",
       "      <th>25</th>\n",
       "      <td>6</td>\n",
       "    </tr>\n",
       "    <tr>\n",
       "      <th>26</th>\n",
       "      <td>8</td>\n",
       "    </tr>\n",
       "    <tr>\n",
       "      <th>27</th>\n",
       "      <td>1</td>\n",
       "    </tr>\n",
       "    <tr>\n",
       "      <th>28</th>\n",
       "      <td>4</td>\n",
       "    </tr>\n",
       "    <tr>\n",
       "      <th>29</th>\n",
       "      <td>6</td>\n",
       "    </tr>\n",
       "    <tr>\n",
       "      <th>30</th>\n",
       "      <td>5</td>\n",
       "    </tr>\n",
       "    <tr>\n",
       "      <th>31</th>\n",
       "      <td>1</td>\n",
       "    </tr>\n",
       "  </tbody>\n",
       "</table>\n",
       "</div>"
      ],
      "text/plain": [
       "    0\n",
       "0   0\n",
       "1   0\n",
       "2   4\n",
       "3   2\n",
       "4   3\n",
       "5   1\n",
       "6   4\n",
       "7   6\n",
       "8   8\n",
       "9   2\n",
       "10  4\n",
       "11  4\n",
       "12  7\n",
       "13  3\n",
       "14  4\n",
       "15  8\n",
       "16  3\n",
       "17  2\n",
       "18  8\n",
       "19  8\n",
       "20  4\n",
       "21  9\n",
       "22  9\n",
       "23  7\n",
       "24  4\n",
       "25  6\n",
       "26  8\n",
       "27  1\n",
       "28  4\n",
       "29  6\n",
       "30  5\n",
       "31  1"
      ]
     },
     "execution_count": 50,
     "metadata": {},
     "output_type": "execute_result"
    }
   ],
   "source": [
    "pd.DataFrame(d1.reshape(32,-1215646)) # Data frame is always a 2 dimension."
   ]
  },
  {
   "cell_type": "code",
   "execution_count": null,
   "id": "db393de6-999e-4673-a1b5-fcbd99d2f843",
   "metadata": {},
   "outputs": [],
   "source": [
    "import numpy as np"
   ]
  },
  {
   "cell_type": "code",
   "execution_count": null,
   "id": "564e21ce-dcf8-4efe-910c-c3cb25b8f3d2",
   "metadata": {},
   "outputs": [],
   "source": [
    "range(10)"
   ]
  },
  {
   "cell_type": "code",
   "execution_count": 1,
   "id": "cd68b37c-68ac-4e05-b039-c7564a6b8675",
   "metadata": {},
   "outputs": [],
   "source": [
    "# 4th Feb Class - Numpy and Graphs:"
   ]
  },
  {
   "cell_type": "code",
   "execution_count": 58,
   "id": "a03a742c-9aad-4047-a953-fce8888e1bf2",
   "metadata": {},
   "outputs": [],
   "source": [
    "import numpy as np"
   ]
  },
  {
   "cell_type": "code",
   "execution_count": 5,
   "id": "fa1eca34-2309-4782-bbde-1b50157509bb",
   "metadata": {},
   "outputs": [
    {
     "data": {
      "text/plain": [
       "range(0, 10)"
      ]
     },
     "execution_count": 5,
     "metadata": {},
     "output_type": "execute_result"
    }
   ],
   "source": [
    "range(10) # generator function"
   ]
  },
  {
   "cell_type": "code",
   "execution_count": 6,
   "id": "d93baeb0-260f-452f-be1d-4cb8536bf8e8",
   "metadata": {},
   "outputs": [
    {
     "data": {
      "text/plain": [
       "[0, 1, 2, 3, 4, 5, 6, 7, 8, 9]"
      ]
     },
     "execution_count": 6,
     "metadata": {},
     "output_type": "execute_result"
    }
   ],
   "source": [
    "list(range(10))"
   ]
  },
  {
   "cell_type": "code",
   "execution_count": 8,
   "id": "4e91a596-5e60-4573-884e-78dce58e5689",
   "metadata": {},
   "outputs": [],
   "source": [
    "# Range() can only take interger is cant generate float  so,"
   ]
  },
  {
   "cell_type": "code",
   "execution_count": 9,
   "id": "cb232833-e0af-43fb-9805-6b8aafe2dc2d",
   "metadata": {},
   "outputs": [
    {
     "data": {
      "text/plain": [
       "array([0, 1, 2, 3, 4, 5, 6, 7, 8, 9])"
      ]
     },
     "execution_count": 9,
     "metadata": {},
     "output_type": "execute_result"
    }
   ],
   "source": [
    "np.arange(10)"
   ]
  },
  {
   "cell_type": "code",
   "execution_count": 11,
   "id": "9c1d05c1-25f9-414f-bf3d-9cb7e6722627",
   "metadata": {},
   "outputs": [
    {
     "data": {
      "text/plain": [
       "array([0.5, 1.5, 2.5, 3.5, 4.5, 5.5, 6.5, 7.5, 8.5, 9.5])"
      ]
     },
     "execution_count": 11,
     "metadata": {},
     "output_type": "execute_result"
    }
   ],
   "source": [
    "np.arange(.5,10)"
   ]
  },
  {
   "cell_type": "code",
   "execution_count": 13,
   "id": "4b98035e-cad3-429f-bea3-c28cf95dabe3",
   "metadata": {},
   "outputs": [
    {
     "data": {
      "text/plain": [
       "array([ 5,  4,  3,  2,  1,  0, -1, -2, -3])"
      ]
     },
     "execution_count": 13,
     "metadata": {},
     "output_type": "execute_result"
    }
   ],
   "source": [
    "np.arange(5,-4,-1)"
   ]
  },
  {
   "cell_type": "code",
   "execution_count": 14,
   "id": "fbe22005-6eba-4360-af5c-14ae0253e3cb",
   "metadata": {},
   "outputs": [
    {
     "data": {
      "text/plain": [
       "array([ 5. ,  4.5,  4. ,  3.5,  3. ,  2.5,  2. ,  1.5,  1. ,  0.5,  0. ,\n",
       "       -0.5, -1. , -1.5, -2. , -2.5, -3. , -3.5])"
      ]
     },
     "execution_count": 14,
     "metadata": {},
     "output_type": "execute_result"
    }
   ],
   "source": [
    "np.arange(5,-4,-.5)"
   ]
  },
  {
   "cell_type": "code",
   "execution_count": 15,
   "id": "a01c46d4-ec2f-44f4-b8ba-30dfec8f6fb3",
   "metadata": {},
   "outputs": [],
   "source": [
    "# Line space function:-"
   ]
  },
  {
   "cell_type": "code",
   "execution_count": 16,
   "id": "1fc29617-ffd2-4e8f-8157-d9747754cd98",
   "metadata": {},
   "outputs": [
    {
     "data": {
      "text/plain": [
       "array([1.        , 1.21052632, 1.42105263, 1.63157895, 1.84210526,\n",
       "       2.05263158, 2.26315789, 2.47368421, 2.68421053, 2.89473684,\n",
       "       3.10526316, 3.31578947, 3.52631579, 3.73684211, 3.94736842,\n",
       "       4.15789474, 4.36842105, 4.57894737, 4.78947368, 5.        ])"
      ]
     },
     "execution_count": 16,
     "metadata": {},
     "output_type": "execute_result"
    }
   ],
   "source": [
    "np.linspace(1,5,20)"
   ]
  },
  {
   "cell_type": "code",
   "execution_count": 17,
   "id": "41ccbb0c-3181-4721-b079-0c346b790470",
   "metadata": {},
   "outputs": [
    {
     "data": {
      "text/plain": [
       "[1.0,\n",
       " 1.2105263157894737,\n",
       " 1.4210526315789473,\n",
       " 1.631578947368421,\n",
       " 1.8421052631578947,\n",
       " 2.052631578947368,\n",
       " 2.263157894736842,\n",
       " 2.473684210526316,\n",
       " 2.6842105263157894,\n",
       " 2.894736842105263,\n",
       " 3.1052631578947367,\n",
       " 3.3157894736842106,\n",
       " 3.526315789473684,\n",
       " 3.7368421052631575,\n",
       " 3.9473684210526314,\n",
       " 4.157894736842105,\n",
       " 4.368421052631579,\n",
       " 4.578947368421052,\n",
       " 4.789473684210526,\n",
       " 5.0]"
      ]
     },
     "execution_count": 17,
     "metadata": {},
     "output_type": "execute_result"
    }
   ],
   "source": [
    "list(np.linspace(1,5,20))"
   ]
  },
  {
   "cell_type": "code",
   "execution_count": 18,
   "id": "15f54093-efa3-43b4-9211-bcc61b40bb68",
   "metadata": {},
   "outputs": [
    {
     "data": {
      "text/plain": [
       "array([1.00000000e+01, 2.78255940e+01, 7.74263683e+01, 2.15443469e+02,\n",
       "       5.99484250e+02, 1.66810054e+03, 4.64158883e+03, 1.29154967e+04,\n",
       "       3.59381366e+04, 1.00000000e+05])"
      ]
     },
     "execution_count": 18,
     "metadata": {},
     "output_type": "execute_result"
    }
   ],
   "source": [
    "np.logspace(1,5,10)"
   ]
  },
  {
   "cell_type": "code",
   "execution_count": 19,
   "id": "eb0fd3bc-3a82-4e83-9b8e-cbe1f4f6de23",
   "metadata": {},
   "outputs": [
    {
     "data": {
      "text/plain": [
       "array([0., 0., 0., 0., 0.])"
      ]
     },
     "execution_count": 19,
     "metadata": {},
     "output_type": "execute_result"
    }
   ],
   "source": [
    "np.zeros(5)"
   ]
  },
  {
   "cell_type": "code",
   "execution_count": 20,
   "id": "4cd6df97-21b8-4361-ac59-9ecf56a80d4a",
   "metadata": {},
   "outputs": [
    {
     "data": {
      "text/plain": [
       "array([[0., 0., 0., 0., 0.],\n",
       "       [0., 0., 0., 0., 0.],\n",
       "       [0., 0., 0., 0., 0.]])"
      ]
     },
     "execution_count": 20,
     "metadata": {},
     "output_type": "execute_result"
    }
   ],
   "source": [
    "np.zeros((3,5))"
   ]
  },
  {
   "cell_type": "code",
   "execution_count": 21,
   "id": "c7addbb2-6c62-4fae-a285-c0b426cd1c37",
   "metadata": {},
   "outputs": [
    {
     "data": {
      "text/plain": [
       "array([[[0., 0.],\n",
       "        [0., 0.],\n",
       "        [0., 0.],\n",
       "        [0., 0.],\n",
       "        [0., 0.]],\n",
       "\n",
       "       [[0., 0.],\n",
       "        [0., 0.],\n",
       "        [0., 0.],\n",
       "        [0., 0.],\n",
       "        [0., 0.]],\n",
       "\n",
       "       [[0., 0.],\n",
       "        [0., 0.],\n",
       "        [0., 0.],\n",
       "        [0., 0.],\n",
       "        [0., 0.]]])"
      ]
     },
     "execution_count": 21,
     "metadata": {},
     "output_type": "execute_result"
    }
   ],
   "source": [
    "np.zeros((3,5,2))"
   ]
  },
  {
   "cell_type": "code",
   "execution_count": 22,
   "id": "bbc6b834-b0a8-43bb-b0eb-34dbd92ed323",
   "metadata": {},
   "outputs": [
    {
     "data": {
      "text/plain": [
       "array([1., 1., 1., 1., 1.])"
      ]
     },
     "execution_count": 22,
     "metadata": {},
     "output_type": "execute_result"
    }
   ],
   "source": [
    "np.ones(5)"
   ]
  },
  {
   "cell_type": "code",
   "execution_count": 23,
   "id": "bf743d9e-64ec-409d-90a9-4f6c69d0aad4",
   "metadata": {},
   "outputs": [
    {
     "data": {
      "text/plain": [
       "array([[1., 1., 1., 1.],\n",
       "       [1., 1., 1., 1.],\n",
       "       [1., 1., 1., 1.]])"
      ]
     },
     "execution_count": 23,
     "metadata": {},
     "output_type": "execute_result"
    }
   ],
   "source": [
    "np.ones((3,4))"
   ]
  },
  {
   "cell_type": "code",
   "execution_count": 24,
   "id": "bc9de5fb-f1f5-4c13-8535-adfab5c47572",
   "metadata": {},
   "outputs": [
    {
     "data": {
      "text/plain": [
       "array([[[1., 1.],\n",
       "        [1., 1.],\n",
       "        [1., 1.],\n",
       "        [1., 1.]],\n",
       "\n",
       "       [[1., 1.],\n",
       "        [1., 1.],\n",
       "        [1., 1.],\n",
       "        [1., 1.]],\n",
       "\n",
       "       [[1., 1.],\n",
       "        [1., 1.],\n",
       "        [1., 1.],\n",
       "        [1., 1.]]])"
      ]
     },
     "execution_count": 24,
     "metadata": {},
     "output_type": "execute_result"
    }
   ],
   "source": [
    "np.ones((3,4,2))"
   ]
  },
  {
   "cell_type": "code",
   "execution_count": 25,
   "id": "e86f51c2-2d58-490a-b569-c3ca17aa6f08",
   "metadata": {},
   "outputs": [
    {
     "data": {
      "text/plain": [
       "array([[[6., 6.],\n",
       "        [6., 6.],\n",
       "        [6., 6.],\n",
       "        [6., 6.]],\n",
       "\n",
       "       [[6., 6.],\n",
       "        [6., 6.],\n",
       "        [6., 6.],\n",
       "        [6., 6.]],\n",
       "\n",
       "       [[6., 6.],\n",
       "        [6., 6.],\n",
       "        [6., 6.],\n",
       "        [6., 6.]]])"
      ]
     },
     "execution_count": 25,
     "metadata": {},
     "output_type": "execute_result"
    }
   ],
   "source": [
    "np.ones((3,4,2)) +5"
   ]
  },
  {
   "cell_type": "code",
   "execution_count": 26,
   "id": "5ff0bdf4-257a-4109-8e8a-6c577c433919",
   "metadata": {},
   "outputs": [
    {
     "data": {
      "text/plain": [
       "array([[[5., 5.],\n",
       "        [5., 5.],\n",
       "        [5., 5.],\n",
       "        [5., 5.]],\n",
       "\n",
       "       [[5., 5.],\n",
       "        [5., 5.],\n",
       "        [5., 5.],\n",
       "        [5., 5.]],\n",
       "\n",
       "       [[5., 5.],\n",
       "        [5., 5.],\n",
       "        [5., 5.],\n",
       "        [5., 5.]]])"
      ]
     },
     "execution_count": 26,
     "metadata": {},
     "output_type": "execute_result"
    }
   ],
   "source": [
    "np.ones((3,4,2)) *5"
   ]
  },
  {
   "cell_type": "code",
   "execution_count": 28,
   "id": "37d5b3a6-72b9-41cc-bc4d-ed53e83e757b",
   "metadata": {},
   "outputs": [
    {
     "data": {
      "text/plain": [
       "array([[4.6903578e-310, 0.0000000e+000, 0.0000000e+000],\n",
       "       [0.0000000e+000, 0.0000000e+000, 0.0000000e+000]])"
      ]
     },
     "execution_count": 28,
     "metadata": {},
     "output_type": "execute_result"
    }
   ],
   "source": [
    "np.empty((2,3))"
   ]
  },
  {
   "cell_type": "code",
   "execution_count": 29,
   "id": "960d0fca-d1f1-40ae-85e4-19b5e6e983f1",
   "metadata": {},
   "outputs": [
    {
     "data": {
      "text/plain": [
       "array([[1., 0., 0., 0.],\n",
       "       [0., 1., 0., 0.],\n",
       "       [0., 0., 1., 0.],\n",
       "       [0., 0., 0., 1.]])"
      ]
     },
     "execution_count": 29,
     "metadata": {},
     "output_type": "execute_result"
    }
   ],
   "source": [
    "np.eye(4) # all diagonal elements are 1 == identity matrices."
   ]
  },
  {
   "cell_type": "code",
   "execution_count": 30,
   "id": "2fbc7bd6-1925-40e6-9163-d8f3fa78b75c",
   "metadata": {},
   "outputs": [],
   "source": [
    "a = np.eye(4)"
   ]
  },
  {
   "cell_type": "code",
   "execution_count": 31,
   "id": "bc7602c1-130e-4edd-8605-b004d61c8cae",
   "metadata": {},
   "outputs": [
    {
     "data": {
      "text/plain": [
       "(4, 4)"
      ]
     },
     "execution_count": 31,
     "metadata": {},
     "output_type": "execute_result"
    }
   ],
   "source": [
    "a.shape"
   ]
  },
  {
   "cell_type": "code",
   "execution_count": 32,
   "id": "3accbc98-e540-4307-bc0c-b08eb805e122",
   "metadata": {},
   "outputs": [
    {
     "data": {
      "text/plain": [
       "array([[1., 0., 0., 0.],\n",
       "       [0., 1., 0., 0.],\n",
       "       [0., 0., 1., 0.],\n",
       "       [0., 0., 0., 1.]])"
      ]
     },
     "execution_count": 32,
     "metadata": {},
     "output_type": "execute_result"
    }
   ],
   "source": [
    "a"
   ]
  },
  {
   "cell_type": "code",
   "execution_count": 33,
   "id": "07ae068a-41cb-4ea6-8cd6-d3f7618695bf",
   "metadata": {},
   "outputs": [
    {
     "data": {
      "text/plain": [
       "16"
      ]
     },
     "execution_count": 33,
     "metadata": {},
     "output_type": "execute_result"
    }
   ],
   "source": [
    "a.size"
   ]
  },
  {
   "cell_type": "code",
   "execution_count": 35,
   "id": "1ca54f71-ee1c-4942-a6e3-ae9e6b089318",
   "metadata": {},
   "outputs": [
    {
     "data": {
      "text/plain": [
       "2"
      ]
     },
     "execution_count": 35,
     "metadata": {},
     "output_type": "execute_result"
    }
   ],
   "source": [
    "a.ndim"
   ]
  },
  {
   "cell_type": "code",
   "execution_count": 36,
   "id": "15987daf-b366-4e49-a453-6428b3670dd7",
   "metadata": {},
   "outputs": [],
   "source": [
    "a1 = np.random.randn(3,4)"
   ]
  },
  {
   "cell_type": "code",
   "execution_count": 37,
   "id": "38743139-d2bc-4c97-abfa-740580eefd8c",
   "metadata": {},
   "outputs": [
    {
     "data": {
      "text/plain": [
       "array([[-0.32828458,  0.75195717, -1.36309857,  1.27559764],\n",
       "       [ 0.48971984,  0.61315143,  0.1380955 , -1.47554737],\n",
       "       [ 2.02652925, -0.06715453,  2.51674343,  0.55609107]])"
      ]
     },
     "execution_count": 37,
     "metadata": {},
     "output_type": "execute_result"
    }
   ],
   "source": [
    "a1"
   ]
  },
  {
   "cell_type": "code",
   "execution_count": 38,
   "id": "c8d35fe7-114b-49ee-8400-3fa7faba8feb",
   "metadata": {},
   "outputs": [],
   "source": [
    "import pandas as pd"
   ]
  },
  {
   "cell_type": "code",
   "execution_count": 39,
   "id": "cc626e70-4728-4169-b945-a6b6df7298db",
   "metadata": {},
   "outputs": [
    {
     "data": {
      "text/html": [
       "<div>\n",
       "<style scoped>\n",
       "    .dataframe tbody tr th:only-of-type {\n",
       "        vertical-align: middle;\n",
       "    }\n",
       "\n",
       "    .dataframe tbody tr th {\n",
       "        vertical-align: top;\n",
       "    }\n",
       "\n",
       "    .dataframe thead th {\n",
       "        text-align: right;\n",
       "    }\n",
       "</style>\n",
       "<table border=\"1\" class=\"dataframe\">\n",
       "  <thead>\n",
       "    <tr style=\"text-align: right;\">\n",
       "      <th></th>\n",
       "      <th>0</th>\n",
       "      <th>1</th>\n",
       "      <th>2</th>\n",
       "      <th>3</th>\n",
       "    </tr>\n",
       "  </thead>\n",
       "  <tbody>\n",
       "    <tr>\n",
       "      <th>0</th>\n",
       "      <td>-0.328285</td>\n",
       "      <td>0.751957</td>\n",
       "      <td>-1.363099</td>\n",
       "      <td>1.275598</td>\n",
       "    </tr>\n",
       "    <tr>\n",
       "      <th>1</th>\n",
       "      <td>0.489720</td>\n",
       "      <td>0.613151</td>\n",
       "      <td>0.138096</td>\n",
       "      <td>-1.475547</td>\n",
       "    </tr>\n",
       "    <tr>\n",
       "      <th>2</th>\n",
       "      <td>2.026529</td>\n",
       "      <td>-0.067155</td>\n",
       "      <td>2.516743</td>\n",
       "      <td>0.556091</td>\n",
       "    </tr>\n",
       "  </tbody>\n",
       "</table>\n",
       "</div>"
      ],
      "text/plain": [
       "          0         1         2         3\n",
       "0 -0.328285  0.751957 -1.363099  1.275598\n",
       "1  0.489720  0.613151  0.138096 -1.475547\n",
       "2  2.026529 -0.067155  2.516743  0.556091"
      ]
     },
     "execution_count": 39,
     "metadata": {},
     "output_type": "execute_result"
    }
   ],
   "source": [
    "pd.DataFrame(a1)"
   ]
  },
  {
   "cell_type": "code",
   "execution_count": 40,
   "id": "64467bdf-9be9-4442-a747-beaf92fe1d35",
   "metadata": {},
   "outputs": [
    {
     "data": {
      "text/plain": [
       "array([[-0.32828458,  0.75195717, -1.36309857,  1.27559764],\n",
       "       [ 0.48971984,  0.61315143,  0.1380955 , -1.47554737],\n",
       "       [ 2.02652925, -0.06715453,  2.51674343,  0.55609107]])"
      ]
     },
     "execution_count": 40,
     "metadata": {},
     "output_type": "execute_result"
    }
   ],
   "source": [
    "a1"
   ]
  },
  {
   "cell_type": "code",
   "execution_count": 41,
   "id": "df78bc7b-0f95-4913-a24b-b7c21e6a502d",
   "metadata": {},
   "outputs": [],
   "source": [
    "# If we want to extract any data from this array (in pandas we can use loc() but here),"
   ]
  },
  {
   "cell_type": "code",
   "execution_count": 42,
   "id": "d27d3546-e3e5-4923-9c02-78d8aa9b66c3",
   "metadata": {},
   "outputs": [
    {
     "data": {
      "text/plain": [
       "0.6131514272730242"
      ]
     },
     "execution_count": 42,
     "metadata": {},
     "output_type": "execute_result"
    }
   ],
   "source": [
    "a1[1][1] # Here if we want to extract 0.61315143 which is situated at Row = 1 and column = 1 "
   ]
  },
  {
   "cell_type": "code",
   "execution_count": 44,
   "id": "7870a285-1db1-40ed-8731-a290d03f7286",
   "metadata": {},
   "outputs": [
    {
     "data": {
      "text/plain": [
       "array([[-0.32828458,  0.75195717],\n",
       "       [ 0.48971984,  0.61315143]])"
      ]
     },
     "execution_count": 44,
     "metadata": {},
     "output_type": "execute_result"
    }
   ],
   "source": [
    "a1[0:2, 0:2]"
   ]
  },
  {
   "cell_type": "code",
   "execution_count": 45,
   "id": "dd902868-2b4f-40fa-bc7f-b326cccffbbe",
   "metadata": {},
   "outputs": [
    {
     "data": {
      "text/plain": [
       "array([[-0.32828458,  0.75195717],\n",
       "       [ 0.48971984,  0.61315143]])"
      ]
     },
     "execution_count": 45,
     "metadata": {},
     "output_type": "execute_result"
    }
   ],
   "source": [
    "a1[[0,1], 0:2]"
   ]
  },
  {
   "cell_type": "code",
   "execution_count": 46,
   "id": "305c5115-5e6b-4568-9551-edd32de07567",
   "metadata": {},
   "outputs": [
    {
     "data": {
      "text/plain": [
       "array([[-0.32828458,  0.75195717, -1.36309857,  1.27559764],\n",
       "       [ 0.48971984,  0.61315143,  0.1380955 , -1.47554737],\n",
       "       [ 2.02652925, -0.06715453,  2.51674343,  0.55609107]])"
      ]
     },
     "execution_count": 46,
     "metadata": {},
     "output_type": "execute_result"
    }
   ],
   "source": [
    "a1"
   ]
  },
  {
   "cell_type": "code",
   "execution_count": 47,
   "id": "626c87d8-2631-4da2-891d-edaa7eab49ae",
   "metadata": {},
   "outputs": [
    {
     "data": {
      "text/plain": [
       "array([-1.47554737,  0.55609107])"
      ]
     },
     "execution_count": 47,
     "metadata": {},
     "output_type": "execute_result"
    }
   ],
   "source": [
    "a1[[1,2],3]"
   ]
  },
  {
   "cell_type": "code",
   "execution_count": 59,
   "id": "023dd02a-862a-4991-8014-d2938387338a",
   "metadata": {},
   "outputs": [],
   "source": [
    "m1= np.random.randint(1,3,(3,3))"
   ]
  },
  {
   "cell_type": "code",
   "execution_count": 60,
   "id": "4f425eaf-0f4d-4d98-b7ad-83ad23b775b2",
   "metadata": {},
   "outputs": [
    {
     "data": {
      "text/plain": [
       "array([[1, 2, 2],\n",
       "       [1, 1, 2],\n",
       "       [2, 1, 1]])"
      ]
     },
     "execution_count": 60,
     "metadata": {},
     "output_type": "execute_result"
    }
   ],
   "source": [
    "m1"
   ]
  },
  {
   "cell_type": "code",
   "execution_count": 61,
   "id": "3f962701-ff4b-4c34-9bf7-d4118912e189",
   "metadata": {},
   "outputs": [],
   "source": [
    "m2= np.random.randint(2,4,(3,3))"
   ]
  },
  {
   "cell_type": "code",
   "execution_count": 62,
   "id": "eb7b3914-926d-41f8-96d1-910d13bb93d2",
   "metadata": {},
   "outputs": [
    {
     "data": {
      "text/plain": [
       "array([[3, 2, 2],\n",
       "       [3, 3, 3],\n",
       "       [2, 3, 2]])"
      ]
     },
     "execution_count": 62,
     "metadata": {},
     "output_type": "execute_result"
    }
   ],
   "source": [
    "m2"
   ]
  },
  {
   "cell_type": "code",
   "execution_count": 63,
   "id": "f7938ea4-fcf3-45c3-8c3b-894b9dcd7111",
   "metadata": {},
   "outputs": [
    {
     "data": {
      "text/plain": [
       "array([[3, 4, 4],\n",
       "       [3, 3, 6],\n",
       "       [4, 3, 2]])"
      ]
     },
     "execution_count": 63,
     "metadata": {},
     "output_type": "execute_result"
    }
   ],
   "source": [
    "m1*m2 # its just a element wise multiplication not matrix multiplication."
   ]
  },
  {
   "cell_type": "code",
   "execution_count": 54,
   "id": "86ba0376-f5e3-434d-9b29-772b485f1cd0",
   "metadata": {},
   "outputs": [],
   "source": [
    "# So, for matrix multiplication."
   ]
  },
  {
   "cell_type": "code",
   "execution_count": 64,
   "id": "f39bbc84-f407-48a5-b7cb-6c5262ed09bf",
   "metadata": {},
   "outputs": [
    {
     "data": {
      "text/plain": [
       "array([[13, 14, 12],\n",
       "       [10, 11,  9],\n",
       "       [11, 10,  9]])"
      ]
     },
     "execution_count": 64,
     "metadata": {},
     "output_type": "execute_result"
    }
   ],
   "source": [
    "m1@m2   # Matrix Multiplication."
   ]
  },
  {
   "cell_type": "code",
   "execution_count": 65,
   "id": "10a68bdc-0e1f-4afc-9447-a1e20ece4c8f",
   "metadata": {},
   "outputs": [
    {
     "data": {
      "text/plain": [
       "array([[1, 2, 2],\n",
       "       [1, 1, 2],\n",
       "       [2, 1, 1]])"
      ]
     },
     "execution_count": 65,
     "metadata": {},
     "output_type": "execute_result"
    }
   ],
   "source": [
    "m1"
   ]
  },
  {
   "cell_type": "code",
   "execution_count": 67,
   "id": "756e48ba-2720-48ac-957f-78cf12fc0c97",
   "metadata": {},
   "outputs": [],
   "source": [
    "# Findout power function for each element? "
   ]
  },
  {
   "cell_type": "code",
   "execution_count": 68,
   "id": "9097e292-9536-42d5-b105-c6eb56e38fca",
   "metadata": {},
   "outputs": [
    {
     "data": {
      "text/plain": [
       "array([[1, 4, 4],\n",
       "       [1, 1, 4],\n",
       "       [4, 1, 1]])"
      ]
     },
     "execution_count": 68,
     "metadata": {},
     "output_type": "execute_result"
    }
   ],
   "source": [
    "pow(m1,2)"
   ]
  },
  {
   "cell_type": "code",
   "execution_count": 69,
   "id": "9b85cece-6417-40ae-a533-996a15a16b6b",
   "metadata": {},
   "outputs": [
    {
     "data": {
      "text/plain": [
       "array([[ 1, 16, 16],\n",
       "       [ 1,  1, 16],\n",
       "       [16,  1,  1]])"
      ]
     },
     "execution_count": 69,
     "metadata": {},
     "output_type": "execute_result"
    }
   ],
   "source": [
    "pow(m1,4)"
   ]
  },
  {
   "cell_type": "code",
   "execution_count": 70,
   "id": "ecf8e9f8-abc4-4786-8976-869699e1bfa4",
   "metadata": {},
   "outputs": [
    {
     "data": {
      "text/plain": [
       "array([[1.        , 1.41421356, 1.41421356],\n",
       "       [1.        , 1.        , 1.41421356],\n",
       "       [1.41421356, 1.        , 1.        ]])"
      ]
     },
     "execution_count": 70,
     "metadata": {},
     "output_type": "execute_result"
    }
   ],
   "source": [
    "np.sqrt(m1)"
   ]
  },
  {
   "cell_type": "code",
   "execution_count": 71,
   "id": "c564c0b0-2f66-4635-91f4-e0e2c10a24c4",
   "metadata": {},
   "outputs": [
    {
     "data": {
      "text/plain": [
       "array([[0.        , 0.69314718, 0.69314718],\n",
       "       [0.        , 0.        , 0.69314718],\n",
       "       [0.69314718, 0.        , 0.        ]])"
      ]
     },
     "execution_count": 71,
     "metadata": {},
     "output_type": "execute_result"
    }
   ],
   "source": [
    "np.log(m1)"
   ]
  },
  {
   "cell_type": "code",
   "execution_count": 72,
   "id": "d7c4b6f8-1c27-4ab8-8782-56ffcd1ba9f3",
   "metadata": {},
   "outputs": [
    {
     "data": {
      "text/plain": [
       "array([[0.     , 0.30103, 0.30103],\n",
       "       [0.     , 0.     , 0.30103],\n",
       "       [0.30103, 0.     , 0.     ]])"
      ]
     },
     "execution_count": 72,
     "metadata": {},
     "output_type": "execute_result"
    }
   ],
   "source": [
    "np.log10(m1)"
   ]
  },
  {
   "cell_type": "code",
   "execution_count": 73,
   "id": "0d1c4a41-dad6-4400-a2a8-e9019740031d",
   "metadata": {},
   "outputs": [
    {
     "data": {
      "text/plain": [
       "array([[2.71828183, 7.3890561 , 7.3890561 ],\n",
       "       [2.71828183, 2.71828183, 7.3890561 ],\n",
       "       [7.3890561 , 2.71828183, 2.71828183]])"
      ]
     },
     "execution_count": 73,
     "metadata": {},
     "output_type": "execute_result"
    }
   ],
   "source": [
    "np.exp(m1) #Exponential function."
   ]
  },
  {
   "cell_type": "code",
   "execution_count": 74,
   "id": "7586098d-8829-4ab8-a283-a38c6fd277a1",
   "metadata": {},
   "outputs": [
    {
     "data": {
      "text/plain": [
       "array([[1, 4, 4],\n",
       "       [1, 1, 4],\n",
       "       [4, 1, 1]])"
      ]
     },
     "execution_count": 74,
     "metadata": {},
     "output_type": "execute_result"
    }
   ],
   "source": [
    "m1**2"
   ]
  },
  {
   "cell_type": "code",
   "execution_count": null,
   "id": "59e3c106-8fed-4de0-8bc9-3532c270026d",
   "metadata": {},
   "outputs": [],
   "source": [
    "#_----------------------End-------------  (57.40)"
   ]
  }
 ],
 "metadata": {
  "kernelspec": {
   "display_name": "Python 3 (ipykernel)",
   "language": "python",
   "name": "python3"
  },
  "language_info": {
   "codemirror_mode": {
    "name": "ipython",
    "version": 3
   },
   "file_extension": ".py",
   "mimetype": "text/x-python",
   "name": "python",
   "nbconvert_exporter": "python",
   "pygments_lexer": "ipython3",
   "version": "3.10.6"
  }
 },
 "nbformat": 4,
 "nbformat_minor": 5
}
