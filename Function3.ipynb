{
 "cells": [
  {
   "cell_type": "code",
   "execution_count": 1,
   "id": "c16e0c69-6460-4123-8cdb-a39fc9b69feb",
   "metadata": {},
   "outputs": [],
   "source": [
    "def test1():\n",
    "    a = 5+6\n",
    "    return a"
   ]
  },
  {
   "cell_type": "code",
   "execution_count": 2,
   "id": "81909729-6d15-4189-a5b0-879ac601a70f",
   "metadata": {},
   "outputs": [
    {
     "data": {
      "text/plain": [
       "11"
      ]
     },
     "execution_count": 2,
     "metadata": {},
     "output_type": "execute_result"
    }
   ],
   "source": [
    "test1()"
   ]
  },
  {
   "cell_type": "code",
   "execution_count": 4,
   "id": "233ba42e-0530-40e3-bb3f-6c58e7b648c5",
   "metadata": {},
   "outputs": [],
   "source": [
    "def test2(a,b):\n",
    "    return a+b"
   ]
  },
  {
   "cell_type": "code",
   "execution_count": 5,
   "id": "c94878cd-ab39-4cf6-b64b-d020b230ae67",
   "metadata": {},
   "outputs": [
    {
     "data": {
      "text/plain": [
       "3"
      ]
     },
     "execution_count": 5,
     "metadata": {},
     "output_type": "execute_result"
    }
   ],
   "source": [
    "test2(1,2)"
   ]
  },
  {
   "cell_type": "code",
   "execution_count": 6,
   "id": "b137328d-dfc2-41dd-9317-3c71dc23a635",
   "metadata": {},
   "outputs": [
    {
     "data": {
      "text/plain": [
       "'anandjangir'"
      ]
     },
     "execution_count": 6,
     "metadata": {},
     "output_type": "execute_result"
    }
   ],
   "source": [
    "test2(\"anand\" , \"jangir\")\n"
   ]
  },
  {
   "cell_type": "code",
   "execution_count": 7,
   "id": "c2ac1e0a-e964-4397-bdd5-4525293d292e",
   "metadata": {},
   "outputs": [],
   "source": [
    "def test3(*args): # * this means any no.. of input we can pass it  holds in  and will return\n",
    "    return args"
   ]
  },
  {
   "cell_type": "code",
   "execution_count": 8,
   "id": "5c717afd-e898-4dae-85ce-a27d09379bd9",
   "metadata": {},
   "outputs": [
    {
     "data": {
      "text/plain": [
       "(1, 2, 3, 4, 'anand')"
      ]
     },
     "execution_count": 8,
     "metadata": {},
     "output_type": "execute_result"
    }
   ],
   "source": [
    "test3(1,2,3,4,\"anand\") #whatever we type it will return in tuples"
   ]
  },
  {
   "cell_type": "code",
   "execution_count": 9,
   "id": "3eb30e64-8df3-4d45-b066-f780f0014cb7",
   "metadata": {},
   "outputs": [
    {
     "data": {
      "text/plain": [
       "([1, 2, 3, 4, 5], 'anand', 'ineuron', (5+7j), (4, 5, 6))"
      ]
     },
     "execution_count": 9,
     "metadata": {},
     "output_type": "execute_result"
    }
   ],
   "source": [
    "test3([1,2,3,4,5], \"anand\", \"ineuron\", 5+7j, (4,5,6))"
   ]
  },
  {
   "cell_type": "code",
   "execution_count": 10,
   "id": "f7dc06ce-0700-49f5-9cde-a591649a24fc",
   "metadata": {},
   "outputs": [
    {
     "data": {
      "text/plain": [
       "tuple"
      ]
     },
     "execution_count": 10,
     "metadata": {},
     "output_type": "execute_result"
    }
   ],
   "source": [
    "type(test3([1,2,3,4,5], \"anand\", \"ineuron\", 5+7j, (4,5,6)))"
   ]
  },
  {
   "cell_type": "code",
   "execution_count": 11,
   "id": "671e4105-c3b3-4346-81a3-38e9d5ddb6e4",
   "metadata": {},
   "outputs": [],
   "source": [
    "def test4(*args): #here we are returning everything in list.\n",
    "    return list(args)"
   ]
  },
  {
   "cell_type": "code",
   "execution_count": 12,
   "id": "6df50120-4add-4c51-832a-f614732b6a06",
   "metadata": {},
   "outputs": [
    {
     "data": {
      "text/plain": [
       "['anand', True, (1+2j), 34, 45.4]"
      ]
     },
     "execution_count": 12,
     "metadata": {},
     "output_type": "execute_result"
    }
   ],
   "source": [
    "test4(\"anand\", True, 1+2j, 34, 45.4)"
   ]
  },
  {
   "cell_type": "code",
   "execution_count": 13,
   "id": "c095fdcd-89a3-49a6-81a3-f3ff65285528",
   "metadata": {},
   "outputs": [],
   "source": [
    "def test5(*args): #same as above we are returning everyting in form of list.\n",
    "    l = []\n",
    "    for i in args:\n",
    "        l.append(i)\n",
    "    return l"
   ]
  },
  {
   "cell_type": "code",
   "execution_count": 14,
   "id": "9b89dfe8-f7d9-4163-a4fd-ccf45cccb3ab",
   "metadata": {},
   "outputs": [
    {
     "data": {
      "text/plain": [
       "[34, 445, 56, 89]"
      ]
     },
     "execution_count": 14,
     "metadata": {},
     "output_type": "execute_result"
    }
   ],
   "source": [
    "test5(34,445,56,89)"
   ]
  },
  {
   "cell_type": "code",
   "execution_count": 15,
   "id": "86e14d31-57ee-4c62-8fa5-a4bde60e7cc0",
   "metadata": {},
   "outputs": [],
   "source": [
    "def test6(*sudh): # here arg is just an argument its not a keyword we can give n no. argument because of \"*\" - (*)Steric.\n",
    "    return list(sudh)"
   ]
  },
  {
   "cell_type": "code",
   "execution_count": 16,
   "id": "ca548fde-ee68-45b9-99ef-296b79ae9ac2",
   "metadata": {},
   "outputs": [
    {
     "data": {
      "text/plain": [
       "['anand', 45, 45.6]"
      ]
     },
     "execution_count": 16,
     "metadata": {},
     "output_type": "execute_result"
    }
   ],
   "source": [
    "test6(\"anand\", 45, 45.6)"
   ]
  },
  {
   "cell_type": "code",
   "execution_count": 17,
   "id": "d76ecbc6-ce85-4378-94a1-9abf1e137ae8",
   "metadata": {},
   "outputs": [],
   "source": [
    "# coding here after studying dictionary....."
   ]
  },
  {
   "cell_type": "code",
   "execution_count": 18,
   "id": "e0346972-b8fe-498c-a32f-e0504907971f",
   "metadata": {},
   "outputs": [],
   "source": [
    "def test10(**kwargs): #kwargs - keywords arguments keyvalue pairs -- it is taking data in terms of dictionary.\n",
    "    return kwargs"
   ]
  },
  {
   "cell_type": "code",
   "execution_count": 21,
   "id": "e5407fce-3d70-4e69-b758-204ecc868c74",
   "metadata": {},
   "outputs": [
    {
     "data": {
      "text/plain": [
       "{'a': 4, 'b': 5, 'c': 6, 'sudh': [12, 44, 6776]}"
      ]
     },
     "execution_count": 21,
     "metadata": {},
     "output_type": "execute_result"
    }
   ],
   "source": [
    "test10(a = 4, b = 5, c = 6, sudh = [12,44,6776])"
   ]
  },
  {
   "cell_type": "code",
   "execution_count": 22,
   "id": "8cf531a6-d14a-4f64-8623-c4f43e044a35",
   "metadata": {},
   "outputs": [],
   "source": [
    "def test11(**anand):\n",
    "    return anand"
   ]
  },
  {
   "cell_type": "code",
   "execution_count": 23,
   "id": "a1aec517-db61-4336-92a3-e4e24d9636aa",
   "metadata": {},
   "outputs": [
    {
     "data": {
      "text/plain": [
       "{'b': 67, 'm': 90, 'c': 78758}"
      ]
     },
     "execution_count": 23,
     "metadata": {},
     "output_type": "execute_result"
    }
   ],
   "source": [
    "test11(b = 67, m = 90, c = 78758)"
   ]
  },
  {
   "cell_type": "code",
   "execution_count": 1,
   "id": "51e07f6a-028a-4247-b0cd-ec4f0483683d",
   "metadata": {},
   "outputs": [],
   "source": [
    "# Function within a function:"
   ]
  },
  {
   "cell_type": "code",
   "execution_count": 2,
   "id": "28f706cb-710a-4856-9b8f-80e700bace18",
   "metadata": {},
   "outputs": [],
   "source": [
    "def test12(a):\n",
    "    return a\n",
    "\n",
    "def test13(b):\n",
    "    return b\n",
    "\n",
    "def test14(func):\n",
    "    return func(\"anand\")"
   ]
  },
  {
   "cell_type": "code",
   "execution_count": 3,
   "id": "f2c3bb97-a39e-4c50-bb34-fb644927ebd4",
   "metadata": {},
   "outputs": [
    {
     "data": {
      "text/plain": [
       "'anand'"
      ]
     },
     "execution_count": 3,
     "metadata": {},
     "output_type": "execute_result"
    }
   ],
   "source": [
    "test14(test12)"
   ]
  },
  {
   "cell_type": "code",
   "execution_count": 4,
   "id": "6b884bbf-05dd-43f9-a43e-2f0858d0eb98",
   "metadata": {},
   "outputs": [
    {
     "data": {
      "text/plain": [
       "'anand'"
      ]
     },
     "execution_count": 4,
     "metadata": {},
     "output_type": "execute_result"
    }
   ],
   "source": [
    "test14(test13)"
   ]
  },
  {
   "cell_type": "code",
   "execution_count": 10,
   "id": "3fd3ad31-0ce1-4271-b768-8f47b235504d",
   "metadata": {},
   "outputs": [],
   "source": [
    "def test12(a):\n",
    "    return a\n",
    "\n",
    "def test13(*args):\n",
    "    return \"sudh\"\n",
    "\n",
    "def test14(func):\n",
    "    return func(\"anand\")"
   ]
  },
  {
   "cell_type": "code",
   "execution_count": 6,
   "id": "75c4f7aa-fbc8-44da-a8ab-a9e97dfbb91a",
   "metadata": {},
   "outputs": [
    {
     "data": {
      "text/plain": [
       "'anand'"
      ]
     },
     "execution_count": 6,
     "metadata": {},
     "output_type": "execute_result"
    }
   ],
   "source": [
    "test14(test12)"
   ]
  },
  {
   "cell_type": "code",
   "execution_count": 11,
   "id": "6f6a81a0-6e1c-4921-883c-1dd94f7eb492",
   "metadata": {},
   "outputs": [
    {
     "data": {
      "text/plain": [
       "'sudh'"
      ]
     },
     "execution_count": 11,
     "metadata": {},
     "output_type": "execute_result"
    }
   ],
   "source": [
    "test14(test13)"
   ]
  },
  {
   "cell_type": "code",
   "execution_count": 24,
   "id": "90d3a465-b10b-4dc1-a8f1-5126336e8e00",
   "metadata": {},
   "outputs": [],
   "source": [
    "def test15(a):\n",
    "    print(\"this is my test15\")\n",
    "    \n",
    "    def test16():\n",
    "        print(\"this is my test16\")\n",
    "        \n",
    "    def test17():\n",
    "        print(\"this is my test17\")\n",
    "    \n",
    "    if a == \"sudh\":\n",
    "        return test16()\n",
    "    elif a == \"kumar\":\n",
    "        return test17()\n",
    "    \n",
    "# Here we cannot call test16() and test17() directly because they will give us an error that test16() or test17()\n",
    "# is not defined because they are the functions within the test15() function so to excute them we will use \n",
    "# if else statement."
   ]
  },
  {
   "cell_type": "code",
   "execution_count": 25,
   "id": "3d810f20-28cf-43ca-ab4b-f7ef92e0f8e0",
   "metadata": {},
   "outputs": [
    {
     "name": "stdout",
     "output_type": "stream",
     "text": [
      "this is my test15\n",
      "this is my test16\n"
     ]
    }
   ],
   "source": [
    "test15(\"sudh\")"
   ]
  },
  {
   "cell_type": "code",
   "execution_count": 26,
   "id": "ca2d0e30-be73-45bd-8a0e-396e73f71bc4",
   "metadata": {},
   "outputs": [
    {
     "name": "stdout",
     "output_type": "stream",
     "text": [
      "this is my test15\n",
      "this is my test17\n"
     ]
    }
   ],
   "source": [
    "test15(\"kumar\")"
   ]
  },
  {
   "cell_type": "code",
   "execution_count": 33,
   "id": "8bf87405-af2f-45f5-ab9e-2ad43ad5fafd",
   "metadata": {},
   "outputs": [],
   "source": [
    "def test13(*args):\n",
    "    print(\"this is a return of test13\")"
   ]
  },
  {
   "cell_type": "code",
   "execution_count": 34,
   "id": "613b09e5-e33f-4d53-8b95-0ee58962e0d3",
   "metadata": {},
   "outputs": [],
   "source": [
    "def test18(func):\n",
    "    def test19():\n",
    "        print(\"i am inside test19\")\n",
    "        func()\n",
    "    return test19()"
   ]
  },
  {
   "cell_type": "code",
   "execution_count": 35,
   "id": "77f23e9d-097b-4945-86a9-8aaa6880ead7",
   "metadata": {},
   "outputs": [
    {
     "name": "stdout",
     "output_type": "stream",
     "text": [
      "i am inside test19\n",
      "this is a return of test13\n"
     ]
    }
   ],
   "source": [
    "test18(test13)"
   ]
  },
  {
   "cell_type": "code",
   "execution_count": 42,
   "id": "bb12bfa8-4171-4dfa-8269-c9f25bdc7bfa",
   "metadata": {},
   "outputs": [],
   "source": [
    "def test18(func):\n",
    "    def test19():\n",
    "        print(\"i am inside test19\")\n",
    "        func()\n",
    "    return test19()"
   ]
  },
  {
   "cell_type": "code",
   "execution_count": 43,
   "id": "33cc0a74-bfb9-404c-bf64-3526706e7aa0",
   "metadata": {},
   "outputs": [
    {
     "name": "stdout",
     "output_type": "stream",
     "text": [
      "i am inside test19\n",
      "this is a return of test13\n"
     ]
    }
   ],
   "source": [
    "test18(test13)"
   ]
  },
  {
   "cell_type": "code",
   "execution_count": null,
   "id": "827d5819-81d0-4b15-9d83-e26f2cceee56",
   "metadata": {},
   "outputs": [],
   "source": [
    "# Decorater:\n",
    "#             Efficient way to structure or to increase reutilization of code."
   ]
  },
  {
   "cell_type": "code",
   "execution_count": 51,
   "id": "68087a5c-f4c1-4a8f-8017-9f27ae216e8f",
   "metadata": {},
   "outputs": [],
   "source": [
    "def test18(func):\n",
    "    def test19():\n",
    "        print(\"i am inside test19 and this will behave as decorator to any function that i am going to call\")\n",
    "        func()\n",
    "    return test19"
   ]
  },
  {
   "cell_type": "code",
   "execution_count": 46,
   "id": "91f9200d-273f-43cf-af55-4464a4991164",
   "metadata": {},
   "outputs": [],
   "source": [
    "def test20():\n",
    "    print(\"this is my test20\")"
   ]
  },
  {
   "cell_type": "code",
   "execution_count": 47,
   "id": "28140561-5989-4ed0-8da8-401ffec49097",
   "metadata": {},
   "outputs": [
    {
     "name": "stdout",
     "output_type": "stream",
     "text": [
      "this is my test20\n"
     ]
    }
   ],
   "source": [
    "test20()"
   ]
  },
  {
   "cell_type": "code",
   "execution_count": 48,
   "id": "9fd50655-b14a-4fe7-af15-d3970d70e3ac",
   "metadata": {},
   "outputs": [
    {
     "name": "stdout",
     "output_type": "stream",
     "text": [
      "i am inside test19 and this will behave as decorator to any function that i am going to call\n",
      "this is my test20\n"
     ]
    }
   ],
   "source": [
    "test18(test20)"
   ]
  },
  {
   "cell_type": "code",
   "execution_count": 49,
   "id": "956f8ecc-1eae-4dbc-adcf-204e60932893",
   "metadata": {},
   "outputs": [
    {
     "name": "stdout",
     "output_type": "stream",
     "text": [
      "i am inside test19 and this will behave as decorator to any function that i am going to call\n",
      "this is my test20\n"
     ]
    }
   ],
   "source": [
    "@test18\n",
    "def test20():\n",
    "    print(\"this is my test20\") #here we decorated test20 with test18 using @ = pie operator."
   ]
  },
  {
   "cell_type": "code",
   "execution_count": 53,
   "id": "ee38578f-2e54-42b2-8e9b-46c0a69c1d0b",
   "metadata": {},
   "outputs": [],
   "source": [
    "import os\n",
    "def test18(func):\n",
    "    def test19():\n",
    "        print(\"i am inside test19 and this will behave as decorator to any function that i am going to call\")\n",
    "        print(os.getcwd())\n",
    "        func()\n",
    "    return test19"
   ]
  },
  {
   "cell_type": "code",
   "execution_count": 54,
   "id": "40f17202-ea79-4f38-9965-91ccbd9baff3",
   "metadata": {},
   "outputs": [],
   "source": [
    "@test18\n",
    "def test20():\n",
    "    print(\"this is my test20\")"
   ]
  },
  {
   "cell_type": "code",
   "execution_count": 55,
   "id": "bbfe1afb-80c3-461d-aa88-b91555b0e69a",
   "metadata": {},
   "outputs": [
    {
     "name": "stdout",
     "output_type": "stream",
     "text": [
      "i am inside test19 and this will behave as decorator to any function that i am going to call\n",
      "/home/jovyan/work\n",
      "this is my test20\n"
     ]
    }
   ],
   "source": [
    "test20()"
   ]
  },
  {
   "cell_type": "code",
   "execution_count": 56,
   "id": "d846d99b-7b15-408c-948f-4d056216edfe",
   "metadata": {},
   "outputs": [
    {
     "data": {
      "text/plain": [
       "'/home/jovyan/work'"
      ]
     },
     "execution_count": 56,
     "metadata": {},
     "output_type": "execute_result"
    }
   ],
   "source": [
    "pwd()"
   ]
  },
  {
   "cell_type": "code",
   "execution_count": 57,
   "id": "018cde4b-ffd8-461e-b29b-ac11688158ca",
   "metadata": {},
   "outputs": [],
   "source": [
    "def test20(func):\n",
    "    def test21():\n",
    "        func()\n",
    "        print(os.getcwd())\n",
    "    return test21"
   ]
  },
  {
   "cell_type": "code",
   "execution_count": 62,
   "id": "59346a37-bd82-4360-9d4d-616020c51657",
   "metadata": {},
   "outputs": [],
   "source": [
    "@test18\n",
    "@test20 #we are using multiple decorator.\n",
    "def test22():\n",
    "    print(\"this will print inside test22\")"
   ]
  },
  {
   "cell_type": "code",
   "execution_count": 63,
   "id": "7382d92c-dcf3-4a08-91a9-868ce6bf709e",
   "metadata": {},
   "outputs": [
    {
     "name": "stdout",
     "output_type": "stream",
     "text": [
      "i am inside test19 and this will behave as decorator to any function that i am going to call\n",
      "/home/jovyan/work\n",
      "this will print inside test22\n",
      "/home/jovyan/work\n"
     ]
    }
   ],
   "source": [
    "test22()"
   ]
  },
  {
   "cell_type": "code",
   "execution_count": 2,
   "id": "b8346c0a-f31f-4822-b9d6-eaad5827dca8",
   "metadata": {},
   "outputs": [],
   "source": [
    "# Write a function which tells the time of start and time of end of an program?"
   ]
  },
  {
   "cell_type": "code",
   "execution_count": 3,
   "id": "8b1a3723-2f8b-4457-8b05-6cb0a7b28fd8",
   "metadata": {},
   "outputs": [
    {
     "name": "stdout",
     "output_type": "stream",
     "text": [
      "Hello\n",
      "0.00010609626770019531\n"
     ]
    }
   ],
   "source": [
    "import time\n",
    "\n",
    "start = time.time()\n",
    "print(\"Hello\")\n",
    "end = time.time()\n",
    "print(end - start)"
   ]
  },
  {
   "cell_type": "code",
   "execution_count": 4,
   "id": "201f1527-9637-4eaf-a31f-a4db65bc7473",
   "metadata": {},
   "outputs": [
    {
     "data": {
      "text/plain": [
       "1675227773.1139765"
      ]
     },
     "execution_count": 4,
     "metadata": {},
     "output_type": "execute_result"
    }
   ],
   "source": [
    "time.time()"
   ]
  },
  {
   "cell_type": "code",
   "execution_count": 12,
   "id": "45703eb0-0038-44de-9d49-49ea3bca1e55",
   "metadata": {},
   "outputs": [],
   "source": [
    "def test25(func):\n",
    "    def test26():\n",
    "        print(\"This will give you execution time of a function\")\n",
    "        start = time.time()\n",
    "        func()\n",
    "        print(func())\n",
    "        end = time.time()\n",
    "        print(end - start)\n",
    "    return test26"
   ]
  },
  {
   "cell_type": "code",
   "execution_count": 15,
   "id": "6fe1860d-fd3d-4ccf-a90e-e54493c15796",
   "metadata": {},
   "outputs": [],
   "source": [
    "@test25 #decorating this function to know the time\n",
    "def test27():\n",
    "    \"\"\"This is a function which will take a decorator for calculating a execution timing of a function\"\"\"\n",
    "    l = [4,5,6,7,8,8]\n",
    "    l1 = []\n",
    "    for i in l:\n",
    "        if type(i) == int:\n",
    "            l1.append(i)\n",
    "    return l1\n",
    "        "
   ]
  },
  {
   "cell_type": "code",
   "execution_count": 16,
   "id": "7c25b965-bd75-43db-af4a-ab8f1effe52b",
   "metadata": {},
   "outputs": [
    {
     "name": "stdout",
     "output_type": "stream",
     "text": [
      "This will give you execution time of a function\n",
      "[4, 5, 6, 7, 8, 8]\n",
      "1.239776611328125e-05\n"
     ]
    }
   ],
   "source": [
    "test27()"
   ]
  },
  {
   "cell_type": "code",
   "execution_count": null,
   "id": "77b679e7-f05b-4f32-9f48-293efa7f2929",
   "metadata": {},
   "outputs": [],
   "source": []
  },
  {
   "cell_type": "code",
   "execution_count": null,
   "id": "b83f81da-5e48-4d4d-ab09-aab037e48dea",
   "metadata": {},
   "outputs": [],
   "source": []
  }
 ],
 "metadata": {
  "kernelspec": {
   "display_name": "Python 3 (ipykernel)",
   "language": "python",
   "name": "python3"
  },
  "language_info": {
   "codemirror_mode": {
    "name": "ipython",
    "version": 3
   },
   "file_extension": ".py",
   "mimetype": "text/x-python",
   "name": "python",
   "nbconvert_exporter": "python",
   "pygments_lexer": "ipython3",
   "version": "3.10.6"
  }
 },
 "nbformat": 4,
 "nbformat_minor": 5
}
