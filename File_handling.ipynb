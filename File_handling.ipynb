{
 "cells": [
  {
   "cell_type": "code",
   "execution_count": 1,
   "id": "e1dcf8c9-0835-4337-8344-b495eb3c924b",
   "metadata": {},
   "outputs": [],
   "source": [
    "## File Handling:"
   ]
  },
  {
   "cell_type": "code",
   "execution_count": 2,
   "id": "c4e34094-583f-46f8-bee2-2a313f020b7d",
   "metadata": {},
   "outputs": [
    {
     "name": "stdout",
     "output_type": "stream",
     "text": [
      " Exceptionhandling.ipynb   Function4.ipynb  'task questions part 2.ipynb'\n",
      " Filehandling.ipynb        questions.ipynb\n",
      " Function3.ipynb           README.md\n"
     ]
    }
   ],
   "source": [
    "%ls # used to list all the files present."
   ]
  },
  {
   "cell_type": "code",
   "execution_count": 3,
   "id": "07e279dc-7a61-46bc-8e64-5c78c627a8e0",
   "metadata": {},
   "outputs": [
    {
     "data": {
      "text/plain": [
       "'/home/jovyan/work'"
      ]
     },
     "execution_count": 3,
     "metadata": {},
     "output_type": "execute_result"
    }
   ],
   "source": [
    "pwd()"
   ]
  },
  {
   "cell_type": "code",
   "execution_count": 4,
   "id": "9f0c184b-076d-4a22-81e5-d0174931dd14",
   "metadata": {},
   "outputs": [],
   "source": [
    "#How to open a file"
   ]
  },
  {
   "cell_type": "code",
   "execution_count": 6,
   "id": "0fd20753-1015-4a5b-bb57-f21c49a2f940",
   "metadata": {},
   "outputs": [],
   "source": [
    "f = open(\"test.txt\") #Used to open a file.\n"
   ]
  },
  {
   "cell_type": "code",
   "execution_count": 7,
   "id": "a9536a72-af21-427f-9ba9-8c8fa5020d8c",
   "metadata": {},
   "outputs": [
    {
     "data": {
      "text/plain": [
       "_io.TextIOWrapper"
      ]
     },
     "execution_count": 7,
     "metadata": {},
     "output_type": "execute_result"
    }
   ],
   "source": [
    "type(f)"
   ]
  },
  {
   "cell_type": "code",
   "execution_count": 8,
   "id": "65dc5580-fabe-4398-af5d-5abd40cef799",
   "metadata": {},
   "outputs": [],
   "source": [
    "# How to close a File."
   ]
  },
  {
   "cell_type": "code",
   "execution_count": 9,
   "id": "99988ece-bd58-4a61-9634-d7636477b950",
   "metadata": {},
   "outputs": [],
   "source": [
    "f.close()"
   ]
  },
  {
   "cell_type": "code",
   "execution_count": 10,
   "id": "e113c0ca-717b-422d-8c8f-a4184418d629",
   "metadata": {},
   "outputs": [],
   "source": [
    "# How to read a file."
   ]
  },
  {
   "cell_type": "code",
   "execution_count": 11,
   "id": "086b6fc0-61ef-438d-8d99-3078817d8a51",
   "metadata": {},
   "outputs": [],
   "source": [
    "# f = open(r\"C:/users/imran/download/text.txt\",'r') ---- in jupyter notebook and any other"
   ]
  },
  {
   "cell_type": "code",
   "execution_count": 16,
   "id": "c8e5e27f-4014-47ca-a7f7-01ada3975146",
   "metadata": {},
   "outputs": [],
   "source": [
    "f=open(\"test.txt\")"
   ]
  },
  {
   "cell_type": "code",
   "execution_count": 13,
   "id": "931699ff-0c0a-48a2-a0f3-c28f1bbe8fdf",
   "metadata": {},
   "outputs": [
    {
     "data": {
      "text/plain": [
       "'i write code\\nfirst line\\nsecond line\\nthird line\\n'"
      ]
     },
     "execution_count": 13,
     "metadata": {},
     "output_type": "execute_result"
    }
   ],
   "source": [
    "f.read()"
   ]
  },
  {
   "cell_type": "code",
   "execution_count": 14,
   "id": "2bd21b97-a6fe-4074-88d3-de5f0de3b5c6",
   "metadata": {},
   "outputs": [
    {
     "data": {
      "text/plain": [
       "''"
      ]
     },
     "execution_count": 14,
     "metadata": {},
     "output_type": "execute_result"
    }
   ],
   "source": [
    "f.read()"
   ]
  },
  {
   "cell_type": "code",
   "execution_count": 20,
   "id": "292a31fd-7d8a-4b1e-bdf0-8ad3a575ed23",
   "metadata": {},
   "outputs": [
    {
     "data": {
      "text/plain": [
       "'te co'"
      ]
     },
     "execution_count": 20,
     "metadata": {},
     "output_type": "execute_result"
    }
   ],
   "source": [
    "f.read(5) #this willl read 5 data only"
   ]
  },
  {
   "cell_type": "code",
   "execution_count": 24,
   "id": "2c11b8b3-59b1-4c9b-b11a-496d67df90f7",
   "metadata": {},
   "outputs": [
    {
     "data": {
      "text/plain": [
       "0"
      ]
     },
     "execution_count": 24,
     "metadata": {},
     "output_type": "execute_result"
    }
   ],
   "source": [
    "f.seek(0) # it takes us to start position it bring back the cursor position."
   ]
  },
  {
   "cell_type": "code",
   "execution_count": 22,
   "id": "5ee71a3d-129f-4f97-b518-6b1b1d94040c",
   "metadata": {},
   "outputs": [
    {
     "data": {
      "text/plain": [
       "10"
      ]
     },
     "execution_count": 22,
     "metadata": {},
     "output_type": "execute_result"
    }
   ],
   "source": [
    "f.tell() #get the current cursor position."
   ]
  },
  {
   "cell_type": "code",
   "execution_count": 25,
   "id": "8557cc8a-c3a0-4604-8acf-efebc960ef29",
   "metadata": {},
   "outputs": [
    {
     "data": {
      "text/plain": [
       "['i write code\\n']"
      ]
     },
     "execution_count": 25,
     "metadata": {},
     "output_type": "execute_result"
    }
   ],
   "source": [
    "f.readlines(1) # to read a specific line"
   ]
  },
  {
   "cell_type": "code",
   "execution_count": 26,
   "id": "faa78d3c-c00d-4cc2-b0e9-ef03bdd12440",
   "metadata": {},
   "outputs": [],
   "source": [
    "try:\n",
    "    f=open(\"test.txt\")\n",
    "finally:\n",
    "    f.close()"
   ]
  },
  {
   "cell_type": "code",
   "execution_count": 27,
   "id": "498c70fb-0536-4552-b02a-d83867cf105b",
   "metadata": {},
   "outputs": [],
   "source": [
    "with open(\"test.txt\") as f:\n",
    "    #file operation\n",
    "    pass   #with statement will automatically close the file after openening."
   ]
  },
  {
   "cell_type": "code",
   "execution_count": 28,
   "id": "df19a38d-ad35-479f-89d1-43bfd476c444",
   "metadata": {},
   "outputs": [],
   "source": [
    "# Write a file"
   ]
  },
  {
   "cell_type": "code",
   "execution_count": 29,
   "id": "6ed5f966-ab21-4c73-b8fe-bf63fa73933f",
   "metadata": {},
   "outputs": [
    {
     "name": "stdout",
     "output_type": "stream",
     "text": [
      "done\n"
     ]
    }
   ],
   "source": [
    "data = 'inuron'\n",
    "f=open(\"test1.txt\",'w') # w means write mode inn defult it gives read mode when define w it open in write mode.\n",
    "f.write(data)\n",
    "print(\"done\")\n",
    "f.close()"
   ]
  },
  {
   "cell_type": "code",
   "execution_count": 30,
   "id": "0577adc7-3964-4480-a4d3-55d79dabb64d",
   "metadata": {},
   "outputs": [],
   "source": [
    "with open(\"test2.txt\",'w') as f:\n",
    "    f.write(\"first line\\n\")\n",
    "    f.write(\"second line\\n\")"
   ]
  },
  {
   "cell_type": "code",
   "execution_count": 37,
   "id": "a03debb1-b456-47fe-a604-464e5c8dbf5b",
   "metadata": {},
   "outputs": [
    {
     "name": "stdin",
     "output_type": "stream",
     "text": [
      "enter the 1 number:  8\n",
      "enter the 2 number:  0\n"
     ]
    },
    {
     "name": "stdout",
     "output_type": "stream",
     "text": [
      "there is some issue with my code division by zero\n"
     ]
    }
   ],
   "source": [
    "try:\n",
    "    a=int(input(\"enter the 1 number: \"))\n",
    "    b=int(input(\"enter the 2 number: \"))\n",
    "    c=a/b\n",
    "except ArithmeticError as e:\n",
    "    print(\"there is some issue with my code\", e)\n",
    "    f=open(\"ineuron.txt\",'w+') # w+ means reading and writing both.\n",
    "    f.write(\"hi\")\n",
    "    f.read()\n",
    "else:\n",
    "    print(\"this will execute once try is success\")\n",
    "    try:\n",
    "        f=open(\"test3.txt\",'w')\n",
    "    except:\n",
    "        print(\"this is and issue with try block\")"
   ]
  },
  {
   "cell_type": "markdown",
   "id": "feb6218f-8a71-4c69-b287-7ea26b7b8b0c",
   "metadata": {
    "tags": []
   },
   "source": [
    "# writing a program to check error.txt is present in folder or not?\n",
    "# check file size?\n",
    "# count the number of lines in file"
   ]
  },
  {
   "cell_type": "code",
   "execution_count": 38,
   "id": "0a8a0619-d424-4d0f-81af-4855804c6924",
   "metadata": {},
   "outputs": [],
   "source": [
    "#----------------------------------------------------------------------------------------------\n",
    "# r = open a file for reading\n",
    "# w = it will open a file for writing if not present it will create it. it turncates the file if already exists.\n",
    "# x = open a file for exclusive creation if the file is already exists the operation will fail.\n",
    "# a = open a file for appending at the end of file.\n",
    "# + = it will open a file for updating(reading and writing)\n"
   ]
  },
  {
   "cell_type": "code",
   "execution_count": 39,
   "id": "414cefc4-9dd9-4775-8008-0a2fa532dedc",
   "metadata": {},
   "outputs": [],
   "source": [
    "#-------------=====================-----TOPIC ENDED-------------================---------------"
   ]
  },
  {
   "cell_type": "code",
   "execution_count": null,
   "id": "cd65c01d-cb35-4478-ba5f-e08980125e17",
   "metadata": {},
   "outputs": [],
   "source": []
  }
 ],
 "metadata": {
  "kernelspec": {
   "display_name": "Python 3 (ipykernel)",
   "language": "python",
   "name": "python3"
  },
  "language_info": {
   "codemirror_mode": {
    "name": "ipython",
    "version": 3
   },
   "file_extension": ".py",
   "mimetype": "text/x-python",
   "name": "python",
   "nbconvert_exporter": "python",
   "pygments_lexer": "ipython3",
   "version": "3.10.6"
  }
 },
 "nbformat": 4,
 "nbformat_minor": 5
}
