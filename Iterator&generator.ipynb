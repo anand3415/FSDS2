{
 "cells": [
  {
   "cell_type": "code",
   "execution_count": 1,
   "id": "2637a49e-0a91-49ee-9b04-6f168cd91e17",
   "metadata": {},
   "outputs": [],
   "source": [
    "# Iteration: means repeating certain steps"
   ]
  },
  {
   "cell_type": "code",
   "execution_count": 3,
   "id": "8e764c53-97c5-4cb5-bf59-d424695843e2",
   "metadata": {},
   "outputs": [],
   "source": [
    "# Iterable: these are objects that can be iterated in iteration. ex: list,dict,tuple,set"
   ]
  },
  {
   "cell_type": "code",
   "execution_count": 4,
   "id": "15dd611f-0ef0-4ed8-97a9-0ec78c1fb66f",
   "metadata": {},
   "outputs": [],
   "source": [
    "mytuple = (\"anand\",\"jangir\",\"aman\")"
   ]
  },
  {
   "cell_type": "code",
   "execution_count": 5,
   "id": "e527daed-cd2c-4914-a574-30d5083a80ab",
   "metadata": {},
   "outputs": [
    {
     "name": "stdout",
     "output_type": "stream",
     "text": [
      "anand\n",
      "jangir\n",
      "aman\n"
     ]
    }
   ],
   "source": [
    "for i in mytuple:\n",
    "    print(i)"
   ]
  },
  {
   "cell_type": "code",
   "execution_count": 6,
   "id": "2292dd05-157b-4e65-b367-f133f7cdcc18",
   "metadata": {},
   "outputs": [
    {
     "data": {
      "text/plain": [
       "['__add__',\n",
       " '__class__',\n",
       " '__class_getitem__',\n",
       " '__contains__',\n",
       " '__delattr__',\n",
       " '__dir__',\n",
       " '__doc__',\n",
       " '__eq__',\n",
       " '__format__',\n",
       " '__ge__',\n",
       " '__getattribute__',\n",
       " '__getitem__',\n",
       " '__getnewargs__',\n",
       " '__gt__',\n",
       " '__hash__',\n",
       " '__init__',\n",
       " '__init_subclass__',\n",
       " '__iter__',\n",
       " '__le__',\n",
       " '__len__',\n",
       " '__lt__',\n",
       " '__mul__',\n",
       " '__ne__',\n",
       " '__new__',\n",
       " '__reduce__',\n",
       " '__reduce_ex__',\n",
       " '__repr__',\n",
       " '__rmul__',\n",
       " '__setattr__',\n",
       " '__sizeof__',\n",
       " '__str__',\n",
       " '__subclasshook__',\n",
       " 'count',\n",
       " 'index']"
      ]
     },
     "execution_count": 6,
     "metadata": {},
     "output_type": "execute_result"
    }
   ],
   "source": [
    "dir(mytuple)"
   ]
  },
  {
   "cell_type": "code",
   "execution_count": 7,
   "id": "593fcf21-8655-4088-a1c8-d4a481dd2714",
   "metadata": {},
   "outputs": [
    {
     "name": "stdout",
     "output_type": "stream",
     "text": [
      "1\n",
      "2\n",
      "3\n",
      "4\n",
      "5\n",
      "6\n"
     ]
    }
   ],
   "source": [
    "mylist = [1,2,3,4,5,6]\n",
    "for i in mylist:\n",
    "    print(i)"
   ]
  },
  {
   "cell_type": "code",
   "execution_count": 9,
   "id": "c901bd60-8db4-43c0-b238-807af000de16",
   "metadata": {},
   "outputs": [
    {
     "name": "stdout",
     "output_type": "stream",
     "text": [
      "a\n",
      "n\n",
      "a\n",
      "n\n",
      "d\n"
     ]
    }
   ],
   "source": [
    "str = \"anand\"\n",
    "for i in str:\n",
    "    print(i)"
   ]
  },
  {
   "cell_type": "code",
   "execution_count": 8,
   "id": "1a1ece4d-d612-4587-bd32-b2cbde9c3fd1",
   "metadata": {},
   "outputs": [
    {
     "ename": "TypeError",
     "evalue": "'int' object is not iterable",
     "output_type": "error",
     "traceback": [
      "\u001b[0;31m---------------------------------------------------------------------------\u001b[0m",
      "\u001b[0;31mTypeError\u001b[0m                                 Traceback (most recent call last)",
      "Cell \u001b[0;32mIn [8], line 2\u001b[0m\n\u001b[1;32m      1\u001b[0m x\u001b[38;5;241m=\u001b[39m\u001b[38;5;241m40\u001b[39m\n\u001b[0;32m----> 2\u001b[0m \u001b[38;5;28;01mfor\u001b[39;00m i \u001b[38;5;129;01min\u001b[39;00m x:\n\u001b[1;32m      3\u001b[0m     \u001b[38;5;28mprint\u001b[39m(i)\n",
      "\u001b[0;31mTypeError\u001b[0m: 'int' object is not iterable"
     ]
    }
   ],
   "source": [
    "x=40\n",
    "for i in x:\n",
    "    print(i)"
   ]
  },
  {
   "cell_type": "code",
   "execution_count": 10,
   "id": "6c7af773-3e8e-46fa-8af2-badfea9a24a8",
   "metadata": {},
   "outputs": [],
   "source": [
    "## Iterator object:- "
   ]
  },
  {
   "cell_type": "code",
   "execution_count": 11,
   "id": "0d252341-e4e3-4559-b658-76bc1036cca0",
   "metadata": {},
   "outputs": [],
   "source": [
    "data = [\"anand\", \" code\", \"aman\"]"
   ]
  },
  {
   "cell_type": "code",
   "execution_count": 18,
   "id": "284fab45-3682-421f-a1a9-ccaff3493ae8",
   "metadata": {},
   "outputs": [],
   "source": [
    "x=iter(data) #here we are converting iterable object to iterator."
   ]
  },
  {
   "cell_type": "code",
   "execution_count": 19,
   "id": "83b04977-571b-4483-9728-b69961d02521",
   "metadata": {},
   "outputs": [
    {
     "data": {
      "text/plain": [
       "list_iterator"
      ]
     },
     "execution_count": 19,
     "metadata": {},
     "output_type": "execute_result"
    }
   ],
   "source": [
    "type(x)"
   ]
  },
  {
   "cell_type": "code",
   "execution_count": 24,
   "id": "e7d11865-8788-4eb9-9a62-118dd0049893",
   "metadata": {},
   "outputs": [
    {
     "ename": "StopIteration",
     "evalue": "",
     "output_type": "error",
     "traceback": [
      "\u001b[0;31m---------------------------------------------------------------------------\u001b[0m",
      "\u001b[0;31mStopIteration\u001b[0m                             Traceback (most recent call last)",
      "Cell \u001b[0;32mIn [24], line 1\u001b[0m\n\u001b[0;32m----> 1\u001b[0m \u001b[38;5;28;43mnext\u001b[39;49m\u001b[43m(\u001b[49m\u001b[43mx\u001b[49m\u001b[43m)\u001b[49m\n",
      "\u001b[0;31mStopIteration\u001b[0m: "
     ]
    }
   ],
   "source": [
    "next(x)"
   ]
  },
  {
   "cell_type": "code",
   "execution_count": 26,
   "id": "0ddbac9d-6a62-48c1-8be8-86e37fcc69c8",
   "metadata": {},
   "outputs": [],
   "source": [
    "m = \"jangir\""
   ]
  },
  {
   "cell_type": "code",
   "execution_count": 28,
   "id": "c4ab0d80-f902-4ef5-8f8e-dc2905903464",
   "metadata": {},
   "outputs": [],
   "source": [
    "c=iter(m)"
   ]
  },
  {
   "cell_type": "code",
   "execution_count": 29,
   "id": "87d1b5ba-dccd-4ea7-8277-5b1b431f044c",
   "metadata": {},
   "outputs": [
    {
     "data": {
      "text/plain": [
       "str_iterator"
      ]
     },
     "execution_count": 29,
     "metadata": {},
     "output_type": "execute_result"
    }
   ],
   "source": [
    "type(c)"
   ]
  },
  {
   "cell_type": "code",
   "execution_count": 30,
   "id": "a7f1ad95-b5a4-454d-9d27-46461d68defa",
   "metadata": {},
   "outputs": [
    {
     "data": {
      "text/plain": [
       "'j'"
      ]
     },
     "execution_count": 30,
     "metadata": {},
     "output_type": "execute_result"
    }
   ],
   "source": [
    "next(c) # it will loop upto word r and then the iterator will stop keep on doing next "
   ]
  },
  {
   "cell_type": "code",
   "execution_count": 31,
   "id": "02f47936-5807-4e8c-b3a9-691e67397dc0",
   "metadata": {},
   "outputs": [],
   "source": [
    "# iterables are not iterators\n",
    "# iterators are also iterables\n",
    "# calling iter() function on iterable gives an iterator.\n",
    "# calling next() function on iterator gives next elements\n",
    "#=========-------------------------------------==============------------------------------------============"
   ]
  },
  {
   "cell_type": "code",
   "execution_count": 32,
   "id": "553b644b-7a9a-4719-8f04-201610e801fd",
   "metadata": {},
   "outputs": [],
   "source": [
    "#ex:-\n",
    "l=[1,2,3,4]"
   ]
  },
  {
   "cell_type": "code",
   "execution_count": 33,
   "id": "9f44e6ac-da29-43b6-b937-ba719774de4e",
   "metadata": {},
   "outputs": [
    {
     "ename": "TypeError",
     "evalue": "'list' object is not an iterator",
     "output_type": "error",
     "traceback": [
      "\u001b[0;31m---------------------------------------------------------------------------\u001b[0m",
      "\u001b[0;31mTypeError\u001b[0m                                 Traceback (most recent call last)",
      "Cell \u001b[0;32mIn [33], line 1\u001b[0m\n\u001b[0;32m----> 1\u001b[0m \u001b[38;5;28;43mnext\u001b[39;49m\u001b[43m(\u001b[49m\u001b[43ml\u001b[49m\u001b[43m)\u001b[49m\n",
      "\u001b[0;31mTypeError\u001b[0m: 'list' object is not an iterator"
     ]
    }
   ],
   "source": [
    "next(l)"
   ]
  },
  {
   "cell_type": "code",
   "execution_count": 34,
   "id": "4d55c314-b00c-495f-ad26-712e187cc9df",
   "metadata": {},
   "outputs": [],
   "source": [
    "k=iter(l)"
   ]
  },
  {
   "cell_type": "code",
   "execution_count": 36,
   "id": "e05516a9-368b-452e-b51a-9e05058fda55",
   "metadata": {},
   "outputs": [
    {
     "data": {
      "text/plain": [
       "2"
      ]
     },
     "execution_count": 36,
     "metadata": {},
     "output_type": "execute_result"
    }
   ],
   "source": [
    "next(k)"
   ]
  },
  {
   "cell_type": "code",
   "execution_count": 37,
   "id": "e7b2a8b7-8c31-41c3-9e81-dbd16e286b83",
   "metadata": {},
   "outputs": [
    {
     "data": {
      "text/plain": [
       "list_iterator"
      ]
     },
     "execution_count": 37,
     "metadata": {},
     "output_type": "execute_result"
    }
   ],
   "source": [
    "type(k)"
   ]
  },
  {
   "cell_type": "code",
   "execution_count": 39,
   "id": "3553527e-a988-45fe-a631-c511f7c50aea",
   "metadata": {},
   "outputs": [
    {
     "name": "stdout",
     "output_type": "stream",
     "text": [
      "3\n",
      "4\n"
     ]
    }
   ],
   "source": [
    "for i in k:\n",
    "    print(i) #gives remaining element"
   ]
  },
  {
   "cell_type": "code",
   "execution_count": 40,
   "id": "5c44024d-5cea-4ca9-8ddf-9256e916e888",
   "metadata": {},
   "outputs": [],
   "source": [
    "#---------------------------end iterator------------------------------------------"
   ]
  },
  {
   "cell_type": "code",
   "execution_count": 41,
   "id": "07cddf68-b7f5-4e0e-9c6f-5c00c283535f",
   "metadata": {},
   "outputs": [],
   "source": [
    "# Generator: these are the other way of creating iterator.\n",
    "\n"
   ]
  },
  {
   "cell_type": "code",
   "execution_count": 42,
   "id": "823d55cc-9727-4fdc-89cc-564c66d2f463",
   "metadata": {},
   "outputs": [],
   "source": [
    "def square(n):\n",
    "    for i in range(n):\n",
    "        return i**2"
   ]
  },
  {
   "cell_type": "code",
   "execution_count": 43,
   "id": "b27a708e-7187-4f3f-89ba-03b77763b4bf",
   "metadata": {},
   "outputs": [
    {
     "data": {
      "text/plain": [
       "0"
      ]
     },
     "execution_count": 43,
     "metadata": {},
     "output_type": "execute_result"
    }
   ],
   "source": [
    "square(3) #because of range we are getting 0"
   ]
  },
  {
   "cell_type": "code",
   "execution_count": 44,
   "id": "fbcd3299-f2f7-40e4-8111-c9441fc9b7e7",
   "metadata": {},
   "outputs": [],
   "source": [
    "# now for generator function at plaace of return if we use 'yield' than it will give us genrator. EX:-"
   ]
  },
  {
   "cell_type": "code",
   "execution_count": 45,
   "id": "e5c48380-0794-4c6b-8bd3-4ad90c37d9ce",
   "metadata": {},
   "outputs": [],
   "source": [
    "def square(n):\n",
    "    for i in range(n):\n",
    "        yield i**2"
   ]
  },
  {
   "cell_type": "code",
   "execution_count": 46,
   "id": "a45035d2-4859-4a6e-a381-f3d3763b17c8",
   "metadata": {},
   "outputs": [],
   "source": [
    "k = square(3)"
   ]
  },
  {
   "cell_type": "code",
   "execution_count": 47,
   "id": "e51ff472-67ef-4a80-a9cf-b0d50124fed7",
   "metadata": {},
   "outputs": [
    {
     "name": "stdout",
     "output_type": "stream",
     "text": [
      "0\n",
      "1\n",
      "4\n"
     ]
    }
   ],
   "source": [
    "for i in k:\n",
    "    print(i)"
   ]
  },
  {
   "cell_type": "code",
   "execution_count": 48,
   "id": "96dad357-0ee1-41c1-bc96-ce4715f32887",
   "metadata": {},
   "outputs": [
    {
     "data": {
      "text/plain": [
       "generator"
      ]
     },
     "execution_count": 48,
     "metadata": {},
     "output_type": "execute_result"
    }
   ],
   "source": [
    "type(k)"
   ]
  },
  {
   "cell_type": "code",
   "execution_count": 49,
   "id": "9cce5925-0160-47fc-a842-db7e1ae6f7b2",
   "metadata": {},
   "outputs": [],
   "source": [
    "# Whenever we use function \"yield\" in a function that is generator function and creates a generator object. "
   ]
  },
  {
   "cell_type": "code",
   "execution_count": 50,
   "id": "e28e6ed6-50b8-487e-bfc3-8025742fb7ae",
   "metadata": {},
   "outputs": [
    {
     "ename": "StopIteration",
     "evalue": "",
     "output_type": "error",
     "traceback": [
      "\u001b[0;31m---------------------------------------------------------------------------\u001b[0m",
      "\u001b[0;31mStopIteration\u001b[0m                             Traceback (most recent call last)",
      "Cell \u001b[0;32mIn [50], line 1\u001b[0m\n\u001b[0;32m----> 1\u001b[0m \u001b[38;5;28;43mnext\u001b[39;49m\u001b[43m(\u001b[49m\u001b[43mk\u001b[49m\u001b[43m)\u001b[49m\n",
      "\u001b[0;31mStopIteration\u001b[0m: "
     ]
    }
   ],
   "source": [
    "next(k) # we have completed the loop now its stored in iterator and stopped."
   ]
  },
  {
   "cell_type": "code",
   "execution_count": 52,
   "id": "a8064e63-0541-41a0-a21a-be09802256c3",
   "metadata": {},
   "outputs": [],
   "source": [
    "def new():\n",
    "        n=1\n",
    "        print(\"line one\")\n",
    "        yield n\n",
    "        \n",
    "        n=n+1\n",
    "        print(\"second line\")\n",
    "        yield n\n",
    "        \n",
    "        n=n+1\n",
    "        print(\"third\")\n",
    "        yield n"
   ]
  },
  {
   "cell_type": "code",
   "execution_count": 54,
   "id": "89906262-3ec4-4e19-aa32-ebf1c04de536",
   "metadata": {},
   "outputs": [
    {
     "name": "stdout",
     "output_type": "stream",
     "text": [
      "line one\n",
      "1\n",
      "second line\n",
      "2\n",
      "third\n",
      "3\n"
     ]
    }
   ],
   "source": [
    "for i in new():\n",
    "    print(i)"
   ]
  },
  {
   "cell_type": "code",
   "execution_count": 57,
   "id": "ea6cb563-8fb2-47b3-965a-f49fcf150fb4",
   "metadata": {},
   "outputs": [],
   "source": [
    "def gencube(n):\n",
    "    l=[]\n",
    "    for i in range(n):\n",
    "        l.append(i**3)\n",
    "    return l"
   ]
  },
  {
   "cell_type": "code",
   "execution_count": 58,
   "id": "968521a3-9570-4469-8cdf-d8f2a0334ce6",
   "metadata": {},
   "outputs": [
    {
     "data": {
      "text/plain": [
       "[0,\n",
       " 1,\n",
       " 8,\n",
       " 27,\n",
       " 64,\n",
       " 125,\n",
       " 216,\n",
       " 343,\n",
       " 512,\n",
       " 729,\n",
       " 1000,\n",
       " 1331,\n",
       " 1728,\n",
       " 2197,\n",
       " 2744,\n",
       " 3375,\n",
       " 4096,\n",
       " 4913,\n",
       " 5832,\n",
       " 6859,\n",
       " 8000,\n",
       " 9261,\n",
       " 10648,\n",
       " 12167,\n",
       " 13824,\n",
       " 15625,\n",
       " 17576,\n",
       " 19683,\n",
       " 21952,\n",
       " 24389]"
      ]
     },
     "execution_count": 58,
     "metadata": {},
     "output_type": "execute_result"
    }
   ],
   "source": [
    "gencube(30) #if we use 30000000000 so it will take too much time to calculate."
   ]
  },
  {
   "cell_type": "code",
   "execution_count": 59,
   "id": "44895758-53d5-407f-9268-2f3aafcbd565",
   "metadata": {},
   "outputs": [],
   "source": [
    "def gencube(n):\n",
    "    \n",
    "    for i in range(n):\n",
    "        yield i**3\n",
    "        "
   ]
  },
  {
   "cell_type": "code",
   "execution_count": 60,
   "id": "0dbb3e0e-9df4-4827-b700-2b82a53625f7",
   "metadata": {},
   "outputs": [],
   "source": [
    "k=gencube(10)"
   ]
  },
  {
   "cell_type": "code",
   "execution_count": 61,
   "id": "c1347133-bdc6-4e05-b12c-8f9883b339a3",
   "metadata": {},
   "outputs": [
    {
     "data": {
      "text/plain": [
       "<generator object gencube at 0x7f97ac2019a0>"
      ]
     },
     "execution_count": 61,
     "metadata": {},
     "output_type": "execute_result"
    }
   ],
   "source": [
    "k"
   ]
  },
  {
   "cell_type": "code",
   "execution_count": 62,
   "id": "3e43a435-c5fd-4493-bb02-309e0e4cabd1",
   "metadata": {},
   "outputs": [
    {
     "name": "stdout",
     "output_type": "stream",
     "text": [
      "0\n",
      "1\n",
      "8\n",
      "27\n",
      "64\n",
      "125\n",
      "216\n",
      "343\n",
      "512\n",
      "729\n"
     ]
    }
   ],
   "source": [
    "for i in k:\n",
    "    print(i) # it will instantly can give 10000000000 of data."
   ]
  },
  {
   "cell_type": "code",
   "execution_count": 63,
   "id": "cd0ca110-72aa-4af0-bac2-86cfa8d2fa22",
   "metadata": {},
   "outputs": [],
   "source": [
    "# advantage is it will give instant results for large dataset.\n",
    "# generator function are basically better than iterators."
   ]
  },
  {
   "cell_type": "code",
   "execution_count": 64,
   "id": "22aff167-8369-4924-b75f-1bcdd717f7ba",
   "metadata": {},
   "outputs": [],
   "source": [
    "#examples:"
   ]
  },
  {
   "cell_type": "code",
   "execution_count": 67,
   "id": "c9a24a39-d85f-46db-baa2-a86c580a37b2",
   "metadata": {},
   "outputs": [],
   "source": [
    "nums = [1,2,3]"
   ]
  },
  {
   "cell_type": "code",
   "execution_count": 68,
   "id": "efefb568-eb02-4881-8547-4165bb685149",
   "metadata": {},
   "outputs": [],
   "source": [
    "i_nums = iter(nums)"
   ]
  },
  {
   "cell_type": "code",
   "execution_count": 69,
   "id": "65b2f67e-91cb-4023-abd0-b61e96bb9749",
   "metadata": {},
   "outputs": [
    {
     "name": "stdout",
     "output_type": "stream",
     "text": [
      "1\n",
      "2\n",
      "3\n"
     ]
    }
   ],
   "source": [
    "while True:\n",
    "    try:\n",
    "        item=next(i_nums)\n",
    "        print(item)\n",
    "    except StopIteration:\n",
    "        break"
   ]
  },
  {
   "cell_type": "code",
   "execution_count": null,
   "id": "e5d7ee91-db34-48dd-99ef-1d45ff60c7fc",
   "metadata": {},
   "outputs": [],
   "source": []
  }
 ],
 "metadata": {
  "kernelspec": {
   "display_name": "Python 3 (ipykernel)",
   "language": "python",
   "name": "python3"
  },
  "language_info": {
   "codemirror_mode": {
    "name": "ipython",
    "version": 3
   },
   "file_extension": ".py",
   "mimetype": "text/x-python",
   "name": "python",
   "nbconvert_exporter": "python",
   "pygments_lexer": "ipython3",
   "version": "3.10.6"
  }
 },
 "nbformat": 4,
 "nbformat_minor": 5
}
