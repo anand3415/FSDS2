{
 "cells": [
  {
   "cell_type": "code",
   "execution_count": 1,
   "id": "41e971d7-6777-49df-89e9-e6f806a8ed61",
   "metadata": {},
   "outputs": [],
   "source": [
    "# Exception handlling class 2 prevoius rec: 02:25:00"
   ]
  },
  {
   "cell_type": "code",
   "execution_count": 4,
   "id": "9d32876e-bb12-4217-9efb-810bef6476f5",
   "metadata": {},
   "outputs": [],
   "source": [
    "import logging"
   ]
  },
  {
   "cell_type": "code",
   "execution_count": 3,
   "id": "dd8cdb94-0169-4f4d-9c70-7061e8140d22",
   "metadata": {},
   "outputs": [],
   "source": [
    "logging.basicConfig(filename= \"test.log\")"
   ]
  },
  {
   "cell_type": "code",
   "execution_count": 6,
   "id": "355cf2a2-8868-482c-9617-abdb8bda2068",
   "metadata": {},
   "outputs": [],
   "source": [
    "logging.info(\"this is my info log\")\n",
    "logging.warning(\"this is my warning log\")\n",
    "logging.error(\"this is my error log\")\n",
    "            "
   ]
  },
  {
   "cell_type": "code",
   "execution_count": null,
   "id": "ad2dcd0e-c562-4c9a-9199-ddedef8bc804",
   "metadata": {},
   "outputs": [],
   "source": [
    "# DEBUG\n",
    "# INFO\n",
    "# WARNING\n",
    "# ERORR\n",
    "# CRITICAL"
   ]
  },
  {
   "cell_type": "code",
   "execution_count": 12,
   "id": "86dcabc6-75a0-4c43-9836-8d7c78fafa93",
   "metadata": {},
   "outputs": [],
   "source": [
    "logging.basicConfig(filename= \"test2.log\", level = logging.DEBUG, format = '%(asctime)s %(levelname)s %(message)s')"
   ]
  },
  {
   "cell_type": "code",
   "execution_count": 13,
   "id": "2c0ebe10-95dd-487e-b153-e59f2c8eba02",
   "metadata": {},
   "outputs": [],
   "source": [
    "logging.info(\"this is my info log\")\n",
    "logging.warning(\"this is my warning log\")\n",
    "logging.debug(\"debug log\")"
   ]
  },
  {
   "cell_type": "code",
   "execution_count": 1,
   "id": "9a7d3f99-0a48-4992-9d33-9e33974b328b",
   "metadata": {},
   "outputs": [],
   "source": [
    "import logging\n",
    "logging.basicConfig(filename= \"test3.log\", level = logging.DEBUG, format = '%(asctime)s %(levelname)s %(message)s')"
   ]
  },
  {
   "cell_type": "code",
   "execution_count": 2,
   "id": "875674e6-0370-4449-b9ee-f724006d2fbe",
   "metadata": {},
   "outputs": [],
   "source": [
    "def divbyzero(a,b):\n",
    "    logging.info(\"this is a start of my code and i try to enter %s and %s\", a,b)\n",
    "    try:\n",
    "        div=a/b\n",
    "        logging.info(\"executed succ\")\n",
    "    except Exception as e:\n",
    "        logging.error(\"Error has happened\")\n",
    "        logging.exception(\"Exception occured\" + str(e))"
   ]
  },
  {
   "cell_type": "code",
   "execution_count": 3,
   "id": "97387070-0f84-4cc5-9d5b-e6826bae378f",
   "metadata": {},
   "outputs": [],
   "source": [
    "divbyzero(4,5)"
   ]
  },
  {
   "cell_type": "code",
   "execution_count": 4,
   "id": "e2296624-dd62-4440-a120-661dfa0183fa",
   "metadata": {},
   "outputs": [],
   "source": [
    "divbyzero(15,5)"
   ]
  },
  {
   "cell_type": "code",
   "execution_count": 5,
   "id": "c40e7fc8-1580-4eae-9631-de2719f44d34",
   "metadata": {},
   "outputs": [],
   "source": [
    "divbyzero(4,0)"
   ]
  },
  {
   "cell_type": "code",
   "execution_count": 6,
   "id": "0d2eb967-58a2-4086-862f-7e747bca054d",
   "metadata": {},
   "outputs": [],
   "source": [
    "logging.shutdown()"
   ]
  },
  {
   "cell_type": "code",
   "execution_count": 7,
   "id": "7d54083c-ecdd-4749-9863-644c56cf300d",
   "metadata": {},
   "outputs": [],
   "source": [
    "# Module:"
   ]
  },
  {
   "cell_type": "code",
   "execution_count": 8,
   "id": "dbf727ea-9caa-4e52-b4c5-970af91fdc3e",
   "metadata": {},
   "outputs": [],
   "source": [
    "import os"
   ]
  },
  {
   "cell_type": "code",
   "execution_count": null,
   "id": "2258c294-e29f-4c42-9190-f5926e344532",
   "metadata": {},
   "outputs": [],
   "source": [
    "#26:11"
   ]
  }
 ],
 "metadata": {
  "kernelspec": {
   "display_name": "Python 3 (ipykernel)",
   "language": "python",
   "name": "python3"
  },
  "language_info": {
   "codemirror_mode": {
    "name": "ipython",
    "version": 3
   },
   "file_extension": ".py",
   "mimetype": "text/x-python",
   "name": "python",
   "nbconvert_exporter": "python",
   "pygments_lexer": "ipython3",
   "version": "3.10.6"
  }
 },
 "nbformat": 4,
 "nbformat_minor": 5
}
