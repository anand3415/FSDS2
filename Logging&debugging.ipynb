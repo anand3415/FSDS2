{
 "cells": [
  {
   "cell_type": "code",
   "execution_count": 1,
   "id": "6b457932-ecd8-4abd-b6b8-16a04c7a1c43",
   "metadata": {},
   "outputs": [],
   "source": [
    "# Stages of code:\n",
    "# - development\n",
    "# - debugging\n",
    "# - review\n",
    "# - testing\n",
    "# - production"
   ]
  },
  {
   "cell_type": "code",
   "execution_count": 4,
   "id": "7f11612c-097c-4a98-8fab-ec64674a74ae",
   "metadata": {},
   "outputs": [
    {
     "name": "stdout",
     "output_type": "stream",
     "text": [
      "30\n",
      "10\n",
      "200\n",
      "2.0\n"
     ]
    }
   ],
   "source": [
    "def add(x,y):\n",
    "    return x+y\n",
    "\n",
    "def subtract(x,y):\n",
    "    return x-y\n",
    "\n",
    "def multiply(x,y):\n",
    "    return x*y\n",
    "\n",
    "def divide(x,y):\n",
    "    return x/y\n",
    "\n",
    "num_1=20\n",
    "num_2=10\n",
    "\n",
    "add_result=add(num_1,num_2)\n",
    "print(add_result)\n",
    "sub_result=subtract(num_1,num_2)\n",
    "print(sub_result)\n",
    "mul_result=multiply(num_1,num_2)\n",
    "print(mul_result)\n",
    "div_result=divide(num_1,num_2)\n",
    "print(div_result)\n"
   ]
  },
  {
   "cell_type": "code",
   "execution_count": 3,
   "id": "4de1afcd-2347-47ea-af92-028749e64e12",
   "metadata": {},
   "outputs": [],
   "source": [
    "# Logging: is basically a module in python which help us to track and monitor the log information."
   ]
  },
  {
   "cell_type": "code",
   "execution_count": 5,
   "id": "6ceadf92-f9f3-474e-b28e-442918f38e28",
   "metadata": {},
   "outputs": [],
   "source": [
    "# Log: is the critical part of system documentation about runtime status of application. Ex: using logging in above program."
   ]
  },
  {
   "cell_type": "code",
   "execution_count": 13,
   "id": "6a4b0e3a-0443-41de-9779-fdb59ecddfa8",
   "metadata": {},
   "outputs": [],
   "source": [
    "import logging\n",
    "\n",
    "logging.basicConfig(filename='test.log',level=logging.INFO)\n",
    "\n",
    "\n",
    "def add(x,y):\n",
    "    return x+y\n",
    "\n",
    "def subtract(x,y):\n",
    "    return x-y\n",
    "\n",
    "def multiply(x,y):\n",
    "    return x*y\n",
    "\n",
    "def divide(x,y):\n",
    "    return x/y\n",
    "\n",
    "num_1=20\n",
    "num_2=10\n",
    "\n",
    "add_result=add(num_1,num_2)\n",
    "logging.debug(add_result)\n",
    "sub_result=subtract(num_1,num_2)\n",
    "logging.info(sub_result)\n",
    "mul_result=multiply(num_1,num_2)\n",
    "logging.warning(mul_result)\n",
    "div_result=divide(num_1,num_2)\n",
    "logging.critical(div_result)\n",
    "\n",
    "# new file is created and info is present in the test.log file----------"
   ]
  },
  {
   "cell_type": "code",
   "execution_count": 10,
   "id": "666f183a-c5d3-4f45-9ea1-0796518915ef",
   "metadata": {},
   "outputs": [],
   "source": [
    "# Logging levels in python:\n",
    "\n",
    "# - DEBUG : includes all levels(DEBUG,INFO,WARNING,ERROR,CRITICAL)\n",
    "# - INFO  : includes all levels except DEBUG\n",
    "# - WARNING : include all except DEBUG and INFO\n",
    "# - ERROR : include all except DEBUG,INFO and WARNING\n",
    "# - CRITICAL : include all except DEBUG,INFO,WARNING and ERROR"
   ]
  },
  {
   "cell_type": "code",
   "execution_count": 14,
   "id": "afa64bcd-e279-4dc6-9624-3e6d6429009e",
   "metadata": {},
   "outputs": [],
   "source": [
    "def namecheck(name):\n",
    "    if len(name)<2:\n",
    "        print(\"check for name length\")\n",
    "        return 'invalid name'\n",
    "    elif name.isspace():\n",
    "        print(\"check for name has space\")\n",
    "        return 'invalid name'\n",
    "    elif name.isalpha():\n",
    "        print(\"check for name is alphabet\")\n",
    "        return 'valid name'\n",
    "    elif name.replace(' ','').isalpha():\n",
    "        print(\"checking for full name\")\n",
    "        return 'name is valid'\n",
    "    else:\n",
    "        print('Failed all checks')\n",
    "        return 'Invalid name'\n",
    "        \n",
    "    "
   ]
  },
  {
   "cell_type": "code",
   "execution_count": 16,
   "id": "5ec0b37c-0078-40a5-aac3-4b0e47ba60a0",
   "metadata": {},
   "outputs": [
    {
     "name": "stdout",
     "output_type": "stream",
     "text": [
      "check for name is alphabet\n",
      "valid name\n"
     ]
    }
   ],
   "source": [
    "print(namecheck('imran'))"
   ]
  },
  {
   "cell_type": "code",
   "execution_count": 17,
   "id": "1af735d8-b463-4d06-96f4-220417a57c5b",
   "metadata": {},
   "outputs": [
    {
     "name": "stdout",
     "output_type": "stream",
     "text": [
      "checking for full name\n",
      "name is valid\n"
     ]
    }
   ],
   "source": [
    "print(namecheck('anand jangir'))"
   ]
  },
  {
   "cell_type": "code",
   "execution_count": 18,
   "id": "6f8c24f2-d60c-4f87-a1a1-f1ece2ec22bd",
   "metadata": {},
   "outputs": [
    {
     "name": "stdout",
     "output_type": "stream",
     "text": [
      "Failed all checks\n",
      "Invalid name\n"
     ]
    }
   ],
   "source": [
    "print(namecheck('imran123'))"
   ]
  },
  {
   "cell_type": "code",
   "execution_count": 19,
   "id": "8442dc32-3e83-46cc-bf63-e125458f9c15",
   "metadata": {},
   "outputs": [],
   "source": [
    "import logging\n",
    "\n",
    "logging.basicConfig(level=logging.DEBUG)\n",
    "\n",
    "def namecheck(name):\n",
    "    if len(name)<2:\n",
    "        logging.debug(\"check for name length\")\n",
    "        return 'invalid name'\n",
    "    elif name.isspace():\n",
    "        logging.debug(\"check for name has space\")\n",
    "        return 'invalid name'\n",
    "    elif name.isalpha():\n",
    "        logging.debug(\"check for name is alphabet\")\n",
    "        return 'valid name'\n",
    "    elif name.replace(' ','').isalpha():\n",
    "        logging.debug(\"checking for full name\")\n",
    "        return 'name is valid'\n",
    "    else:\n",
    "        logging.debug('Failed all checks')\n",
    "        return 'Invalid name'"
   ]
  },
  {
   "cell_type": "code",
   "execution_count": 20,
   "id": "ac499da1-869f-45ae-8e66-e39fdc522662",
   "metadata": {},
   "outputs": [
    {
     "name": "stdout",
     "output_type": "stream",
     "text": [
      "valid name\n"
     ]
    }
   ],
   "source": [
    "print(namecheck('imran'))"
   ]
  },
  {
   "cell_type": "code",
   "execution_count": 1,
   "id": "5d89b11e-649f-4bf4-94e2-3a1a4ced66ee",
   "metadata": {},
   "outputs": [],
   "source": [
    "# Questions:\n",
    "# 1. Create logger in your code?\n",
    "# 2. Create a function which can take any number of inputs as an argument and will return sum?\n",
    "# 3. Create user input in log file?\n",
    "# 4. Read a log file from pyhton code and show it in a console?"
   ]
  },
  {
   "cell_type": "code",
   "execution_count": 17,
   "id": "989379ab-ab82-43fd-8d86-c76a2c7b57b1",
   "metadata": {},
   "outputs": [],
   "source": [
    "import logging as lg\n",
    "\n",
    "lg.basicConfig(filename='test28.log',level=lg.info)\n",
    "\n",
    "def addition(*args):\n",
    "    lg.info(\"This is my addition function\")\n",
    "    sum1=0\n",
    "    for i in args:\n",
    "        lg.info(str(i))\n",
    "        sum1=sum1+i\n",
    "    return sum1\n",
    "\n"
   ]
  },
  {
   "cell_type": "code",
   "execution_count": 18,
   "id": "9e17e1fc-9a5d-46af-b221-4c214f9f4392",
   "metadata": {},
   "outputs": [
    {
     "ename": "FileNotFoundError",
     "evalue": "[Errno 2] No such file or directory: 'test28.log'",
     "output_type": "error",
     "traceback": [
      "\u001b[0;31m---------------------------------------------------------------------------\u001b[0m",
      "\u001b[0;31mFileNotFoundError\u001b[0m                         Traceback (most recent call last)",
      "Cell \u001b[0;32mIn [18], line 1\u001b[0m\n\u001b[0;32m----> 1\u001b[0m f\u001b[38;5;241m=\u001b[39m\u001b[38;5;28;43mopen\u001b[39;49m\u001b[43m(\u001b[49m\u001b[38;5;124;43m\"\u001b[39;49m\u001b[38;5;124;43mtest28.log\u001b[39;49m\u001b[38;5;124;43m\"\u001b[39;49m\u001b[43m,\u001b[49m\u001b[38;5;124;43m\"\u001b[39;49m\u001b[38;5;124;43mr\u001b[39;49m\u001b[38;5;124;43m\"\u001b[39;49m\u001b[43m)\u001b[49m\n\u001b[1;32m      2\u001b[0m \u001b[38;5;28mprint\u001b[39m(f\u001b[38;5;241m.\u001b[39mread())\n\u001b[1;32m      4\u001b[0m addition(\u001b[38;5;241m1\u001b[39m,\u001b[38;5;241m2\u001b[39m,\u001b[38;5;241m3\u001b[39m,\u001b[38;5;241m4\u001b[39m)\n",
      "\u001b[0;31mFileNotFoundError\u001b[0m: [Errno 2] No such file or directory: 'test28.log'"
     ]
    }
   ],
   "source": [
    "f=open(\"test28.log\",\"r\")\n",
    "print(f.read())\n",
    "\n",
    "addition(1,2,3,4)"
   ]
  },
  {
   "cell_type": "code",
   "execution_count": null,
   "id": "fc229afa-b9a6-4a91-b9d0-83f74fd9185a",
   "metadata": {},
   "outputs": [],
   "source": []
  }
 ],
 "metadata": {
  "kernelspec": {
   "display_name": "Python 3 (ipykernel)",
   "language": "python",
   "name": "python3"
  },
  "language_info": {
   "codemirror_mode": {
    "name": "ipython",
    "version": 3
   },
   "file_extension": ".py",
   "mimetype": "text/x-python",
   "name": "python",
   "nbconvert_exporter": "python",
   "pygments_lexer": "ipython3",
   "version": "3.10.6"
  }
 },
 "nbformat": 4,
 "nbformat_minor": 5
}
