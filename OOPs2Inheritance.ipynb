{
 "cells": [
  {
   "cell_type": "code",
   "execution_count": 3,
   "id": "2fd5c966-72b8-4ad4-853d-4a2ec9b7b1b7",
   "metadata": {},
   "outputs": [],
   "source": [
    "# Inheritence: it is basically the property of inheriting the property of parent class.\n",
    "# Types:\n",
    " # Single inheritence\n",
    " # Multiple inheritance\n",
    " # multilevel inheritance\n",
    " # Hierarchical Inheritance\n",
    " # Hybrid inheritance"
   ]
  },
  {
   "cell_type": "code",
   "execution_count": 2,
   "id": "082ef1cd-5b6b-406f-9c2d-b4eb8123e09b",
   "metadata": {},
   "outputs": [],
   "source": [
    "# 1. Single Inheritance:\n"
   ]
  },
  {
   "cell_type": "code",
   "execution_count": 3,
   "id": "68bfe142-e2b4-4a88-acd4-5842ebca25a1",
   "metadata": {},
   "outputs": [],
   "source": [
    "class Parent:\n",
    "    def func1(self):\n",
    "        print(\"Hello from parent class\")\n",
    "        \n",
    "class child(Parent): # single inheritance we are inheriting parent in child class.\n",
    "    def func2(self):\n",
    "        print(\"Hello Child\")\n",
    "        "
   ]
  },
  {
   "cell_type": "code",
   "execution_count": 4,
   "id": "7dbf42e7-9c66-4833-9f05-17833ae13728",
   "metadata": {},
   "outputs": [],
   "source": [
    "test=child()"
   ]
  },
  {
   "cell_type": "code",
   "execution_count": 6,
   "id": "aa708e79-03c4-4132-bc35-5717cad9ac43",
   "metadata": {},
   "outputs": [
    {
     "name": "stdout",
     "output_type": "stream",
     "text": [
      "Hello from parent class\n"
     ]
    }
   ],
   "source": [
    "test.func1()"
   ]
  },
  {
   "cell_type": "code",
   "execution_count": 7,
   "id": "28eff277-842b-44c0-992c-93c5c8570833",
   "metadata": {},
   "outputs": [
    {
     "name": "stdout",
     "output_type": "stream",
     "text": [
      "Hello Child\n"
     ]
    }
   ],
   "source": [
    "test.func2()"
   ]
  },
  {
   "cell_type": "code",
   "execution_count": 8,
   "id": "f3ac39ef-5940-4bdc-9c8c-ef45ae318324",
   "metadata": {},
   "outputs": [],
   "source": [
    "class Ineuron:\n",
    "    company_website= \"https://ineuron.ai\"\n",
    "    name= 'iNeuron'\n",
    "    \n",
    "    def contact_details(self):\n",
    "        print(\"Contact us at\", self.company_website)\n",
    "        \n",
    "class Datasci(Ineuron):\n",
    "    \n",
    "    def __init__(self):\n",
    "        self.year_of_establisment = 2018\n",
    "    \n",
    "    def est_details(self):\n",
    "        print(\"est details\", self.name,self.year_of_establisment)"
   ]
  },
  {
   "cell_type": "code",
   "execution_count": 9,
   "id": "c83b2c7c-5bbe-4628-9362-0d6a1482a34d",
   "metadata": {},
   "outputs": [],
   "source": [
    "ds= Datasci()"
   ]
  },
  {
   "cell_type": "code",
   "execution_count": 10,
   "id": "7d01b38f-215f-44b3-8058-173c5f81b35d",
   "metadata": {},
   "outputs": [
    {
     "name": "stdout",
     "output_type": "stream",
     "text": [
      "Contact us at https://ineuron.ai\n"
     ]
    }
   ],
   "source": [
    "ds.contact_details()"
   ]
  },
  {
   "cell_type": "code",
   "execution_count": 11,
   "id": "2df6cd63-0d7b-474f-9c14-16918c8da17e",
   "metadata": {},
   "outputs": [
    {
     "name": "stdout",
     "output_type": "stream",
     "text": [
      "est details iNeuron 2018\n"
     ]
    }
   ],
   "source": [
    "ds.est_details()"
   ]
  },
  {
   "cell_type": "code",
   "execution_count": 12,
   "id": "065e3462-2297-49f8-9d85-6d168b028039",
   "metadata": {},
   "outputs": [
    {
     "data": {
      "text/plain": [
       "2018"
      ]
     },
     "execution_count": 12,
     "metadata": {},
     "output_type": "execute_result"
    }
   ],
   "source": [
    "ds.year_of_establisment"
   ]
  },
  {
   "cell_type": "code",
   "execution_count": 13,
   "id": "07ba3345-e03f-4aef-914c-ca312d4e9619",
   "metadata": {},
   "outputs": [],
   "source": [
    "# 2. Multiple Inheritance:"
   ]
  },
  {
   "cell_type": "code",
   "execution_count": 14,
   "id": "80991ad0-bdc8-4f2b-9913-afaf1024d15a",
   "metadata": {},
   "outputs": [],
   "source": [
    "class Parent1:\n",
    "    def func1(self):\n",
    "        print(\"hello from parent1\")\n",
    "        \n",
    "class Parent2:\n",
    "    def func2(self):\n",
    "        print(\"Hello from parent2\")\n",
    "        \n",
    "        \n",
    "class child(Parent1,Parent2): #Multiple inher. here we are inheriting the prop of p1 and p2 in child class\n",
    "    def func3(self):\n",
    "        print(\"Hello child\")"
   ]
  },
  {
   "cell_type": "code",
   "execution_count": 15,
   "id": "55453539-f43e-48d0-9424-a9ad66d16bf9",
   "metadata": {},
   "outputs": [],
   "source": [
    "test=child()"
   ]
  },
  {
   "cell_type": "code",
   "execution_count": 16,
   "id": "117e96b9-c217-4a11-b274-16dd2b751d6d",
   "metadata": {},
   "outputs": [
    {
     "name": "stdout",
     "output_type": "stream",
     "text": [
      "Hello from parent2\n"
     ]
    }
   ],
   "source": [
    "test.func2()"
   ]
  },
  {
   "cell_type": "code",
   "execution_count": 17,
   "id": "6d2824ed-091e-4be9-94bc-0e237f6b3db4",
   "metadata": {},
   "outputs": [
    {
     "name": "stdout",
     "output_type": "stream",
     "text": [
      "Hello child\n"
     ]
    }
   ],
   "source": [
    "test.func3()"
   ]
  },
  {
   "cell_type": "code",
   "execution_count": 18,
   "id": "7b7240dd-8049-44a8-a7e7-9d6bbde0702e",
   "metadata": {},
   "outputs": [
    {
     "name": "stdout",
     "output_type": "stream",
     "text": [
      "hello from parent1\n"
     ]
    }
   ],
   "source": [
    "test.func1()"
   ]
  },
  {
   "cell_type": "code",
   "execution_count": 19,
   "id": "2b55d62c-1c92-4d1c-82f1-4e055b7e9847",
   "metadata": {},
   "outputs": [],
   "source": [
    "# Parent class 1\n",
    "class Batch_number:\n",
    "    batchnumber=\"\"\n",
    "    def __init__(self,a,b,c):\n",
    "        self.a=a\n",
    "        self.b=b\n",
    "        self.c=c\n",
    "        \n",
    "    def batch(self):\n",
    "        print(\"self.batchnumber\")\n",
    "        \n",
    "        \n",
    "# Parent class 2\n",
    "\n",
    "class course_name:\n",
    "    cname=\"\"\n",
    "    def course(self):\n",
    "        print(self.cname)\n",
    "        \n",
    "# Child class:\n",
    "\n",
    "class Student(Batch_number,course_name):\n",
    "    \n",
    "    def show(self):\n",
    "        print(\"Batch:\", self.batchnumber)\n",
    "        print(\"Course\", self.cname)"
   ]
  },
  {
   "cell_type": "code",
   "execution_count": 21,
   "id": "586c878d-72da-43a3-a828-1f6fe2342d09",
   "metadata": {},
   "outputs": [],
   "source": [
    "s1= Student(1,2,3)"
   ]
  },
  {
   "cell_type": "code",
   "execution_count": 22,
   "id": "f2130a0c-9265-48ed-97fa-958dd38ac002",
   "metadata": {},
   "outputs": [
    {
     "name": "stdout",
     "output_type": "stream",
     "text": [
      "self.batchnumber\n"
     ]
    }
   ],
   "source": [
    "s1.batch()"
   ]
  },
  {
   "cell_type": "code",
   "execution_count": 25,
   "id": "7a879637-4de4-4d2d-8930-19ab7198254e",
   "metadata": {},
   "outputs": [],
   "source": [
    "s1.batchnumber=\"2\""
   ]
  },
  {
   "cell_type": "code",
   "execution_count": 26,
   "id": "0dbaa9e7-7722-43a3-b05b-a57503ab5fb7",
   "metadata": {},
   "outputs": [],
   "source": [
    "s1.cname='fsds'"
   ]
  },
  {
   "cell_type": "code",
   "execution_count": 27,
   "id": "6e89c0c1-d04f-419c-858f-6ed53a48fc51",
   "metadata": {},
   "outputs": [
    {
     "name": "stdout",
     "output_type": "stream",
     "text": [
      "fsds\n"
     ]
    }
   ],
   "source": [
    "s1.course()"
   ]
  },
  {
   "cell_type": "code",
   "execution_count": 29,
   "id": "0668041e-d5c0-4a20-b3c1-b8ead5b28592",
   "metadata": {},
   "outputs": [
    {
     "name": "stdout",
     "output_type": "stream",
     "text": [
      "Batch: 2\n",
      "Course fsds\n"
     ]
    }
   ],
   "source": [
    "s1.show()"
   ]
  },
  {
   "cell_type": "code",
   "execution_count": 30,
   "id": "1e0dec1e-7b2d-4d4c-849c-5c37f0bae28c",
   "metadata": {},
   "outputs": [],
   "source": [
    "# create a class person & company and child class employee inherit both person and company?"
   ]
  },
  {
   "cell_type": "code",
   "execution_count": 31,
   "id": "e16952d8-f758-425d-908a-84740413bb31",
   "metadata": {},
   "outputs": [],
   "source": [
    "class Person:\n",
    "    def __init__(self):\n",
    "        self.name= \"anand\"\n",
    "        \n",
    "class Company:\n",
    "    def co(Self):\n",
    "        print(\"Company is good\")\n",
    "        \n",
    "class Employee(Person,Company):\n",
    "    \n",
    "    def show(self):\n",
    "        print(\"name of person\", self.name, \"in company\")"
   ]
  },
  {
   "cell_type": "code",
   "execution_count": 32,
   "id": "b4d4d038-e62c-4daf-97bd-125cc3c40b25",
   "metadata": {},
   "outputs": [],
   "source": [
    "a1=Employee()"
   ]
  },
  {
   "cell_type": "code",
   "execution_count": 33,
   "id": "7acec89b-3b74-4701-8f3e-df284bbda729",
   "metadata": {},
   "outputs": [
    {
     "data": {
      "text/plain": [
       "'anand'"
      ]
     },
     "execution_count": 33,
     "metadata": {},
     "output_type": "execute_result"
    }
   ],
   "source": [
    "a1.name"
   ]
  },
  {
   "cell_type": "code",
   "execution_count": 35,
   "id": "f0b8f815-5e80-469e-852c-7f9b62c266d1",
   "metadata": {},
   "outputs": [
    {
     "name": "stdout",
     "output_type": "stream",
     "text": [
      "Company is good\n"
     ]
    }
   ],
   "source": [
    "a1.co()"
   ]
  },
  {
   "cell_type": "code",
   "execution_count": 36,
   "id": "c2502c23-54cc-42d5-8aa6-26b9d4de361a",
   "metadata": {},
   "outputs": [
    {
     "name": "stdout",
     "output_type": "stream",
     "text": [
      "name of person anand in company\n"
     ]
    }
   ],
   "source": [
    "a1.show()"
   ]
  },
  {
   "cell_type": "code",
   "execution_count": 37,
   "id": "58cf9304-ffc8-4c63-a430-2a33d7f6f294",
   "metadata": {},
   "outputs": [],
   "source": [
    "# 3. Multilevel Inheritence:\n",
    "\n"
   ]
  },
  {
   "cell_type": "code",
   "execution_count": 3,
   "id": "6e86f61d-4e63-4f2f-8ff2-d5b00b2c17d2",
   "metadata": {},
   "outputs": [],
   "source": [
    "class Test1:            # parent class\n",
    "    def a(self):\n",
    "        print(\"inside test1...\")\n",
    "        \n",
    "class Test2(Test1):    # Child class 1\n",
    "    def b(self):\n",
    "        print(\"inside test2...\")\n",
    "        \n",
    "class Test3(Test2):   # Child class 2\n",
    "    def c(self):\n",
    "        print(\"inside test3...\")"
   ]
  },
  {
   "cell_type": "code",
   "execution_count": 4,
   "id": "0b796cc5-3f9d-41ea-9d0e-46193881c4cf",
   "metadata": {},
   "outputs": [],
   "source": [
    "t1=Test3()"
   ]
  },
  {
   "cell_type": "code",
   "execution_count": 5,
   "id": "0cbd6911-4a39-446b-bfe3-beac02933d1a",
   "metadata": {},
   "outputs": [
    {
     "name": "stdout",
     "output_type": "stream",
     "text": [
      "inside test1...\n"
     ]
    }
   ],
   "source": [
    "t1.a()"
   ]
  },
  {
   "cell_type": "code",
   "execution_count": 6,
   "id": "cdb1a1a2-943e-4bb1-b993-c28edc99f557",
   "metadata": {},
   "outputs": [],
   "source": [
    "class vehicle:\n",
    "    def info(self):\n",
    "        print(\"Inside vehicle class\")\n",
    "        \n",
    "class Car(vehicle):\n",
    "    def car_info(self):\n",
    "        print(\"inside car class\")\n",
    "        \n",
    "class sportcar(Car):\n",
    "    def sportscar(self):\n",
    "        print(\"inside sports car\")"
   ]
  },
  {
   "cell_type": "code",
   "execution_count": 7,
   "id": "a94a7bf4-a300-479e-9360-84fdd338eba3",
   "metadata": {},
   "outputs": [],
   "source": [
    "c1 = sportcar()"
   ]
  },
  {
   "cell_type": "code",
   "execution_count": 10,
   "id": "ae6bec39-2d48-4106-b76a-e62318236f2c",
   "metadata": {},
   "outputs": [
    {
     "name": "stdout",
     "output_type": "stream",
     "text": [
      "Inside vehicle class\n"
     ]
    }
   ],
   "source": [
    "c1.info()"
   ]
  },
  {
   "cell_type": "code",
   "execution_count": 11,
   "id": "3ce459b1-da7c-4efa-8b4a-3d2fe9dd214e",
   "metadata": {},
   "outputs": [
    {
     "name": "stdout",
     "output_type": "stream",
     "text": [
      "inside sports car\n"
     ]
    }
   ],
   "source": [
    "c1.sportscar()"
   ]
  },
  {
   "cell_type": "code",
   "execution_count": 12,
   "id": "770fbd7b-1dee-4a4c-8ee7-969ee4eea09c",
   "metadata": {},
   "outputs": [],
   "source": [
    "class Phones:\n",
    "    def __init__(self,brand,model,price):\n",
    "        self.brand=brand\n",
    "        self.model=model\n",
    "        self.price=price\n",
    "        \n",
    "    def specs(self):\n",
    "        return(\"brand\", self.brand, \"price\",self.price)\n",
    "    \n",
    "    def typeofphone(self):\n",
    "        if self.price > 25000:\n",
    "            return \"this is a budget phone\"\n",
    "        else:\n",
    "            return \"this is mid range phone\"\n",
    "        \n",
    "class Smartphone(Phones):\n",
    "    def __init__(self,brand,model,price,ram,storage):\n",
    "        super().__init__(brand,model,price)\n",
    "        self.ram=ram\n",
    "        self.storage=storage\n",
    "        \n",
    "\n",
    "class Flashipphone(Smartphone):\n",
    "    def __init__(self,brand,model,price,ram,storage,frontcamera,backcamera,display):\n",
    "        super().__init__(brand,model,price,ram,storage)\n",
    "        self.frontcamera=frontcamera\n",
    "        self.backcamera=backcamera\n",
    "        self.display=display"
   ]
  },
  {
   "cell_type": "code",
   "execution_count": 14,
   "id": "7f06f219-d55e-4b38-b568-0fadbaa1ab19",
   "metadata": {},
   "outputs": [],
   "source": [
    "p1 = Flashipphone(\"ipphone\",\"13pro\",75000,8,128,'yes','yes','yes')"
   ]
  },
  {
   "cell_type": "code",
   "execution_count": 15,
   "id": "a3ee25e9-01f7-4d31-a4c5-e634bd517aaf",
   "metadata": {},
   "outputs": [
    {
     "data": {
      "text/plain": [
       "'this is a budget phone'"
      ]
     },
     "execution_count": 15,
     "metadata": {},
     "output_type": "execute_result"
    }
   ],
   "source": [
    "p1.typeofphone()"
   ]
  },
  {
   "cell_type": "code",
   "execution_count": 16,
   "id": "970d2937-bb2a-4229-b922-97df67949081",
   "metadata": {},
   "outputs": [
    {
     "data": {
      "text/plain": [
       "('brand', 'ipphone', 'price', 75000)"
      ]
     },
     "execution_count": 16,
     "metadata": {},
     "output_type": "execute_result"
    }
   ],
   "source": [
    "p1.specs()"
   ]
  },
  {
   "cell_type": "code",
   "execution_count": 17,
   "id": "0198ff73-17a2-40c8-abfd-a52bd6cc2ae0",
   "metadata": {},
   "outputs": [
    {
     "data": {
      "text/plain": [
       "'yes'"
      ]
     },
     "execution_count": 17,
     "metadata": {},
     "output_type": "execute_result"
    }
   ],
   "source": [
    "p1.frontcamera"
   ]
  },
  {
   "cell_type": "code",
   "execution_count": 18,
   "id": "9f62301b-a3c3-4cf8-a694-4e24641c25c8",
   "metadata": {},
   "outputs": [],
   "source": [
    "# 3. Hierarchical Inheritance:\n",
    "\n",
    "\n"
   ]
  },
  {
   "cell_type": "code",
   "execution_count": 19,
   "id": "1af2e463-c837-433d-a0fb-fe805c030880",
   "metadata": {},
   "outputs": [],
   "source": [
    "class Vehicle:\n",
    "    def info(self):\n",
    "        print(\"This is Vehicle\")\n",
    "        \n",
    "class Car(Vehicle):\n",
    "    def car_info(self,name):\n",
    "        print(\"car name\", name)\n",
    "        \n",
    "class Truck(Vehicle):\n",
    "    def truck_info(self,name):\n",
    "        print(\"truck name\", name)"
   ]
  },
  {
   "cell_type": "code",
   "execution_count": 20,
   "id": "575f8877-1299-4a32-bf03-9910502f3124",
   "metadata": {},
   "outputs": [],
   "source": [
    "s1=Car()"
   ]
  },
  {
   "cell_type": "code",
   "execution_count": 21,
   "id": "960ea709-6f9d-46e4-9549-402b9fa46e45",
   "metadata": {},
   "outputs": [
    {
     "name": "stdout",
     "output_type": "stream",
     "text": [
      "This is Vehicle\n"
     ]
    }
   ],
   "source": [
    "s1.info()"
   ]
  },
  {
   "cell_type": "code",
   "execution_count": 24,
   "id": "87ebf1e6-4a6c-405f-8d45-6355a9565be6",
   "metadata": {},
   "outputs": [
    {
     "name": "stdout",
     "output_type": "stream",
     "text": [
      "car name wift\n"
     ]
    }
   ],
   "source": [
    "s1.car_info(\"wift\")"
   ]
  },
  {
   "cell_type": "code",
   "execution_count": 25,
   "id": "9cf9ce6f-7d5a-486e-8c0b-5d6d464caf96",
   "metadata": {},
   "outputs": [],
   "source": [
    "s2=Truck()"
   ]
  },
  {
   "cell_type": "code",
   "execution_count": 26,
   "id": "409acdbb-18d6-49c5-9b38-65f67c6fb0b4",
   "metadata": {},
   "outputs": [
    {
     "name": "stdout",
     "output_type": "stream",
     "text": [
      "truck name prima\n"
     ]
    }
   ],
   "source": [
    "s2.truck_info(\"prima\")"
   ]
  },
  {
   "cell_type": "code",
   "execution_count": 27,
   "id": "cd58bd47-2c7d-430c-8e95-965d2a6d6fc6",
   "metadata": {},
   "outputs": [
    {
     "name": "stdout",
     "output_type": "stream",
     "text": [
      "This is Vehicle\n"
     ]
    }
   ],
   "source": [
    "s2.info()"
   ]
  },
  {
   "cell_type": "code",
   "execution_count": 28,
   "id": "fcf4e890-4d22-4d9b-82fa-77e39573cc4b",
   "metadata": {},
   "outputs": [],
   "source": [
    "# 4. Hybrid Inheritance:\n",
    "\n"
   ]
  },
  {
   "cell_type": "code",
   "execution_count": 29,
   "id": "3b237ade-b92f-4afa-84da-a204a65e203f",
   "metadata": {},
   "outputs": [],
   "source": [
    "class Vehicle:\n",
    "    def info(self):\n",
    "        print(\"This is Vehicle\")\n",
    "        \n",
    "class Car(Vehicle):\n",
    "    def car_info(self,name):\n",
    "        print(\"car name\", name)\n",
    "        \n",
    "class Truck(Vehicle):\n",
    "    def truck_info(self,name):\n",
    "        print(\"truck name\", name)\n",
    "        \n",
    "class Sportscar(Car,Vehicle):\n",
    "    def sportscar(self):\n",
    "        print(\"inside from sports class\")"
   ]
  },
  {
   "cell_type": "code",
   "execution_count": 30,
   "id": "d3d4fed2-3b2c-4ad9-bbe1-c7ed6ce35c81",
   "metadata": {},
   "outputs": [],
   "source": [
    "a1=Sportscar()"
   ]
  },
  {
   "cell_type": "code",
   "execution_count": 31,
   "id": "6274a20d-fa49-49d0-9391-0ce3beb14c4e",
   "metadata": {},
   "outputs": [
    {
     "name": "stdout",
     "output_type": "stream",
     "text": [
      "inside from sports class\n"
     ]
    }
   ],
   "source": [
    "a1.sportscar()"
   ]
  },
  {
   "cell_type": "code",
   "execution_count": 1,
   "id": "e7ddb10c-d8a9-411e-8b65-9d935c0df51d",
   "metadata": {},
   "outputs": [],
   "source": [
    "# Super: 1. Super() is basically used when we need to build classes (child class) that extend the functionality of\n",
    "#           previously build classes (parent class).\n",
    "#        2. super function in python is used to access methods of immediate parent class. mostly used with multiple inheritence.\n",
    "\n"
   ]
  },
  {
   "cell_type": "code",
   "execution_count": 2,
   "id": "3e0c07ab-5c91-496e-b8a4-af06cac1c9b5",
   "metadata": {},
   "outputs": [],
   "source": [
    "class Company:\n",
    "    def company_name(self):\n",
    "        return 'ineuron'\n",
    "    \n",
    "class Employee(Company):\n",
    "    def info(self):\n",
    "        c_name = super().company_name()\n",
    "        print(\"i work at\", c_name)"
   ]
  },
  {
   "cell_type": "code",
   "execution_count": 3,
   "id": "e62f4623-5c84-4c8c-8f22-6cbc71c670fc",
   "metadata": {},
   "outputs": [],
   "source": [
    "emp = Employee()"
   ]
  },
  {
   "cell_type": "code",
   "execution_count": 4,
   "id": "f60e0cbd-374c-4325-814e-e1e3e6259698",
   "metadata": {},
   "outputs": [
    {
     "data": {
      "text/plain": [
       "'ineuron'"
      ]
     },
     "execution_count": 4,
     "metadata": {},
     "output_type": "execute_result"
    }
   ],
   "source": [
    "emp.company_name()"
   ]
  },
  {
   "cell_type": "code",
   "execution_count": 5,
   "id": "e7ef36ae-7b8d-4b5f-bb25-a3ef7b39ab2d",
   "metadata": {},
   "outputs": [
    {
     "name": "stdout",
     "output_type": "stream",
     "text": [
      "i work at ineuron\n"
     ]
    }
   ],
   "source": [
    "emp.info()"
   ]
  },
  {
   "cell_type": "code",
   "execution_count": 6,
   "id": "2bf9c786-dec6-4586-a31c-833942f23968",
   "metadata": {},
   "outputs": [],
   "source": [
    "# When you initialize a child class in python you can call super().__init__ method \n",
    "# this initialize the parent class object into child class. 2.20"
   ]
  },
  {
   "cell_type": "code",
   "execution_count": 1,
   "id": "fc52927f-7f87-420d-9c7b-6375bcd53273",
   "metadata": {},
   "outputs": [],
   "source": [
    "class Parent:\n",
    "    def __init__(self,v1,v2):\n",
    "        self.v1=v1\n",
    "        self.v2=v2\n",
    "        \n",
    "class child(Parent):\n",
    "    def __init__(self,v1,v2,v3):\n",
    "        super().__init__(v1,v2)\n",
    "        self.v3=v3\n",
    "    "
   ]
  },
  {
   "cell_type": "code",
   "execution_count": 2,
   "id": "ec23be37-9a6a-4128-b85f-a72c7f2edf78",
   "metadata": {},
   "outputs": [],
   "source": [
    "c1 = child(2,3,4)"
   ]
  },
  {
   "cell_type": "code",
   "execution_count": 4,
   "id": "ef61943c-44c5-4f0c-baa8-787163da991f",
   "metadata": {},
   "outputs": [
    {
     "data": {
      "text/plain": [
       "2"
      ]
     },
     "execution_count": 4,
     "metadata": {},
     "output_type": "execute_result"
    }
   ],
   "source": [
    "c1.v1"
   ]
  },
  {
   "cell_type": "code",
   "execution_count": null,
   "id": "37c8ead5-6e5d-44b6-82bf-1dfb7413f140",
   "metadata": {},
   "outputs": [],
   "source": [
    "class classname(parentclass):\n",
    "    def method(self,arg):\n",
    "        super([classmate],[self]).method(args)"
   ]
  },
  {
   "cell_type": "code",
   "execution_count": 7,
   "id": "86b77a00-92be-4a76-8eb5-9d7af3ad26f9",
   "metadata": {},
   "outputs": [],
   "source": [
    "class Parent:\n",
    "    def __init__(self):\n",
    "        print(\"This is the parent class\")\n",
    "        \n",
    "class Parent1:\n",
    "    def __init__(self):\n",
    "        print(\"This is the parent1 class\")\n",
    "        \n",
    "class Parent2:\n",
    "    def __init__(self):\n",
    "        print(\"This is the parent2 class\")\n",
    "        \n",
    "class child(Parent2,Parent1,Parent):\n",
    "    def __init__(self):\n",
    "        super(child,self).__init__()        "
   ]
  },
  {
   "cell_type": "code",
   "execution_count": 8,
   "id": "d82bd7b7-0169-4ebd-9f12-dd5dec62d105",
   "metadata": {},
   "outputs": [
    {
     "name": "stdout",
     "output_type": "stream",
     "text": [
      "This is the parent2 class\n"
     ]
    }
   ],
   "source": [
    "t1=child() #the super is executing the first parent2 beecuase its calling first."
   ]
  },
  {
   "cell_type": "code",
   "execution_count": null,
   "id": "34cfe0d1-4a2e-428a-af45-753fd7e1adfe",
   "metadata": {},
   "outputs": [],
   "source": [
    "#__________________----ENDED-----_____________"
   ]
  }
 ],
 "metadata": {
  "kernelspec": {
   "display_name": "Python 3 (ipykernel)",
   "language": "python",
   "name": "python3"
  },
  "language_info": {
   "codemirror_mode": {
    "name": "ipython",
    "version": 3
   },
   "file_extension": ".py",
   "mimetype": "text/x-python",
   "name": "python",
   "nbconvert_exporter": "python",
   "pygments_lexer": "ipython3",
   "version": "3.10.6"
  }
 },
 "nbformat": 4,
 "nbformat_minor": 5
}
