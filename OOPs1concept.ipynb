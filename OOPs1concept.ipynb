{
 "cells": [
  {
   "cell_type": "code",
   "execution_count": 2,
   "id": "c9eab7c4-7168-46af-ba5d-6f8cd759637e",
   "metadata": {},
   "outputs": [],
   "source": [
    "# Object Oriented programming:\n",
    "\n",
    "# Object: In object we have two things Properties and functionality.\n",
    "\n",
    "\n",
    "# Properties: Attributes(variables), instance variable.\n",
    "\n",
    "# Functionality: like function of object ex: car has colour, milege , price which are functionality of a car"
   ]
  },
  {
   "cell_type": "code",
   "execution_count": 4,
   "id": "60e025d4-06c9-4569-914b-ad9373869e7e",
   "metadata": {},
   "outputs": [],
   "source": [
    "#  Class: is a blueprint or code template for object creation.\n",
    "# Object: object is instance of class.\n",
    "\n",
    "\n",
    "\n",
    "# Properties of object --------> attributes, instance variable\n",
    "# Functionality of object ----------> methods/function()"
   ]
  },
  {
   "cell_type": "code",
   "execution_count": 5,
   "id": "d2d736c4-dbb1-432e-b524-363d8b8373a2",
   "metadata": {},
   "outputs": [],
   "source": [
    "## when creating a class remember alwys give the class name first letter as capital when creating a class."
   ]
  },
  {
   "cell_type": "code",
   "execution_count": 6,
   "id": "dd6e59a6-e25e-4e9c-b436-3cc6be7dbcad",
   "metadata": {},
   "outputs": [],
   "source": [
    "class Emp: # creating a class name Emp\n",
    "    pass"
   ]
  },
  {
   "cell_type": "code",
   "execution_count": 7,
   "id": "af127de8-3703-4a74-9bbd-0e20378e710a",
   "metadata": {},
   "outputs": [],
   "source": [
    "e=Emp() # this is object of class the 'e' is object of class Emp"
   ]
  },
  {
   "cell_type": "code",
   "execution_count": 8,
   "id": "d4744ccc-8f3e-44e1-98e1-40883e63cc62",
   "metadata": {},
   "outputs": [
    {
     "name": "stdout",
     "output_type": "stream",
     "text": [
      "<class '__main__.Emp'>\n"
     ]
    }
   ],
   "source": [
    "print(type(e))"
   ]
  },
  {
   "cell_type": "code",
   "execution_count": 9,
   "id": "6d2e1381-b3f3-4f17-9d51-db6b966a9184",
   "metadata": {},
   "outputs": [],
   "source": [
    "class Robot:\n",
    "    \n",
    "    def introduce_self(self):\n",
    "        print(\"my name is \" + self.name)"
   ]
  },
  {
   "cell_type": "code",
   "execution_count": 10,
   "id": "d0571cf1-1529-428e-bb3a-6553b9f3d0db",
   "metadata": {},
   "outputs": [],
   "source": [
    "r1=Robot() # --r1 is object of class \"Robot\"."
   ]
  },
  {
   "cell_type": "code",
   "execution_count": 11,
   "id": "ca7c2491-061c-48ca-9354-dfd79e12cd91",
   "metadata": {},
   "outputs": [],
   "source": [
    "r1.name='abc'"
   ]
  },
  {
   "cell_type": "code",
   "execution_count": 12,
   "id": "5685e43b-d1c3-4dff-8782-530b332fb09b",
   "metadata": {},
   "outputs": [
    {
     "name": "stdout",
     "output_type": "stream",
     "text": [
      "my name is abc\n"
     ]
    }
   ],
   "source": [
    "r1.introduce_self()"
   ]
  },
  {
   "cell_type": "code",
   "execution_count": 13,
   "id": "f1f48558-fa44-4e34-b3ab-98ff60bb91d1",
   "metadata": {},
   "outputs": [
    {
     "ename": "NameError",
     "evalue": "name 'r2' is not defined",
     "output_type": "error",
     "traceback": [
      "\u001b[0;31m---------------------------------------------------------------------------\u001b[0m",
      "\u001b[0;31mNameError\u001b[0m                                 Traceback (most recent call last)",
      "Cell \u001b[0;32mIn [13], line 1\u001b[0m\n\u001b[0;32m----> 1\u001b[0m \u001b[43mr2\u001b[49m\u001b[38;5;241m.\u001b[39mname \u001b[38;5;241m=\u001b[39m \u001b[38;5;124m\"\u001b[39m\u001b[38;5;124mxyz\u001b[39m\u001b[38;5;124m\"\u001b[39m\n",
      "\u001b[0;31mNameError\u001b[0m: name 'r2' is not defined"
     ]
    }
   ],
   "source": [
    "r2.name = \"xyz\""
   ]
  },
  {
   "cell_type": "code",
   "execution_count": 14,
   "id": "90770224-ba5b-4cf0-9038-2c4f5077adcf",
   "metadata": {},
   "outputs": [],
   "source": [
    "r2 = Robot()"
   ]
  },
  {
   "cell_type": "code",
   "execution_count": 15,
   "id": "15b212a3-10fd-4424-a1db-d60024d971d1",
   "metadata": {},
   "outputs": [],
   "source": [
    "r2.name='xyz'"
   ]
  },
  {
   "cell_type": "code",
   "execution_count": 17,
   "id": "955b55c8-3203-44c0-9361-f8fda967a7a9",
   "metadata": {},
   "outputs": [
    {
     "name": "stdout",
     "output_type": "stream",
     "text": [
      "my name is xyz\n"
     ]
    }
   ],
   "source": [
    "r2.introduce_self()"
   ]
  },
  {
   "cell_type": "code",
   "execution_count": 18,
   "id": "2d63bd6a-3775-4ac6-a099-329260397810",
   "metadata": {},
   "outputs": [],
   "source": [
    "class Robot:\n",
    "    \n",
    "    def __init__(self,name,color,weight): # __init__ means initialize, self is pointer\n",
    "        self.name=name\n",
    "        self.color=color\n",
    "        self.weight=weight\n",
    "    \n",
    "    def introduce_self(self):\n",
    "        print(\"my name is \" + self.name)\n",
    "    "
   ]
  },
  {
   "cell_type": "code",
   "execution_count": 19,
   "id": "2ac97160-5066-43ee-9e6d-921b33675dfa",
   "metadata": {},
   "outputs": [],
   "source": [
    "r1=Robot(\"abc\",\"red\",30)"
   ]
  },
  {
   "cell_type": "code",
   "execution_count": 20,
   "id": "5cfc0c37-80af-48b6-aac1-9acc3bc3b86c",
   "metadata": {},
   "outputs": [],
   "source": [
    "r2=Robot(\"xyz\",\"blue\",40)"
   ]
  },
  {
   "cell_type": "code",
   "execution_count": 21,
   "id": "9cefb9a7-e760-4737-ba1c-eae0219587bd",
   "metadata": {},
   "outputs": [
    {
     "name": "stdout",
     "output_type": "stream",
     "text": [
      "my name is abc\n"
     ]
    }
   ],
   "source": [
    "r1.introduce_self()"
   ]
  },
  {
   "cell_type": "code",
   "execution_count": 22,
   "id": "4213e170-9372-4be2-b080-2e110c3e1257",
   "metadata": {},
   "outputs": [
    {
     "name": "stdout",
     "output_type": "stream",
     "text": [
      "my name is xyz\n"
     ]
    }
   ],
   "source": [
    "r2.introduce_self()"
   ]
  },
  {
   "cell_type": "code",
   "execution_count": 25,
   "id": "3c8a038f-85b9-4027-8427-644de46693c1",
   "metadata": {},
   "outputs": [
    {
     "data": {
      "text/plain": [
       "30"
      ]
     },
     "execution_count": 25,
     "metadata": {},
     "output_type": "execute_result"
    }
   ],
   "source": [
    "r1.weight"
   ]
  },
  {
   "cell_type": "code",
   "execution_count": 26,
   "id": "6041380c-2995-4470-933e-064df48dc6ea",
   "metadata": {},
   "outputs": [
    {
     "data": {
      "text/plain": [
       "'red'"
      ]
     },
     "execution_count": 26,
     "metadata": {},
     "output_type": "execute_result"
    }
   ],
   "source": [
    "r1.color\n"
   ]
  },
  {
   "cell_type": "code",
   "execution_count": 27,
   "id": "abddf779-9769-4d3c-ac14-d71f1b425bf4",
   "metadata": {},
   "outputs": [
    {
     "data": {
      "text/plain": [
       "'xyz'"
      ]
     },
     "execution_count": 27,
     "metadata": {},
     "output_type": "execute_result"
    }
   ],
   "source": [
    "r2.name"
   ]
  },
  {
   "cell_type": "code",
   "execution_count": 28,
   "id": "4db91a87-46c7-4158-9c7d-194ce0fe7568",
   "metadata": {},
   "outputs": [
    {
     "data": {
      "text/plain": [
       "40"
      ]
     },
     "execution_count": 28,
     "metadata": {},
     "output_type": "execute_result"
    }
   ],
   "source": [
    "r2.weight\n"
   ]
  },
  {
   "cell_type": "code",
   "execution_count": 31,
   "id": "c4243126-deb0-45d1-be36-6daa2d644b03",
   "metadata": {},
   "outputs": [],
   "source": [
    "class Person:\n",
    "    \n",
    "    def __init__(self,name,gender,profession):\n",
    "        self.name=name\n",
    "        self.gender=gender\n",
    "        self.profession=profession\n",
    "    \n",
    "    \n",
    "    def show(self):\n",
    "        print(\"Name\", self.name, \"Gender\",self.gender, \"Profession\", self.profession)\n",
    "        \n",
    "    def work(self):\n",
    "        print(self.name, 'working as a', self.profession)"
   ]
  },
  {
   "cell_type": "code",
   "execution_count": 32,
   "id": "548039b4-19aa-4e64-b6da-f07581d765bf",
   "metadata": {},
   "outputs": [],
   "source": [
    "o1 = Person(\"anand\",\"male\",\"engineer\")"
   ]
  },
  {
   "cell_type": "code",
   "execution_count": 33,
   "id": "4720b376-6066-4244-a7e4-daa9486d4702",
   "metadata": {},
   "outputs": [
    {
     "name": "stdout",
     "output_type": "stream",
     "text": [
      "Name anand Gender male Profession engineer\n"
     ]
    }
   ],
   "source": [
    "o1.show()"
   ]
  },
  {
   "cell_type": "code",
   "execution_count": 34,
   "id": "58d0f896-5d02-4517-9aef-71b59e6e42d3",
   "metadata": {},
   "outputs": [
    {
     "name": "stdout",
     "output_type": "stream",
     "text": [
      "anand working as a engineer\n"
     ]
    }
   ],
   "source": [
    "o1.work()"
   ]
  },
  {
   "cell_type": "code",
   "execution_count": 35,
   "id": "14e87845-086d-4b3b-9c5b-d7bcfb116a19",
   "metadata": {},
   "outputs": [],
   "source": [
    "o2 = Person(\"aman\",\"male\",\"student\")"
   ]
  },
  {
   "cell_type": "code",
   "execution_count": 36,
   "id": "db1c9236-652c-448e-bd71-b579c6f6d13d",
   "metadata": {},
   "outputs": [
    {
     "name": "stdout",
     "output_type": "stream",
     "text": [
      "Name aman Gender male Profession student\n"
     ]
    }
   ],
   "source": [
    "o2.show()"
   ]
  },
  {
   "cell_type": "code",
   "execution_count": 37,
   "id": "53d1fdea-a07a-43ff-95d9-61ed731b536e",
   "metadata": {},
   "outputs": [
    {
     "name": "stdout",
     "output_type": "stream",
     "text": [
      "aman working as a student\n"
     ]
    }
   ],
   "source": [
    "o2.work()"
   ]
  },
  {
   "cell_type": "code",
   "execution_count": 38,
   "id": "fe2a9ed5-03a1-4725-85be-c52c50f112dc",
   "metadata": {},
   "outputs": [],
   "source": [
    "o1.name=\"sagar\" #name can be updated here we changer the value."
   ]
  },
  {
   "cell_type": "code",
   "execution_count": 39,
   "id": "baa00fdd-597e-440e-99f2-d9b2a3a91e70",
   "metadata": {},
   "outputs": [
    {
     "data": {
      "text/plain": [
       "'sagar'"
      ]
     },
     "execution_count": 39,
     "metadata": {},
     "output_type": "execute_result"
    }
   ],
   "source": [
    "o1.name"
   ]
  },
  {
   "cell_type": "code",
   "execution_count": 40,
   "id": "e94451f2-2c4c-4ff3-8dca-33bc08b8b795",
   "metadata": {},
   "outputs": [
    {
     "name": "stdout",
     "output_type": "stream",
     "text": [
      "Name sagar Gender male Profession engineer\n"
     ]
    }
   ],
   "source": [
    "o1.show()"
   ]
  },
  {
   "cell_type": "code",
   "execution_count": 41,
   "id": "10b290ce-d528-4e25-b7ba-c3412a8ae2e8",
   "metadata": {},
   "outputs": [],
   "source": [
    "class Emp:\n",
    "    \n",
    "    def __init__(self):\n",
    "        print(id(self))\n",
    "        self.age=25\n",
    "        self.name=\"anand\"\n",
    "        self.salary=300000"
   ]
  },
  {
   "cell_type": "code",
   "execution_count": 42,
   "id": "07059320-8645-4071-8a49-89ab3af02271",
   "metadata": {},
   "outputs": [
    {
     "name": "stdout",
     "output_type": "stream",
     "text": [
      "140426915658288\n"
     ]
    }
   ],
   "source": [
    "e1=Emp()"
   ]
  },
  {
   "cell_type": "code",
   "execution_count": 43,
   "id": "2e182e19-764a-45ba-bf55-da62886129ea",
   "metadata": {},
   "outputs": [
    {
     "data": {
      "text/plain": [
       "300000"
      ]
     },
     "execution_count": 43,
     "metadata": {},
     "output_type": "execute_result"
    }
   ],
   "source": [
    "e1.salary"
   ]
  },
  {
   "cell_type": "code",
   "execution_count": 44,
   "id": "a965ea2e-ecbc-40b8-9779-3d3945383751",
   "metadata": {},
   "outputs": [
    {
     "data": {
      "text/plain": [
       "'anand'"
      ]
     },
     "execution_count": 44,
     "metadata": {},
     "output_type": "execute_result"
    }
   ],
   "source": [
    "e1.name"
   ]
  },
  {
   "cell_type": "code",
   "execution_count": 45,
   "id": "104749b5-d7c5-4319-945c-d89d535687a8",
   "metadata": {},
   "outputs": [],
   "source": [
    "e1.weight=34"
   ]
  },
  {
   "cell_type": "code",
   "execution_count": 46,
   "id": "1066f9ba-a3fa-4417-8c59-195641b9b73d",
   "metadata": {},
   "outputs": [
    {
     "data": {
      "text/plain": [
       "34"
      ]
     },
     "execution_count": 46,
     "metadata": {},
     "output_type": "execute_result"
    }
   ],
   "source": [
    "e1.weight"
   ]
  },
  {
   "cell_type": "code",
   "execution_count": 47,
   "id": "0cfd5a87-0ed4-4f2d-ba18-261357d01483",
   "metadata": {},
   "outputs": [],
   "source": [
    "# Ques. - with help of class and object try to make class as circle and findout area and circumference of circle? "
   ]
  },
  {
   "cell_type": "code",
   "execution_count": 49,
   "id": "65d08f2f-f308-45b1-a9b6-6e37fd73e311",
   "metadata": {},
   "outputs": [],
   "source": [
    "class Circle:\n",
    "    \n",
    "    def __init__(self,radius):\n",
    "        self.radius=radius\n",
    "        \n",
    "    def circumfernce(self):\n",
    "        return 2*3.14*self.radius\n",
    "    \n",
    "    def area(self):\n",
    "        return 3.14*self.radius*self.radius"
   ]
  },
  {
   "cell_type": "code",
   "execution_count": 50,
   "id": "a4d94b38-8823-494f-be2c-d2bdac3b7876",
   "metadata": {},
   "outputs": [],
   "source": [
    "r = Circle(7)"
   ]
  },
  {
   "cell_type": "code",
   "execution_count": 51,
   "id": "124e20ef-d2f3-47a7-8dc1-e1e999fe24c7",
   "metadata": {},
   "outputs": [
    {
     "data": {
      "text/plain": [
       "153.86"
      ]
     },
     "execution_count": 51,
     "metadata": {},
     "output_type": "execute_result"
    }
   ],
   "source": [
    "r.area()"
   ]
  },
  {
   "cell_type": "code",
   "execution_count": 52,
   "id": "37019fca-d23c-499d-8a1a-dfbf1d75aacd",
   "metadata": {},
   "outputs": [
    {
     "data": {
      "text/plain": [
       "43.96"
      ]
     },
     "execution_count": 52,
     "metadata": {},
     "output_type": "execute_result"
    }
   ],
   "source": [
    "r.circumfernce()"
   ]
  },
  {
   "cell_type": "code",
   "execution_count": 56,
   "id": "1ccd3b0f-2206-4a34-b560-4de5b1d851de",
   "metadata": {},
   "outputs": [],
   "source": [
    "r = Circle(10)"
   ]
  },
  {
   "cell_type": "code",
   "execution_count": 57,
   "id": "e2ebd55c-46e8-4779-8195-4a85e0507253",
   "metadata": {},
   "outputs": [
    {
     "name": "stdout",
     "output_type": "stream",
     "text": [
      "314.0\n",
      "62.800000000000004\n"
     ]
    }
   ],
   "source": [
    "print(r.area())\n",
    "print(r.circumfernce())"
   ]
  },
  {
   "cell_type": "code",
   "execution_count": 1,
   "id": "fec6771d-501f-422a-9e16-62a02303d942",
   "metadata": {},
   "outputs": [],
   "source": [
    "# 1. create class Bankaccount.\n",
    "# 2. create constructor accountnumber, name, balance\n",
    "# 3. deposit()\n",
    "# 4. withrawal\n",
    "# 5. display account details"
   ]
  },
  {
   "cell_type": "code",
   "execution_count": 3,
   "id": "49bf7208-0e5a-4eaa-b0a9-309490c60054",
   "metadata": {},
   "outputs": [],
   "source": [
    "class Bankaccount:\n",
    "    \n",
    "    def __init__(self,name,accountnumber,balance):\n",
    "        self.name=name\n",
    "        self.accountnumber=accountnumber\n",
    "        self.balance= balance\n",
    "        \n",
    "    def deposit(self,d_amount):\n",
    "        self.d_amount=d_amount\n",
    "        self.balance += self.d_amount\n",
    "        print(self.d_amount, 'is credited into your bank account')\n",
    "        print(f'your current balance is {self.balance}')\n",
    "        \n",
    "    def withdraw(self,w_amount):\n",
    "        self.w_amount = w_amount\n",
    "        self.balance -= self.w_amount\n",
    "        print(self.w_amount, 'is debited into your bank account')\n",
    "        print(f'your current balance is {self.balance}')\n",
    "        \n",
    "    def account_details(self):\n",
    "        print(f'your name is {self.name}')\n",
    "        print(f'your acc number is {self.accountnumber}')\n",
    "        print(f'your balance is {self.balance}')\n",
    "        "
   ]
  },
  {
   "cell_type": "code",
   "execution_count": 6,
   "id": "3eb18bab-b34f-4388-9778-c40252e32f09",
   "metadata": {},
   "outputs": [],
   "source": [
    "ba=Bankaccount(\"anand\", 34156, 3000)"
   ]
  },
  {
   "cell_type": "code",
   "execution_count": 7,
   "id": "08451be0-3113-4822-897d-a1c5eead5ab9",
   "metadata": {},
   "outputs": [
    {
     "name": "stdout",
     "output_type": "stream",
     "text": [
      "your name is anand\n",
      "your acc number is 34156\n",
      "your balance is 3000\n"
     ]
    }
   ],
   "source": [
    "ba.account_details()"
   ]
  },
  {
   "cell_type": "code",
   "execution_count": 8,
   "id": "cdfe7316-209d-45d4-b05a-d5f8f8a58e6e",
   "metadata": {},
   "outputs": [
    {
     "name": "stdout",
     "output_type": "stream",
     "text": [
      "5000 is credited into your bank account\n",
      "your current balance is 8000\n"
     ]
    }
   ],
   "source": [
    "ba.deposit(5000)"
   ]
  },
  {
   "cell_type": "code",
   "execution_count": 9,
   "id": "4910753d-174a-4ada-8d3d-98560140a653",
   "metadata": {},
   "outputs": [
    {
     "name": "stdout",
     "output_type": "stream",
     "text": [
      "2500 is debited into your bank account\n",
      "your current balance is 5500\n"
     ]
    }
   ],
   "source": [
    "ba.withdraw(2500)"
   ]
  },
  {
   "cell_type": "code",
   "execution_count": 15,
   "id": "71592342-0374-459f-8656-6facb57192d5",
   "metadata": {},
   "outputs": [],
   "source": [
    "am = Bankaccount(\"aman\" , 45612, 87000)"
   ]
  },
  {
   "cell_type": "code",
   "execution_count": 16,
   "id": "ac64df77-bf1f-408e-bcb4-a85ae0dbf441",
   "metadata": {},
   "outputs": [
    {
     "name": "stdout",
     "output_type": "stream",
     "text": [
      "your name is aman\n",
      "your acc number is 45612\n",
      "your balance is 87000\n"
     ]
    }
   ],
   "source": [
    "am.account_details()"
   ]
  },
  {
   "cell_type": "code",
   "execution_count": 18,
   "id": "32261b32-7e05-493e-b244-c1008594ff96",
   "metadata": {},
   "outputs": [
    {
     "data": {
      "text/plain": [
       "87000"
      ]
     },
     "execution_count": 18,
     "metadata": {},
     "output_type": "execute_result"
    }
   ],
   "source": [
    "am.balance"
   ]
  },
  {
   "cell_type": "code",
   "execution_count": 19,
   "id": "8451e150-7bf0-4161-8fa3-5b5cb6d5d764",
   "metadata": {},
   "outputs": [
    {
     "name": "stdout",
     "output_type": "stream",
     "text": [
      "900 is credited into your bank account\n",
      "your current balance is 87900\n"
     ]
    }
   ],
   "source": [
    "am.deposit(900)"
   ]
  },
  {
   "cell_type": "code",
   "execution_count": 20,
   "id": "87d30928-1774-4304-89b0-814e6dca31ab",
   "metadata": {},
   "outputs": [
    {
     "name": "stdout",
     "output_type": "stream",
     "text": [
      "50000 is debited into your bank account\n",
      "your current balance is 37900\n"
     ]
    }
   ],
   "source": [
    "am.withdraw(50000)"
   ]
  },
  {
   "cell_type": "code",
   "execution_count": 21,
   "id": "1a87d038-b986-4e06-80b8-52ecd5bfee83",
   "metadata": {},
   "outputs": [
    {
     "name": "stdout",
     "output_type": "stream",
     "text": [
      "your name is aman\n",
      "your acc number is 45612\n",
      "your balance is 37900\n"
     ]
    }
   ],
   "source": [
    "am.account_details()"
   ]
  },
  {
   "cell_type": "code",
   "execution_count": 22,
   "id": "45045d48-2401-4106-8a9f-60af47654fbb",
   "metadata": {},
   "outputs": [],
   "source": [
    "#=================-------------------=======----------ended-----------========----------===="
   ]
  },
  {
   "cell_type": "code",
   "execution_count": 22,
   "id": "0f22f485-f069-452f-85e3-8f62ba38320e",
   "metadata": {},
   "outputs": [],
   "source": [
    "##  17 december class - Class Encapsulation "
   ]
  },
  {
   "cell_type": "code",
   "execution_count": 27,
   "id": "b9a91455-0427-4584-8167-0bccd7258133",
   "metadata": {},
   "outputs": [],
   "source": [
    "class Car:\n",
    "    pass"
   ]
  },
  {
   "cell_type": "code",
   "execution_count": 28,
   "id": "268fb867-ac24-4298-b200-cc40716a5e04",
   "metadata": {},
   "outputs": [],
   "source": [
    "audi = Car()"
   ]
  },
  {
   "cell_type": "code",
   "execution_count": 29,
   "id": "181a74ba-2846-432c-80bd-68f243d527f3",
   "metadata": {},
   "outputs": [],
   "source": [
    "audi.milege=10\n",
    "audi.year=2010\n",
    "audi.make=345\n",
    "audi.model='abc'"
   ]
  },
  {
   "cell_type": "code",
   "execution_count": 30,
   "id": "00d492de-90aa-44e2-ab37-93f42f113faf",
   "metadata": {},
   "outputs": [
    {
     "data": {
      "text/plain": [
       "345"
      ]
     },
     "execution_count": 30,
     "metadata": {},
     "output_type": "execute_result"
    }
   ],
   "source": [
    "audi.make"
   ]
  },
  {
   "cell_type": "code",
   "execution_count": 31,
   "id": "875264b6-ad94-4144-9f7a-11e88447d5f0",
   "metadata": {},
   "outputs": [
    {
     "data": {
      "text/plain": [
       "10"
      ]
     },
     "execution_count": 31,
     "metadata": {},
     "output_type": "execute_result"
    }
   ],
   "source": [
    "audi.milege"
   ]
  },
  {
   "cell_type": "code",
   "execution_count": 32,
   "id": "bd093e87-6a8c-4dd4-8670-d34cdb6f4b83",
   "metadata": {},
   "outputs": [],
   "source": [
    "nano = Car()\n"
   ]
  },
  {
   "cell_type": "code",
   "execution_count": 33,
   "id": "f15ac6f8-1e25-40f6-b139-e1a36aeef995",
   "metadata": {},
   "outputs": [],
   "source": [
    "nano.milege=45\n",
    "nano.year=2022\n",
    "nano.model=\"v\""
   ]
  },
  {
   "cell_type": "code",
   "execution_count": 34,
   "id": "1c088088-8de3-4f91-87fd-f308207a6526",
   "metadata": {},
   "outputs": [
    {
     "data": {
      "text/plain": [
       "'v'"
      ]
     },
     "execution_count": 34,
     "metadata": {},
     "output_type": "execute_result"
    }
   ],
   "source": [
    "nano.model"
   ]
  },
  {
   "cell_type": "code",
   "execution_count": 35,
   "id": "3462e4f0-51cc-456c-a45a-8bc579492124",
   "metadata": {},
   "outputs": [],
   "source": [
    "class Car:\n",
    "    def __init__(self,mileage,year,make,model):\n",
    "        self.mileage=mileage\n",
    "        self.year=year\n",
    "        self.make=make\n",
    "        self.model=model"
   ]
  },
  {
   "cell_type": "code",
   "execution_count": 37,
   "id": "c9c8d989-eac8-488a-8963-83c893b62c1f",
   "metadata": {},
   "outputs": [],
   "source": [
    "nano1 = Car(10,2009,45,'kjhg')\n",
    "nano2 = Car(10,2009,45,'kjhg')\n",
    "nano3 = Car(10,2009,45,'kjhg')\n",
    "nano4 = Car(10,2009,45,'kjhg')\n",
    "nano5 = Car(10,2009,45,'kjhg')"
   ]
  },
  {
   "cell_type": "code",
   "execution_count": 51,
   "id": "4127ea76-4abc-4640-8a9e-8838db6f40e5",
   "metadata": {},
   "outputs": [],
   "source": [
    "class Car:\n",
    "    def __init__(a,m,y,ma,mo):\n",
    "        a.mileage=m\n",
    "        a.year=y\n",
    "        a.make=ma\n",
    "        a.model=mo\n",
    "    def age(b,current_year):\n",
    "        return current_year-b.year\n",
    "    \n",
    "    def mileage1(self):\n",
    "        print(\"Print a mileage of the call\", self.mileage)\n",
    "        \n",
    "    def __str__(c):\n",
    "        return \"this is from class i have created\"\n",
    "        \n",
    "\n",
    "        "
   ]
  },
  {
   "cell_type": "code",
   "execution_count": 52,
   "id": "9a4bd60a-3502-4c76-9958-83cf83247a78",
   "metadata": {},
   "outputs": [],
   "source": [
    "nano23 = Car(10,2005,45,\"uhj\")"
   ]
  },
  {
   "cell_type": "code",
   "execution_count": 45,
   "id": "a9945d0e-6054-4a5f-b771-f33a838b8ed8",
   "metadata": {},
   "outputs": [
    {
     "data": {
      "text/plain": [
       "15"
      ]
     },
     "execution_count": 45,
     "metadata": {},
     "output_type": "execute_result"
    }
   ],
   "source": [
    "nano23.age(2020)"
   ]
  },
  {
   "cell_type": "code",
   "execution_count": 49,
   "id": "520b1b37-44bc-42b1-8bde-d3a74f24e64e",
   "metadata": {},
   "outputs": [
    {
     "name": "stdout",
     "output_type": "stream",
     "text": [
      "Print a mileage of the call 10\n"
     ]
    }
   ],
   "source": [
    "nano23.mileage1()"
   ]
  },
  {
   "cell_type": "code",
   "execution_count": 53,
   "id": "46b044f7-14cf-4539-897a-c039558cdaea",
   "metadata": {},
   "outputs": [
    {
     "name": "stdout",
     "output_type": "stream",
     "text": [
      "this is from class i have created\n"
     ]
    }
   ],
   "source": [
    "print(nano23)"
   ]
  },
  {
   "cell_type": "code",
   "execution_count": 57,
   "id": "ecd5cc36-f9c7-42e3-b8b7-3858f0470275",
   "metadata": {},
   "outputs": [],
   "source": [
    "class Person:\n",
    "    def __init__(self,first_name,last_name,age):\n",
    "        self.first_name=first_name\n",
    "        self.last_name=last_name\n",
    "        self.age=age\n",
    "        \n",
    "    def __str__(self):\n",
    "        return \"this is the person class\""
   ]
  },
  {
   "cell_type": "code",
   "execution_count": 58,
   "id": "7149d9bd-5029-42d4-a1fb-8c619b9d066e",
   "metadata": {},
   "outputs": [],
   "source": [
    "person=Person(\"anand\", \"jan\", 24)"
   ]
  },
  {
   "cell_type": "code",
   "execution_count": 59,
   "id": "8083399d-f54b-4c72-ac2e-32c69f1d759e",
   "metadata": {},
   "outputs": [
    {
     "name": "stdout",
     "output_type": "stream",
     "text": [
      "this is the person class\n"
     ]
    }
   ],
   "source": [
    "print(person)\n"
   ]
  },
  {
   "cell_type": "code",
   "execution_count": 60,
   "id": "2f69aa92-0006-4692-9814-0ee454d292f5",
   "metadata": {},
   "outputs": [
    {
     "data": {
      "text/plain": [
       "'anand'"
      ]
     },
     "execution_count": 60,
     "metadata": {},
     "output_type": "execute_result"
    }
   ],
   "source": [
    "person.first_name"
   ]
  },
  {
   "cell_type": "code",
   "execution_count": 2,
   "id": "a8683d67-f64d-4ae9-81e4-814a9fb46daa",
   "metadata": {},
   "outputs": [],
   "source": [
    "# Try snd except problems:"
   ]
  },
  {
   "cell_type": "code",
   "execution_count": 3,
   "id": "99c16d1f-fd19-4c61-988b-d602948d68bd",
   "metadata": {},
   "outputs": [],
   "source": [
    "class Student:\n",
    "    def __init__(self,name,rollno,joining_date,current_topic):\n",
    "        self.name=name\n",
    "        self.rollno=rollno\n",
    "        self.joining_date=joining_date\n",
    "        self.current_topic=current_topic\n",
    "        \n",
    "    def cur_topic(self):\n",
    "        print(\"cutrrent topic in class is\", self.current_topic)\n",
    "    \n",
    "    def str_rollno(self):\n",
    "        \n",
    "        try:\n",
    "            if type(self.rollno)==str:\n",
    "                print(\"do nothing\")\n",
    "            \n",
    "            else:\n",
    "                return str(self.rollno)\n",
    "        except Exception as e:\n",
    "            \n",
    "            print(\"this is my error message\", e)\n",
    "            \n",
    "    def duration(self,current_date):\n",
    "        \n",
    "        print(\"duration of student in my class is\", current_date-self.joining_date)\n",
    "        \n",
    "    def __str__(self):\n",
    "        return \"this is student class\"\n",
    "            "
   ]
  },
  {
   "cell_type": "code",
   "execution_count": 4,
   "id": "d5e4f396-37a6-4ac6-a52b-6a2000ef0277",
   "metadata": {},
   "outputs": [],
   "source": [
    "s1=Student(\"imran\",45,2007,\"data science\")"
   ]
  },
  {
   "cell_type": "code",
   "execution_count": 5,
   "id": "d3012797-0a68-488a-9b64-e2052a5146a9",
   "metadata": {},
   "outputs": [
    {
     "name": "stdout",
     "output_type": "stream",
     "text": [
      "this is student class\n"
     ]
    }
   ],
   "source": [
    "print(s1)"
   ]
  },
  {
   "cell_type": "code",
   "execution_count": 6,
   "id": "20031512-6f71-43cd-8044-ef7397970352",
   "metadata": {},
   "outputs": [
    {
     "name": "stdout",
     "output_type": "stream",
     "text": [
      "duration of student in my class is 3\n"
     ]
    }
   ],
   "source": [
    "s1.duration(2010)"
   ]
  },
  {
   "cell_type": "code",
   "execution_count": 7,
   "id": "09e6c1ef-0727-47db-9069-d7193ec450d3",
   "metadata": {},
   "outputs": [
    {
     "data": {
      "text/plain": [
       "'45'"
      ]
     },
     "execution_count": 7,
     "metadata": {},
     "output_type": "execute_result"
    }
   ],
   "source": [
    "s1.str_rollno()"
   ]
  },
  {
   "cell_type": "code",
   "execution_count": 8,
   "id": "76655958-2df7-4a77-b4e2-681696641245",
   "metadata": {},
   "outputs": [
    {
     "name": "stdout",
     "output_type": "stream",
     "text": [
      "cutrrent topic in class is data science\n"
     ]
    }
   ],
   "source": [
    "s1.cur_topic()"
   ]
  },
  {
   "cell_type": "code",
   "execution_count": 9,
   "id": "730c1e6c-6923-4eb4-b094-aa840930bb5f",
   "metadata": {},
   "outputs": [],
   "source": [
    "# Creating a calculator from class and object?"
   ]
  },
  {
   "cell_type": "code",
   "execution_count": 10,
   "id": "574bf75c-5bf0-4da1-b956-2dd3de2e8b4f",
   "metadata": {},
   "outputs": [],
   "source": [
    "class Calculator:\n",
    "    \n",
    "    def __init__(self,a,b):\n",
    "        self.a=a\n",
    "        self.b=b\n",
    "        \n",
    "    def add(self):\n",
    "        return self.a + self.b\n",
    "    \n",
    "    def sub(self):\n",
    "        return self.a - self.b\n",
    "    \n",
    "    def mul(self):\n",
    "        return self.a*self.b\n",
    "    \n",
    "    def div(self):\n",
    "        return self.a/self.b\n",
    "    \n",
    "    def __str__(self):\n",
    "        print(\"this is my calculator\")\n",
    "    "
   ]
  },
  {
   "cell_type": "code",
   "execution_count": 11,
   "id": "301eec1a-495a-4691-a073-0dab088cbd5e",
   "metadata": {},
   "outputs": [],
   "source": [
    "c1 = Calculator(5,10)"
   ]
  },
  {
   "cell_type": "code",
   "execution_count": 12,
   "id": "89dd83bf-64e7-447a-a75f-6e62e2272544",
   "metadata": {},
   "outputs": [
    {
     "data": {
      "text/plain": [
       "15"
      ]
     },
     "execution_count": 12,
     "metadata": {},
     "output_type": "execute_result"
    }
   ],
   "source": [
    "c1.add()"
   ]
  },
  {
   "cell_type": "code",
   "execution_count": 13,
   "id": "97d2fe63-2e54-40d4-83e7-405783e67a3f",
   "metadata": {},
   "outputs": [
    {
     "data": {
      "text/plain": [
       "0.5"
      ]
     },
     "execution_count": 13,
     "metadata": {},
     "output_type": "execute_result"
    }
   ],
   "source": [
    "c1.div()"
   ]
  },
  {
   "cell_type": "code",
   "execution_count": 15,
   "id": "809e5a93-23de-42c8-ac98-8ade2918b719",
   "metadata": {},
   "outputs": [],
   "source": [
    "# Default constructor: (ex:- __init__, __str__ etc. are constructors)\n",
    "# The default constructor are those when python automatically inbuilt a constructor for a program."
   ]
  },
  {
   "cell_type": "code",
   "execution_count": 16,
   "id": "ff010314-64f8-4c54-9b31-5d51e2069fea",
   "metadata": {},
   "outputs": [],
   "source": [
    "# default constructor example:\n",
    "\n",
    "class Student:\n",
    "    \n",
    "    def who(self):\n",
    "        print(\"I am a student\")"
   ]
  },
  {
   "cell_type": "code",
   "execution_count": 17,
   "id": "3759941e-0cd0-43e7-b1f7-42c86484a5ed",
   "metadata": {},
   "outputs": [],
   "source": [
    "s1=Student()"
   ]
  },
  {
   "cell_type": "code",
   "execution_count": 18,
   "id": "d0443527-fa3e-41e8-a3e4-5c533837f630",
   "metadata": {},
   "outputs": [
    {
     "name": "stdout",
     "output_type": "stream",
     "text": [
      "I am a student\n"
     ]
    }
   ],
   "source": [
    "s1.who()"
   ]
  },
  {
   "cell_type": "code",
   "execution_count": 19,
   "id": "c8d42d1e-0a37-4de0-90d3-180110640570",
   "metadata": {},
   "outputs": [],
   "source": [
    "# Non paramtized constructor:\n",
    "\n",
    "class Company:\n",
    "    def __init__(self): #no parameter is given so non parametirzed.\n",
    "        self.name=\"anand\"\n",
    "        self.address=\"sikar\"\n",
    "        \n",
    "    def show(self):\n",
    "        print(\"name\", self.name,\"address\", self.address)"
   ]
  },
  {
   "cell_type": "code",
   "execution_count": 20,
   "id": "52636cb6-c015-4234-9b70-04b60d7249cc",
   "metadata": {},
   "outputs": [],
   "source": [
    "cmp=Company()"
   ]
  },
  {
   "cell_type": "code",
   "execution_count": 21,
   "id": "83493ec1-b914-4a83-bd5d-0a60fd700859",
   "metadata": {},
   "outputs": [
    {
     "name": "stdout",
     "output_type": "stream",
     "text": [
      "name anand address sikar\n"
     ]
    }
   ],
   "source": [
    "cmp.show()"
   ]
  },
  {
   "cell_type": "code",
   "execution_count": 22,
   "id": "8769ed19-2f7f-4e9f-86c9-d785374bcd08",
   "metadata": {},
   "outputs": [],
   "source": [
    "# Parametirized constructor: all above example we have done are parametrized example."
   ]
  },
  {
   "cell_type": "code",
   "execution_count": 28,
   "id": "ce844417-7971-402d-8a14-2e62baa33ec4",
   "metadata": {},
   "outputs": [],
   "source": [
    "class Public:\n",
    "    \n",
    "    def __init__(self,name,age):\n",
    "        self.name=name\n",
    "        self.age=age\n",
    "        \n",
    "    def age1(self):\n",
    "        print(\"age1\", self.age)\n",
    "        "
   ]
  },
  {
   "cell_type": "code",
   "execution_count": 29,
   "id": "9af9f8bd-0b68-4336-887a-5bbff5656e86",
   "metadata": {},
   "outputs": [],
   "source": [
    "c1= Public(\"anand\",25)"
   ]
  },
  {
   "cell_type": "code",
   "execution_count": 31,
   "id": "40f9289c-ecbc-48e7-8c25-68bd2e3eaecf",
   "metadata": {},
   "outputs": [
    {
     "name": "stdout",
     "output_type": "stream",
     "text": [
      "age1 25\n"
     ]
    }
   ],
   "source": [
    "c1.age1()"
   ]
  },
  {
   "cell_type": "code",
   "execution_count": 27,
   "id": "52380976-33a5-4eb0-bcb9-65348079cfe8",
   "metadata": {},
   "outputs": [
    {
     "data": {
      "text/plain": [
       "'anand'"
      ]
     },
     "execution_count": 27,
     "metadata": {},
     "output_type": "execute_result"
    }
   ],
   "source": [
    "c1.name"
   ]
  },
  {
   "cell_type": "code",
   "execution_count": 33,
   "id": "ff562639-b7f5-447f-8c96-2b3d4e29ca37",
   "metadata": {},
   "outputs": [],
   "source": [
    "## Encapsulation: is bundling the data members and functions or bundling methods and attributes in single class."
   ]
  },
  {
   "cell_type": "code",
   "execution_count": 34,
   "id": "77867743-1ed7-407f-afb3-d96346cfbb48",
   "metadata": {},
   "outputs": [],
   "source": [
    "## Modifiers: Access modifiers three types- 1. Private( __ ), 2. Protected( _ ), 3. Public"
   ]
  },
  {
   "cell_type": "code",
   "execution_count": 42,
   "id": "6df913d4-328d-4a2f-8532-c0bc52b4ae88",
   "metadata": {},
   "outputs": [],
   "source": [
    "class Rectangle:\n",
    "   # __length = 0\n",
    "    #__breath = 0\n",
    "    \n",
    "    def __init__(self):\n",
    "        self.length=5\n",
    "        self.__breath=3\n",
    "        \n",
    "        print(self.length)\n",
    "        print(self.__breath)\n",
    "    \n",
    "    "
   ]
  },
  {
   "cell_type": "code",
   "execution_count": 43,
   "id": "e7c14c2a-6dcc-4ce0-8801-afca1757a0e3",
   "metadata": {},
   "outputs": [
    {
     "name": "stdout",
     "output_type": "stream",
     "text": [
      "5\n",
      "3\n"
     ]
    }
   ],
   "source": [
    "r1=Rectangle()"
   ]
  },
  {
   "cell_type": "code",
   "execution_count": 44,
   "id": "8a78880d-2a34-4941-b80b-07242f291121",
   "metadata": {},
   "outputs": [
    {
     "data": {
      "text/plain": [
       "5"
      ]
     },
     "execution_count": 44,
     "metadata": {},
     "output_type": "execute_result"
    }
   ],
   "source": [
    "r1.length"
   ]
  },
  {
   "cell_type": "code",
   "execution_count": 45,
   "id": "953a8079-1de5-4787-aefe-fb6fc0e2452d",
   "metadata": {},
   "outputs": [
    {
     "ename": "AttributeError",
     "evalue": "'Rectangle' object has no attribute 'breath'",
     "output_type": "error",
     "traceback": [
      "\u001b[0;31m---------------------------------------------------------------------------\u001b[0m",
      "\u001b[0;31mAttributeError\u001b[0m                            Traceback (most recent call last)",
      "Cell \u001b[0;32mIn [45], line 1\u001b[0m\n\u001b[0;32m----> 1\u001b[0m \u001b[43mr1\u001b[49m\u001b[38;5;241;43m.\u001b[39;49m\u001b[43mbreath\u001b[49m\n",
      "\u001b[0;31mAttributeError\u001b[0m: 'Rectangle' object has no attribute 'breath'"
     ]
    }
   ],
   "source": [
    "r1.breath #here length is public and breath is private so  cant be accessed in object but can be seen within class r1=Rectangler()."
   ]
  },
  {
   "cell_type": "code",
   "execution_count": 46,
   "id": "9d76c284-a717-4baf-8d3f-279479a92d29",
   "metadata": {},
   "outputs": [
    {
     "name": "stdout",
     "output_type": "stream",
     "text": [
      "5\n",
      "3\n",
      "5\n"
     ]
    },
    {
     "ename": "AttributeError",
     "evalue": "'Rectangle' object has no attribute '__breath'",
     "output_type": "error",
     "traceback": [
      "\u001b[0;31m---------------------------------------------------------------------------\u001b[0m",
      "\u001b[0;31mAttributeError\u001b[0m                            Traceback (most recent call last)",
      "Cell \u001b[0;32mIn [46], line 17\u001b[0m\n\u001b[1;32m     15\u001b[0m rect\u001b[38;5;241m=\u001b[39mRectangle()\n\u001b[1;32m     16\u001b[0m \u001b[38;5;28mprint\u001b[39m(rect\u001b[38;5;241m.\u001b[39mlength)\n\u001b[0;32m---> 17\u001b[0m \u001b[38;5;28mprint\u001b[39m(\u001b[43mrect\u001b[49m\u001b[38;5;241;43m.\u001b[39;49m\u001b[43m__breath\u001b[49m)\n",
      "\u001b[0;31mAttributeError\u001b[0m: 'Rectangle' object has no attribute '__breath'"
     ]
    }
   ],
   "source": [
    "class Rectangle:\n",
    "   # __length = 0\n",
    "    #__breath = 0\n",
    "    \n",
    "    def __init__(self):\n",
    "        self.length=5   # public\n",
    "        self.__breath=3 #private\n",
    "        \n",
    "        print(self.length)\n",
    "        print(self.__breath)\n",
    "    \n",
    "    def show(self):\n",
    "        print(\"this is printing private variable\", self.__breath)\n",
    "        \n",
    "rect=Rectangle()\n",
    "print(rect.length)\n",
    "print(rect.__breath)"
   ]
  },
  {
   "cell_type": "code",
   "execution_count": 47,
   "id": "0b3f3dc6-f5f1-4428-adb3-143e51a810a8",
   "metadata": {},
   "outputs": [
    {
     "name": "stdout",
     "output_type": "stream",
     "text": [
      "this is printing private variable 3\n"
     ]
    }
   ],
   "source": [
    "rect.show()"
   ]
  },
  {
   "cell_type": "code",
   "execution_count": 48,
   "id": "43bed018-9a1e-4146-bf3d-a8dec360024e",
   "metadata": {},
   "outputs": [
    {
     "data": {
      "text/plain": [
       "3"
      ]
     },
     "execution_count": 48,
     "metadata": {},
     "output_type": "execute_result"
    }
   ],
   "source": [
    "rect._Rectangle__breath"
   ]
  },
  {
   "cell_type": "code",
   "execution_count": 50,
   "id": "457d206d-de04-4102-ac3d-619e0775bdda",
   "metadata": {},
   "outputs": [],
   "source": [
    "class Test:\n",
    "    \n",
    "    def __init__(self):\n",
    "        self.a=6\n",
    "        self._b=5\n",
    "        self.__c=8\n",
    "        \n",
    "        print(\"public\",self.a, \"protected\",self._b, \"private\", self.__c)\n",
    "    \n",
    "    def show(self):   # Data Mangling mrthod-1 to access private and protected. \n",
    "        \n",
    "        print(\"protected\",self._b, \"private\", self.__c)\n",
    "        \n",
    "    \n",
    "        "
   ]
  },
  {
   "cell_type": "code",
   "execution_count": 51,
   "id": "b105f114-95fb-495b-94fd-a473b28790ca",
   "metadata": {},
   "outputs": [
    {
     "name": "stdout",
     "output_type": "stream",
     "text": [
      "public 6 protected 5 private 8\n"
     ]
    }
   ],
   "source": [
    "t2=Test()"
   ]
  },
  {
   "cell_type": "code",
   "execution_count": 52,
   "id": "32293e67-5585-4c2f-b28f-bf111aecc9af",
   "metadata": {},
   "outputs": [
    {
     "name": "stdout",
     "output_type": "stream",
     "text": [
      "protected 5 private 8\n"
     ]
    }
   ],
   "source": [
    "t2.show()"
   ]
  },
  {
   "cell_type": "code",
   "execution_count": 53,
   "id": "e30a35e1-85f3-4a5b-994b-b4d93217f865",
   "metadata": {},
   "outputs": [
    {
     "data": {
      "text/plain": [
       "8"
      ]
     },
     "execution_count": 53,
     "metadata": {},
     "output_type": "execute_result"
    }
   ],
   "source": [
    "t2._Test__c # Data mangling method-2 to access private. use object._class__variable"
   ]
  },
  {
   "cell_type": "code",
   "execution_count": 55,
   "id": "788f2eae-6ff9-4440-af77-1d65947f124b",
   "metadata": {},
   "outputs": [
    {
     "data": {
      "text/plain": [
       "5"
      ]
     },
     "execution_count": 55,
     "metadata": {},
     "output_type": "execute_result"
    }
   ],
   "source": [
    "t2._b # Data mangling to access protected. use object._variable"
   ]
  },
  {
   "cell_type": "code",
   "execution_count": 56,
   "id": "7eb0800a-a168-4310-9b8f-aa86660d72d1",
   "metadata": {},
   "outputs": [],
   "source": [
    "# ------------ This whole concept is called Encapsulation---------------======Hiding objects using methods and mangling"
   ]
  },
  {
   "cell_type": "code",
   "execution_count": 57,
   "id": "8b82b7b4-341b-4137-926b-722582860977",
   "metadata": {},
   "outputs": [],
   "source": [
    "class Tyres:\n",
    "    \n",
    "    def __init__(self,branch,belted_bias,opt_pressure):\n",
    "        self.branch=branch\n",
    "        self.belted_bias=belted_bias\n",
    "        self.opt_pressure=opt_pressure\n",
    "        \n",
    "    def __str__(self):\n",
    "        return (\"Tyres: \\n \\tBranch\" + self.branch +\n",
    "                \"\\n \\t Belted_bias\" + str(self.belted_bias) +\n",
    "                \"\\n \\t optimal pressure\" + str(self.opt_pressure))\n",
    "    \n",
    "class Engine:\n",
    "    def __init__(self,fuel_type,noise_level):\n",
    "        self.fuel_type=fuel_type\n",
    "        self.noise_level=noise_level\n",
    "        \n",
    "    def __str__(self):\n",
    "        return (\"Engine: \\n \\t fuel type\" + self.fuel_type +\n",
    "                \"\\n \\t Noise level:\" + str(self.noise_level))\n",
    "    \n",
    "class Body:\n",
    "    def __init__(self,size):\n",
    "        self.size=size\n",
    "        \n",
    "    def __str__(self):\n",
    "        return (\"Body: \\n \\t size:\" + self.size)\n",
    "    \n",
    "class Car:\n",
    "    \n",
    "    def __init__(self,tyres,engine,body):\n",
    "        \n",
    "        self.tyres=tyres\n",
    "        self.engine=engine\n",
    "        self.body=body\n",
    "        \n",
    "    def __str__(self):\n",
    "        return(str(self.tyres) + \"\\n\" + str(self.engine) + \"\\n\" + str(self.body))\n",
    "    "
   ]
  },
  {
   "cell_type": "code",
   "execution_count": 58,
   "id": "2afdd073-1b4f-48a0-9189-dbf9dd21ae45",
   "metadata": {},
   "outputs": [],
   "source": [
    "t = Tyres(\"jaipur\", True, 2.0)\n",
    "e = Engine(\"Diesel\",3)\n",
    "b = Body(\"medium\")"
   ]
  },
  {
   "cell_type": "code",
   "execution_count": 59,
   "id": "e271f6e0-9d62-496b-be12-c917b33b28c8",
   "metadata": {},
   "outputs": [
    {
     "name": "stdout",
     "output_type": "stream",
     "text": [
      "Tyres: \n",
      " \tBranchjaipur\n",
      " \t Belted_biasTrue\n",
      " \t optimal pressure2.0\n",
      "Engine: \n",
      " \t fuel typeDiesel\n",
      " \t Noise level:3\n",
      "Body: \n",
      " \t size:medium\n"
     ]
    }
   ],
   "source": [
    "c = Car(t,e,b)\n",
    "print(c)"
   ]
  },
  {
   "cell_type": "code",
   "execution_count": 61,
   "id": "56503ca0-303f-4ad6-b081-1356d4be6c03",
   "metadata": {},
   "outputs": [
    {
     "name": "stdout",
     "output_type": "stream",
     "text": [
      "Tyres: \n",
      " \tBranchjaipur\n",
      " \t Belted_biasTrue\n",
      " \t optimal pressure2.0\n"
     ]
    }
   ],
   "source": [
    "print(t)"
   ]
  },
  {
   "cell_type": "code",
   "execution_count": 62,
   "id": "e1ba36fb-9c69-4310-a868-a0dc2eb703ea",
   "metadata": {},
   "outputs": [
    {
     "data": {
      "text/plain": [
       "'jaipur'"
      ]
     },
     "execution_count": 62,
     "metadata": {},
     "output_type": "execute_result"
    }
   ],
   "source": [
    "t.branch"
   ]
  },
  {
   "cell_type": "code",
   "execution_count": 60,
   "id": "f74d57d4-ea00-40bd-8659-3ba7a31b7dea",
   "metadata": {},
   "outputs": [],
   "source": [
    "# this example is called encapsulation which have different classes and we grouped them and made as one we can work independently\n",
    "# in different classes."
   ]
  },
  {
   "cell_type": "code",
   "execution_count": null,
   "id": "d0e33057-1aac-4508-bfbd-1829351e20e2",
   "metadata": {},
   "outputs": [],
   "source": []
  }
 ],
 "metadata": {
  "kernelspec": {
   "display_name": "Python 3 (ipykernel)",
   "language": "python",
   "name": "python3"
  },
  "language_info": {
   "codemirror_mode": {
    "name": "ipython",
    "version": 3
   },
   "file_extension": ".py",
   "mimetype": "text/x-python",
   "name": "python",
   "nbconvert_exporter": "python",
   "pygments_lexer": "ipython3",
   "version": "3.10.6"
  }
 },
 "nbformat": 4,
 "nbformat_minor": 5
}
